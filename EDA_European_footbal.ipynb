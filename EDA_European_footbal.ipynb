{
 "cells": [
  {
   "cell_type": "markdown",
   "id": "1dbe5d50",
   "metadata": {},
   "source": [
    "## IMPORT"
   ]
  },
  {
   "cell_type": "code",
   "execution_count": 1,
   "id": "b66500c9",
   "metadata": {},
   "outputs": [],
   "source": [
    "import pandas as pd\n",
    "import numpy as np\n",
    "import sqlite3\n",
    "import seaborn as sns\n",
    "import matplotlib.pyplot as plt\n",
    "from scipy.stats import norm, boxcox\n",
    "from collections import Counter\n",
    "from sklearn.linear_model import LinearRegression, LogisticRegression\n",
    "from sklearn.metrics import classification_report, confusion_matrix, accuracy_score, mean_squared_error, ConfusionMatrixDisplay, explained_variance_score\n",
    "from sklearn.model_selection import train_test_split, GridSearchCV\n",
    "from sklearn.datasets import make_classification, make_regression\n",
    "from sklearn.preprocessing import StandardScaler, minmax_scale\n",
    "from sklearn.model_selection import cross_val_score\n",
    "from sklearn.neighbors import KNeighborsClassifier\n",
    "from sklearn.ensemble import RandomForestClassifier\n",
    "from sklearn.ensemble import ExtraTreesClassifier\n",
    "from sklearn.svm import SVC, LinearSVR\n",
    "from sklearn import model_selection\n",
    "from sklearn.naive_bayes import GaussianNB\n",
    "from sklearn.multioutput import MultiOutputRegressor\n",
    "\n",
    "import warnings\n",
    "warnings.simplefilter(\"ignore\")"
   ]
  },
  {
   "cell_type": "markdown",
   "id": "4c9d6535",
   "metadata": {},
   "source": [
    "## PLOT"
   ]
  },
  {
   "cell_type": "markdown",
   "id": "28b3824e",
   "metadata": {},
   "source": [
    "#### WHAT'S IN THIS DATASET?"
   ]
  },
  {
   "cell_type": "markdown",
   "id": "8167f727",
   "metadata": {},
   "source": [
    "**The European Football Database for data analysis and machine learning:**\n",
    "\n",
    "* +25,000 matches\n",
    "* +10,000 players\n",
    "* 11 European Countries with their lead championship\n",
    "* Seasons 2008 to 2016\n",
    "* Players and Teams' attributes* sourced from EA Sports' FIFA video game series, including the weekly updates - - Team line up with squad formation (X, Y coordinates)\n",
    "* Betting odds from up to 10 providers\n",
    "* Detailed match events (goal types, possession, corner, cross, fouls, cards etc…) for +10,000 matches"
   ]
  },
  {
   "cell_type": "markdown",
   "id": "169be747",
   "metadata": {},
   "source": [
    "#### OBJECTIVES"
   ]
  },
  {
   "cell_type": "markdown",
   "id": "2501ed97",
   "metadata": {},
   "source": [
    "* Practice identifying opportunities for data analysis, raising hypothesis, and formulating research tasks.\n",
    "* Practice performing EDA, statistical inference, and prediction.\n",
    "* Practice working with SQL datasets.\n",
    "* Practice visualizing data."
   ]
  },
  {
   "cell_type": "markdown",
   "id": "7d041af0",
   "metadata": {},
   "source": [
    "## DATA PREPROCESSING AND CLEANING"
   ]
  },
  {
   "cell_type": "code",
   "execution_count": 12,
   "id": "579f5a93",
   "metadata": {},
   "outputs": [],
   "source": [
    "def title_and_labels(title, x_label, y_label):\n",
    "    ''' Defining fontsize for plots '''\n",
    "    plt.title(title, fontsize=18)\n",
    "    plt.xticks(fontsize=14)\n",
    "    plt.yticks(fontsize=14)\n",
    "    plt.xlabel(x_label, fontsize=16)\n",
    "    plt.ylabel(y_label, fontsize=16)"
   ]
  },
  {
   "cell_type": "code",
   "execution_count": 3,
   "id": "c8e86640",
   "metadata": {},
   "outputs": [],
   "source": [
    "def percentage_of_nulls(dataset):\n",
    "    return dataset.isnull().sum() * 100 / len(dataset)"
   ]
  },
  {
   "cell_type": "code",
   "execution_count": 2,
   "id": "4ccbdd25",
   "metadata": {},
   "outputs": [
    {
     "data": {
      "text/html": [
       "<div>\n",
       "<style scoped>\n",
       "    .dataframe tbody tr th:only-of-type {\n",
       "        vertical-align: middle;\n",
       "    }\n",
       "\n",
       "    .dataframe tbody tr th {\n",
       "        vertical-align: top;\n",
       "    }\n",
       "\n",
       "    .dataframe thead th {\n",
       "        text-align: right;\n",
       "    }\n",
       "</style>\n",
       "<table border=\"1\" class=\"dataframe\">\n",
       "  <thead>\n",
       "    <tr style=\"text-align: right;\">\n",
       "      <th></th>\n",
       "      <th>name</th>\n",
       "    </tr>\n",
       "  </thead>\n",
       "  <tbody>\n",
       "    <tr>\n",
       "      <th>0</th>\n",
       "      <td>sqlite_sequence</td>\n",
       "    </tr>\n",
       "    <tr>\n",
       "      <th>1</th>\n",
       "      <td>Player_Attributes</td>\n",
       "    </tr>\n",
       "    <tr>\n",
       "      <th>2</th>\n",
       "      <td>Player</td>\n",
       "    </tr>\n",
       "    <tr>\n",
       "      <th>3</th>\n",
       "      <td>Match</td>\n",
       "    </tr>\n",
       "    <tr>\n",
       "      <th>4</th>\n",
       "      <td>League</td>\n",
       "    </tr>\n",
       "    <tr>\n",
       "      <th>5</th>\n",
       "      <td>Country</td>\n",
       "    </tr>\n",
       "    <tr>\n",
       "      <th>6</th>\n",
       "      <td>Team</td>\n",
       "    </tr>\n",
       "    <tr>\n",
       "      <th>7</th>\n",
       "      <td>Team_Attributes</td>\n",
       "    </tr>\n",
       "  </tbody>\n",
       "</table>\n",
       "</div>"
      ],
      "text/plain": [
       "                name\n",
       "0    sqlite_sequence\n",
       "1  Player_Attributes\n",
       "2             Player\n",
       "3              Match\n",
       "4             League\n",
       "5            Country\n",
       "6               Team\n",
       "7    Team_Attributes"
      ]
     },
     "execution_count": 2,
     "metadata": {},
     "output_type": "execute_result"
    }
   ],
   "source": [
    "# connect the dataset and list available tables inside dataset\n",
    "con = sqlite3.connect(\"database.sqlite\")\n",
    "\n",
    "pd.read_sql('''SELECT name\n",
    "               FROM sqlite_master\n",
    "               WHERE type = 'table'\n",
    "               ;''', con)"
   ]
  },
  {
   "cell_type": "markdown",
   "id": "2e730936",
   "metadata": {},
   "source": [
    "There are 7 different tables in total with various information for players, its attributes, team and its attributes, countries, leagues and matches."
   ]
  },
  {
   "cell_type": "code",
   "execution_count": 3,
   "id": "fe814278",
   "metadata": {},
   "outputs": [],
   "source": [
    "sqlite_seq_df = pd.read_sql_query('SELECT * FROM sqlite_sequence', con)\n",
    "player_att_df = pd.read_sql_query('SELECT * FROM Player_Attributes', con)\n",
    "player_df = pd.read_sql_query('SELECT * FROM Player', con)\n",
    "match_df = pd.read_sql_query('SELECT * FROM Match', con)\n",
    "league_df = pd.read_sql_query('SELECT * FROM League', con)\n",
    "country_df = pd.read_sql_query('SELECT * FROM Country', con)\n",
    "team_df = pd.read_sql_query('SELECT * FROM Team', con)\n",
    "team_att_df = pd.read_sql_query('SELECT * FROM Team_Attributes', con)"
   ]
  },
  {
   "cell_type": "markdown",
   "id": "9349d8e0",
   "metadata": {},
   "source": [
    "## Countries"
   ]
  },
  {
   "cell_type": "markdown",
   "id": "52ab45e0",
   "metadata": {},
   "source": [
    "There are teams of 10 different countries"
   ]
  },
  {
   "cell_type": "code",
   "execution_count": 4,
   "id": "0e65df44",
   "metadata": {},
   "outputs": [
    {
     "data": {
      "text/html": [
       "<div>\n",
       "<style scoped>\n",
       "    .dataframe tbody tr th:only-of-type {\n",
       "        vertical-align: middle;\n",
       "    }\n",
       "\n",
       "    .dataframe tbody tr th {\n",
       "        vertical-align: top;\n",
       "    }\n",
       "\n",
       "    .dataframe thead th {\n",
       "        text-align: right;\n",
       "    }\n",
       "</style>\n",
       "<table border=\"1\" class=\"dataframe\">\n",
       "  <thead>\n",
       "    <tr style=\"text-align: right;\">\n",
       "      <th></th>\n",
       "      <th>id</th>\n",
       "      <th>name</th>\n",
       "    </tr>\n",
       "  </thead>\n",
       "  <tbody>\n",
       "    <tr>\n",
       "      <th>0</th>\n",
       "      <td>1</td>\n",
       "      <td>Belgium</td>\n",
       "    </tr>\n",
       "    <tr>\n",
       "      <th>1</th>\n",
       "      <td>1729</td>\n",
       "      <td>England</td>\n",
       "    </tr>\n",
       "    <tr>\n",
       "      <th>2</th>\n",
       "      <td>4769</td>\n",
       "      <td>France</td>\n",
       "    </tr>\n",
       "    <tr>\n",
       "      <th>3</th>\n",
       "      <td>7809</td>\n",
       "      <td>Germany</td>\n",
       "    </tr>\n",
       "    <tr>\n",
       "      <th>4</th>\n",
       "      <td>10257</td>\n",
       "      <td>Italy</td>\n",
       "    </tr>\n",
       "    <tr>\n",
       "      <th>5</th>\n",
       "      <td>13274</td>\n",
       "      <td>Netherlands</td>\n",
       "    </tr>\n",
       "    <tr>\n",
       "      <th>6</th>\n",
       "      <td>15722</td>\n",
       "      <td>Poland</td>\n",
       "    </tr>\n",
       "    <tr>\n",
       "      <th>7</th>\n",
       "      <td>17642</td>\n",
       "      <td>Portugal</td>\n",
       "    </tr>\n",
       "    <tr>\n",
       "      <th>8</th>\n",
       "      <td>19694</td>\n",
       "      <td>Scotland</td>\n",
       "    </tr>\n",
       "    <tr>\n",
       "      <th>9</th>\n",
       "      <td>21518</td>\n",
       "      <td>Spain</td>\n",
       "    </tr>\n",
       "    <tr>\n",
       "      <th>10</th>\n",
       "      <td>24558</td>\n",
       "      <td>Switzerland</td>\n",
       "    </tr>\n",
       "  </tbody>\n",
       "</table>\n",
       "</div>"
      ],
      "text/plain": [
       "       id         name\n",
       "0       1      Belgium\n",
       "1    1729      England\n",
       "2    4769       France\n",
       "3    7809      Germany\n",
       "4   10257        Italy\n",
       "5   13274  Netherlands\n",
       "6   15722       Poland\n",
       "7   17642     Portugal\n",
       "8   19694     Scotland\n",
       "9   21518        Spain\n",
       "10  24558  Switzerland"
      ]
     },
     "execution_count": 4,
     "metadata": {},
     "output_type": "execute_result"
    }
   ],
   "source": [
    "country_df = pd.read_sql('''SELECT *\n",
    "                           FROM Country\n",
    "                           ;''', con)\n",
    "country_df"
   ]
  },
  {
   "cell_type": "markdown",
   "id": "480d6df0",
   "metadata": {},
   "source": [
    "## Leagues"
   ]
  },
  {
   "cell_type": "markdown",
   "id": "f2549cec",
   "metadata": {},
   "source": [
    "10 different Leagues are present"
   ]
  },
  {
   "cell_type": "code",
   "execution_count": 7,
   "id": "0b24cbd7",
   "metadata": {},
   "outputs": [
    {
     "data": {
      "text/html": [
       "<div>\n",
       "<style scoped>\n",
       "    .dataframe tbody tr th:only-of-type {\n",
       "        vertical-align: middle;\n",
       "    }\n",
       "\n",
       "    .dataframe tbody tr th {\n",
       "        vertical-align: top;\n",
       "    }\n",
       "\n",
       "    .dataframe thead th {\n",
       "        text-align: right;\n",
       "    }\n",
       "</style>\n",
       "<table border=\"1\" class=\"dataframe\">\n",
       "  <thead>\n",
       "    <tr style=\"text-align: right;\">\n",
       "      <th></th>\n",
       "      <th>id</th>\n",
       "      <th>country_id</th>\n",
       "      <th>name</th>\n",
       "    </tr>\n",
       "  </thead>\n",
       "  <tbody>\n",
       "    <tr>\n",
       "      <th>0</th>\n",
       "      <td>1</td>\n",
       "      <td>1</td>\n",
       "      <td>Belgium Jupiler League</td>\n",
       "    </tr>\n",
       "    <tr>\n",
       "      <th>1</th>\n",
       "      <td>1729</td>\n",
       "      <td>1729</td>\n",
       "      <td>England Premier League</td>\n",
       "    </tr>\n",
       "    <tr>\n",
       "      <th>2</th>\n",
       "      <td>4769</td>\n",
       "      <td>4769</td>\n",
       "      <td>France Ligue 1</td>\n",
       "    </tr>\n",
       "    <tr>\n",
       "      <th>3</th>\n",
       "      <td>7809</td>\n",
       "      <td>7809</td>\n",
       "      <td>Germany 1. Bundesliga</td>\n",
       "    </tr>\n",
       "    <tr>\n",
       "      <th>4</th>\n",
       "      <td>10257</td>\n",
       "      <td>10257</td>\n",
       "      <td>Italy Serie A</td>\n",
       "    </tr>\n",
       "    <tr>\n",
       "      <th>5</th>\n",
       "      <td>13274</td>\n",
       "      <td>13274</td>\n",
       "      <td>Netherlands Eredivisie</td>\n",
       "    </tr>\n",
       "    <tr>\n",
       "      <th>6</th>\n",
       "      <td>15722</td>\n",
       "      <td>15722</td>\n",
       "      <td>Poland Ekstraklasa</td>\n",
       "    </tr>\n",
       "    <tr>\n",
       "      <th>7</th>\n",
       "      <td>17642</td>\n",
       "      <td>17642</td>\n",
       "      <td>Portugal Liga ZON Sagres</td>\n",
       "    </tr>\n",
       "    <tr>\n",
       "      <th>8</th>\n",
       "      <td>19694</td>\n",
       "      <td>19694</td>\n",
       "      <td>Scotland Premier League</td>\n",
       "    </tr>\n",
       "    <tr>\n",
       "      <th>9</th>\n",
       "      <td>21518</td>\n",
       "      <td>21518</td>\n",
       "      <td>Spain LIGA BBVA</td>\n",
       "    </tr>\n",
       "    <tr>\n",
       "      <th>10</th>\n",
       "      <td>24558</td>\n",
       "      <td>24558</td>\n",
       "      <td>Switzerland Super League</td>\n",
       "    </tr>\n",
       "  </tbody>\n",
       "</table>\n",
       "</div>"
      ],
      "text/plain": [
       "       id  country_id                      name\n",
       "0       1           1    Belgium Jupiler League\n",
       "1    1729        1729    England Premier League\n",
       "2    4769        4769            France Ligue 1\n",
       "3    7809        7809     Germany 1. Bundesliga\n",
       "4   10257       10257             Italy Serie A\n",
       "5   13274       13274    Netherlands Eredivisie\n",
       "6   15722       15722        Poland Ekstraklasa\n",
       "7   17642       17642  Portugal Liga ZON Sagres\n",
       "8   19694       19694   Scotland Premier League\n",
       "9   21518       21518           Spain LIGA BBVA\n",
       "10  24558       24558  Switzerland Super League"
      ]
     },
     "execution_count": 7,
     "metadata": {},
     "output_type": "execute_result"
    }
   ],
   "source": [
    "league_df = pd.read_sql_query('''SELECT * \n",
    "                                 FROM League\n",
    "                                 ;''', con)\n",
    "\n",
    "league_df"
   ]
  },
  {
   "cell_type": "markdown",
   "id": "d0a80bf3",
   "metadata": {},
   "source": [
    "## Teams"
   ]
  },
  {
   "cell_type": "markdown",
   "id": "cdcec43d",
   "metadata": {},
   "source": [
    "There are 299 teams throughout this dataset"
   ]
  },
  {
   "cell_type": "code",
   "execution_count": 5,
   "id": "61ab0e1f",
   "metadata": {},
   "outputs": [
    {
     "data": {
      "text/html": [
       "<div>\n",
       "<style scoped>\n",
       "    .dataframe tbody tr th:only-of-type {\n",
       "        vertical-align: middle;\n",
       "    }\n",
       "\n",
       "    .dataframe tbody tr th {\n",
       "        vertical-align: top;\n",
       "    }\n",
       "\n",
       "    .dataframe thead th {\n",
       "        text-align: right;\n",
       "    }\n",
       "</style>\n",
       "<table border=\"1\" class=\"dataframe\">\n",
       "  <thead>\n",
       "    <tr style=\"text-align: right;\">\n",
       "      <th></th>\n",
       "      <th>id</th>\n",
       "      <th>team_api_id</th>\n",
       "      <th>team_fifa_api_id</th>\n",
       "      <th>team_long_name</th>\n",
       "      <th>team_short_name</th>\n",
       "    </tr>\n",
       "  </thead>\n",
       "  <tbody>\n",
       "    <tr>\n",
       "      <th>0</th>\n",
       "      <td>1</td>\n",
       "      <td>9987</td>\n",
       "      <td>673.0</td>\n",
       "      <td>KRC Genk</td>\n",
       "      <td>GEN</td>\n",
       "    </tr>\n",
       "    <tr>\n",
       "      <th>1</th>\n",
       "      <td>2</td>\n",
       "      <td>9993</td>\n",
       "      <td>675.0</td>\n",
       "      <td>Beerschot AC</td>\n",
       "      <td>BAC</td>\n",
       "    </tr>\n",
       "    <tr>\n",
       "      <th>2</th>\n",
       "      <td>3</td>\n",
       "      <td>10000</td>\n",
       "      <td>15005.0</td>\n",
       "      <td>SV Zulte-Waregem</td>\n",
       "      <td>ZUL</td>\n",
       "    </tr>\n",
       "    <tr>\n",
       "      <th>3</th>\n",
       "      <td>4</td>\n",
       "      <td>9994</td>\n",
       "      <td>2007.0</td>\n",
       "      <td>Sporting Lokeren</td>\n",
       "      <td>LOK</td>\n",
       "    </tr>\n",
       "    <tr>\n",
       "      <th>4</th>\n",
       "      <td>5</td>\n",
       "      <td>9984</td>\n",
       "      <td>1750.0</td>\n",
       "      <td>KSV Cercle Brugge</td>\n",
       "      <td>CEB</td>\n",
       "    </tr>\n",
       "    <tr>\n",
       "      <th>...</th>\n",
       "      <td>...</td>\n",
       "      <td>...</td>\n",
       "      <td>...</td>\n",
       "      <td>...</td>\n",
       "      <td>...</td>\n",
       "    </tr>\n",
       "    <tr>\n",
       "      <th>294</th>\n",
       "      <td>49479</td>\n",
       "      <td>10190</td>\n",
       "      <td>898.0</td>\n",
       "      <td>FC St. Gallen</td>\n",
       "      <td>GAL</td>\n",
       "    </tr>\n",
       "    <tr>\n",
       "      <th>295</th>\n",
       "      <td>49837</td>\n",
       "      <td>10191</td>\n",
       "      <td>1715.0</td>\n",
       "      <td>FC Thun</td>\n",
       "      <td>THU</td>\n",
       "    </tr>\n",
       "    <tr>\n",
       "      <th>296</th>\n",
       "      <td>50201</td>\n",
       "      <td>9777</td>\n",
       "      <td>324.0</td>\n",
       "      <td>Servette FC</td>\n",
       "      <td>SER</td>\n",
       "    </tr>\n",
       "    <tr>\n",
       "      <th>297</th>\n",
       "      <td>50204</td>\n",
       "      <td>7730</td>\n",
       "      <td>1862.0</td>\n",
       "      <td>FC Lausanne-Sports</td>\n",
       "      <td>LAU</td>\n",
       "    </tr>\n",
       "    <tr>\n",
       "      <th>298</th>\n",
       "      <td>51606</td>\n",
       "      <td>7896</td>\n",
       "      <td>NaN</td>\n",
       "      <td>Lugano</td>\n",
       "      <td>LUG</td>\n",
       "    </tr>\n",
       "  </tbody>\n",
       "</table>\n",
       "<p>299 rows × 5 columns</p>\n",
       "</div>"
      ],
      "text/plain": [
       "        id  team_api_id  team_fifa_api_id      team_long_name team_short_name\n",
       "0        1         9987             673.0            KRC Genk             GEN\n",
       "1        2         9993             675.0        Beerschot AC             BAC\n",
       "2        3        10000           15005.0    SV Zulte-Waregem             ZUL\n",
       "3        4         9994            2007.0    Sporting Lokeren             LOK\n",
       "4        5         9984            1750.0   KSV Cercle Brugge             CEB\n",
       "..     ...          ...               ...                 ...             ...\n",
       "294  49479        10190             898.0       FC St. Gallen             GAL\n",
       "295  49837        10191            1715.0             FC Thun             THU\n",
       "296  50201         9777             324.0         Servette FC             SER\n",
       "297  50204         7730            1862.0  FC Lausanne-Sports             LAU\n",
       "298  51606         7896               NaN              Lugano             LUG\n",
       "\n",
       "[299 rows x 5 columns]"
      ]
     },
     "execution_count": 5,
     "metadata": {},
     "output_type": "execute_result"
    }
   ],
   "source": [
    "team_df = pd.read_sql_query('''SELECT * \n",
    "                               FROM Team\n",
    "                               ;''', con)\n",
    "\n",
    "team_df"
   ]
  },
  {
   "cell_type": "markdown",
   "id": "46f6fd75",
   "metadata": {},
   "source": [
    "Let's check if there are any duplicates here"
   ]
  },
  {
   "cell_type": "code",
   "execution_count": 9,
   "id": "13ed4c7c",
   "metadata": {},
   "outputs": [
    {
     "name": "stdout",
     "output_type": "stream",
     "text": [
      "Number of dublicates: 0\n",
      "Amount of total: 0.0%\n"
     ]
    }
   ],
   "source": [
    "print(f'Number of dublicates: {team_df.duplicated().sum()}\\nAmount of total: {round(team_df.duplicated().sum()/len(team_df)*100, 2)}%')"
   ]
  },
  {
   "cell_type": "code",
   "execution_count": 10,
   "id": "803016b5",
   "metadata": {},
   "outputs": [
    {
     "data": {
      "text/plain": [
       "id                  0.00000\n",
       "team_api_id         0.00000\n",
       "team_fifa_api_id    3.67893\n",
       "team_long_name      0.00000\n",
       "team_short_name     0.00000\n",
       "dtype: float64"
      ]
     },
     "execution_count": 10,
     "metadata": {},
     "output_type": "execute_result"
    }
   ],
   "source": [
    "# percentage of null values\n",
    "percentage_of_nulls(team_df)"
   ]
  },
  {
   "cell_type": "markdown",
   "id": "46f909c6",
   "metadata": {},
   "source": [
    "There are some null values in `team_fifa_api_id` field, but we'll use `team_api_id` to join tables instead, thus we may drop this column."
   ]
  },
  {
   "cell_type": "code",
   "execution_count": 11,
   "id": "80a83963",
   "metadata": {},
   "outputs": [],
   "source": [
    "team_df.drop(columns=['team_fifa_api_id'], inplace=True)"
   ]
  },
  {
   "cell_type": "markdown",
   "id": "95b24524",
   "metadata": {},
   "source": [
    "## Players"
   ]
  },
  {
   "cell_type": "code",
   "execution_count": 6,
   "id": "4f372278",
   "metadata": {},
   "outputs": [
    {
     "data": {
      "text/html": [
       "<div>\n",
       "<style scoped>\n",
       "    .dataframe tbody tr th:only-of-type {\n",
       "        vertical-align: middle;\n",
       "    }\n",
       "\n",
       "    .dataframe tbody tr th {\n",
       "        vertical-align: top;\n",
       "    }\n",
       "\n",
       "    .dataframe thead th {\n",
       "        text-align: right;\n",
       "    }\n",
       "</style>\n",
       "<table border=\"1\" class=\"dataframe\">\n",
       "  <thead>\n",
       "    <tr style=\"text-align: right;\">\n",
       "      <th></th>\n",
       "      <th>id</th>\n",
       "      <th>player_api_id</th>\n",
       "      <th>player_name</th>\n",
       "      <th>player_fifa_api_id</th>\n",
       "      <th>birthday</th>\n",
       "      <th>height</th>\n",
       "      <th>weight</th>\n",
       "    </tr>\n",
       "  </thead>\n",
       "  <tbody>\n",
       "    <tr>\n",
       "      <th>0</th>\n",
       "      <td>1</td>\n",
       "      <td>505942</td>\n",
       "      <td>Aaron Appindangoye</td>\n",
       "      <td>218353</td>\n",
       "      <td>1992-02-29 00:00:00</td>\n",
       "      <td>182.88</td>\n",
       "      <td>187</td>\n",
       "    </tr>\n",
       "    <tr>\n",
       "      <th>1</th>\n",
       "      <td>2</td>\n",
       "      <td>155782</td>\n",
       "      <td>Aaron Cresswell</td>\n",
       "      <td>189615</td>\n",
       "      <td>1989-12-15 00:00:00</td>\n",
       "      <td>170.18</td>\n",
       "      <td>146</td>\n",
       "    </tr>\n",
       "    <tr>\n",
       "      <th>2</th>\n",
       "      <td>3</td>\n",
       "      <td>162549</td>\n",
       "      <td>Aaron Doran</td>\n",
       "      <td>186170</td>\n",
       "      <td>1991-05-13 00:00:00</td>\n",
       "      <td>170.18</td>\n",
       "      <td>163</td>\n",
       "    </tr>\n",
       "    <tr>\n",
       "      <th>3</th>\n",
       "      <td>4</td>\n",
       "      <td>30572</td>\n",
       "      <td>Aaron Galindo</td>\n",
       "      <td>140161</td>\n",
       "      <td>1982-05-08 00:00:00</td>\n",
       "      <td>182.88</td>\n",
       "      <td>198</td>\n",
       "    </tr>\n",
       "    <tr>\n",
       "      <th>4</th>\n",
       "      <td>5</td>\n",
       "      <td>23780</td>\n",
       "      <td>Aaron Hughes</td>\n",
       "      <td>17725</td>\n",
       "      <td>1979-11-08 00:00:00</td>\n",
       "      <td>182.88</td>\n",
       "      <td>154</td>\n",
       "    </tr>\n",
       "  </tbody>\n",
       "</table>\n",
       "</div>"
      ],
      "text/plain": [
       "   id  player_api_id         player_name  player_fifa_api_id  \\\n",
       "0   1         505942  Aaron Appindangoye              218353   \n",
       "1   2         155782     Aaron Cresswell              189615   \n",
       "2   3         162549         Aaron Doran              186170   \n",
       "3   4          30572       Aaron Galindo              140161   \n",
       "4   5          23780        Aaron Hughes               17725   \n",
       "\n",
       "              birthday  height  weight  \n",
       "0  1992-02-29 00:00:00  182.88     187  \n",
       "1  1989-12-15 00:00:00  170.18     146  \n",
       "2  1991-05-13 00:00:00  170.18     163  \n",
       "3  1982-05-08 00:00:00  182.88     198  \n",
       "4  1979-11-08 00:00:00  182.88     154  "
      ]
     },
     "execution_count": 6,
     "metadata": {},
     "output_type": "execute_result"
    }
   ],
   "source": [
    "player_df = pd.read_sql_query('''SELECT * \n",
    "                                 FROM Player\n",
    "                                 ;''', con)\n",
    "\n",
    "player_df.head()"
   ]
  },
  {
   "cell_type": "code",
   "execution_count": 13,
   "id": "b68a4144",
   "metadata": {},
   "outputs": [
    {
     "name": "stdout",
     "output_type": "stream",
     "text": [
      "Number of dublicates: 0\n",
      "Amount of total: 0.0%\n"
     ]
    }
   ],
   "source": [
    "print(f'Number of dublicates: {player_df.duplicated().sum()}\\nAmount of total: {round(player_df.duplicated().sum()/len(player_df)*100, 2)}%')"
   ]
  },
  {
   "cell_type": "code",
   "execution_count": 14,
   "id": "483d1429",
   "metadata": {},
   "outputs": [
    {
     "name": "stdout",
     "output_type": "stream",
     "text": [
      "There are total of 11060 players\n"
     ]
    }
   ],
   "source": [
    "no_of_players = len(player_att_df.player_api_id.unique())\n",
    "print(f'There are total of {no_of_players} players')"
   ]
  },
  {
   "cell_type": "code",
   "execution_count": 15,
   "id": "a677432d",
   "metadata": {},
   "outputs": [
    {
     "data": {
      "text/plain": [
       "id                    0.0\n",
       "player_api_id         0.0\n",
       "player_name           0.0\n",
       "player_fifa_api_id    0.0\n",
       "birthday              0.0\n",
       "height                0.0\n",
       "weight                0.0\n",
       "dtype: float64"
      ]
     },
     "execution_count": 15,
     "metadata": {},
     "output_type": "execute_result"
    }
   ],
   "source": [
    "# percentage of null values\n",
    "percentage_of_nulls(player_df)"
   ]
  },
  {
   "cell_type": "markdown",
   "id": "b39c8b73",
   "metadata": {},
   "source": [
    "We'll drop redundant columns `id` and `player_fifa_api_id`, as to identify a player we'll use `player_api_id` as a foreign key."
   ]
  },
  {
   "cell_type": "code",
   "execution_count": 16,
   "id": "6affe962",
   "metadata": {},
   "outputs": [],
   "source": [
    "player_df.drop(columns=['id', 'player_fifa_api_id'], inplace=True)"
   ]
  },
  {
   "cell_type": "markdown",
   "id": "cbbd4578",
   "metadata": {},
   "source": [
    "## Player Attributes"
   ]
  },
  {
   "cell_type": "markdown",
   "id": "4a18e94f",
   "metadata": {
    "variables": {
     "no_of_players": "11060"
    }
   },
   "source": [
    "A big dataset with 183978 instances keeps information about all {{no_of_players}} different players. It presents statistics of every player throughout different periods of his career."
   ]
  },
  {
   "cell_type": "code",
   "execution_count": 7,
   "id": "6dc2d124",
   "metadata": {},
   "outputs": [
    {
     "data": {
      "text/html": [
       "<div>\n",
       "<style scoped>\n",
       "    .dataframe tbody tr th:only-of-type {\n",
       "        vertical-align: middle;\n",
       "    }\n",
       "\n",
       "    .dataframe tbody tr th {\n",
       "        vertical-align: top;\n",
       "    }\n",
       "\n",
       "    .dataframe thead th {\n",
       "        text-align: right;\n",
       "    }\n",
       "</style>\n",
       "<table border=\"1\" class=\"dataframe\">\n",
       "  <thead>\n",
       "    <tr style=\"text-align: right;\">\n",
       "      <th></th>\n",
       "      <th>id</th>\n",
       "      <th>player_fifa_api_id</th>\n",
       "      <th>player_api_id</th>\n",
       "      <th>date</th>\n",
       "      <th>overall_rating</th>\n",
       "      <th>potential</th>\n",
       "      <th>preferred_foot</th>\n",
       "      <th>attacking_work_rate</th>\n",
       "      <th>defensive_work_rate</th>\n",
       "      <th>crossing</th>\n",
       "      <th>...</th>\n",
       "      <th>vision</th>\n",
       "      <th>penalties</th>\n",
       "      <th>marking</th>\n",
       "      <th>standing_tackle</th>\n",
       "      <th>sliding_tackle</th>\n",
       "      <th>gk_diving</th>\n",
       "      <th>gk_handling</th>\n",
       "      <th>gk_kicking</th>\n",
       "      <th>gk_positioning</th>\n",
       "      <th>gk_reflexes</th>\n",
       "    </tr>\n",
       "  </thead>\n",
       "  <tbody>\n",
       "    <tr>\n",
       "      <th>0</th>\n",
       "      <td>1</td>\n",
       "      <td>218353</td>\n",
       "      <td>505942</td>\n",
       "      <td>2016-02-18 00:00:00</td>\n",
       "      <td>67.0</td>\n",
       "      <td>71.0</td>\n",
       "      <td>right</td>\n",
       "      <td>medium</td>\n",
       "      <td>medium</td>\n",
       "      <td>49.0</td>\n",
       "      <td>...</td>\n",
       "      <td>54.0</td>\n",
       "      <td>48.0</td>\n",
       "      <td>65.0</td>\n",
       "      <td>69.0</td>\n",
       "      <td>69.0</td>\n",
       "      <td>6.0</td>\n",
       "      <td>11.0</td>\n",
       "      <td>10.0</td>\n",
       "      <td>8.0</td>\n",
       "      <td>8.0</td>\n",
       "    </tr>\n",
       "    <tr>\n",
       "      <th>1</th>\n",
       "      <td>2</td>\n",
       "      <td>218353</td>\n",
       "      <td>505942</td>\n",
       "      <td>2015-11-19 00:00:00</td>\n",
       "      <td>67.0</td>\n",
       "      <td>71.0</td>\n",
       "      <td>right</td>\n",
       "      <td>medium</td>\n",
       "      <td>medium</td>\n",
       "      <td>49.0</td>\n",
       "      <td>...</td>\n",
       "      <td>54.0</td>\n",
       "      <td>48.0</td>\n",
       "      <td>65.0</td>\n",
       "      <td>69.0</td>\n",
       "      <td>69.0</td>\n",
       "      <td>6.0</td>\n",
       "      <td>11.0</td>\n",
       "      <td>10.0</td>\n",
       "      <td>8.0</td>\n",
       "      <td>8.0</td>\n",
       "    </tr>\n",
       "    <tr>\n",
       "      <th>2</th>\n",
       "      <td>3</td>\n",
       "      <td>218353</td>\n",
       "      <td>505942</td>\n",
       "      <td>2015-09-21 00:00:00</td>\n",
       "      <td>62.0</td>\n",
       "      <td>66.0</td>\n",
       "      <td>right</td>\n",
       "      <td>medium</td>\n",
       "      <td>medium</td>\n",
       "      <td>49.0</td>\n",
       "      <td>...</td>\n",
       "      <td>54.0</td>\n",
       "      <td>48.0</td>\n",
       "      <td>65.0</td>\n",
       "      <td>66.0</td>\n",
       "      <td>69.0</td>\n",
       "      <td>6.0</td>\n",
       "      <td>11.0</td>\n",
       "      <td>10.0</td>\n",
       "      <td>8.0</td>\n",
       "      <td>8.0</td>\n",
       "    </tr>\n",
       "    <tr>\n",
       "      <th>3</th>\n",
       "      <td>4</td>\n",
       "      <td>218353</td>\n",
       "      <td>505942</td>\n",
       "      <td>2015-03-20 00:00:00</td>\n",
       "      <td>61.0</td>\n",
       "      <td>65.0</td>\n",
       "      <td>right</td>\n",
       "      <td>medium</td>\n",
       "      <td>medium</td>\n",
       "      <td>48.0</td>\n",
       "      <td>...</td>\n",
       "      <td>53.0</td>\n",
       "      <td>47.0</td>\n",
       "      <td>62.0</td>\n",
       "      <td>63.0</td>\n",
       "      <td>66.0</td>\n",
       "      <td>5.0</td>\n",
       "      <td>10.0</td>\n",
       "      <td>9.0</td>\n",
       "      <td>7.0</td>\n",
       "      <td>7.0</td>\n",
       "    </tr>\n",
       "    <tr>\n",
       "      <th>4</th>\n",
       "      <td>5</td>\n",
       "      <td>218353</td>\n",
       "      <td>505942</td>\n",
       "      <td>2007-02-22 00:00:00</td>\n",
       "      <td>61.0</td>\n",
       "      <td>65.0</td>\n",
       "      <td>right</td>\n",
       "      <td>medium</td>\n",
       "      <td>medium</td>\n",
       "      <td>48.0</td>\n",
       "      <td>...</td>\n",
       "      <td>53.0</td>\n",
       "      <td>47.0</td>\n",
       "      <td>62.0</td>\n",
       "      <td>63.0</td>\n",
       "      <td>66.0</td>\n",
       "      <td>5.0</td>\n",
       "      <td>10.0</td>\n",
       "      <td>9.0</td>\n",
       "      <td>7.0</td>\n",
       "      <td>7.0</td>\n",
       "    </tr>\n",
       "  </tbody>\n",
       "</table>\n",
       "<p>5 rows × 42 columns</p>\n",
       "</div>"
      ],
      "text/plain": [
       "   id  player_fifa_api_id  player_api_id                 date  overall_rating  \\\n",
       "0   1              218353         505942  2016-02-18 00:00:00            67.0   \n",
       "1   2              218353         505942  2015-11-19 00:00:00            67.0   \n",
       "2   3              218353         505942  2015-09-21 00:00:00            62.0   \n",
       "3   4              218353         505942  2015-03-20 00:00:00            61.0   \n",
       "4   5              218353         505942  2007-02-22 00:00:00            61.0   \n",
       "\n",
       "   potential preferred_foot attacking_work_rate defensive_work_rate  crossing  \\\n",
       "0       71.0          right              medium              medium      49.0   \n",
       "1       71.0          right              medium              medium      49.0   \n",
       "2       66.0          right              medium              medium      49.0   \n",
       "3       65.0          right              medium              medium      48.0   \n",
       "4       65.0          right              medium              medium      48.0   \n",
       "\n",
       "   ...  vision  penalties  marking  standing_tackle  sliding_tackle  \\\n",
       "0  ...    54.0       48.0     65.0             69.0            69.0   \n",
       "1  ...    54.0       48.0     65.0             69.0            69.0   \n",
       "2  ...    54.0       48.0     65.0             66.0            69.0   \n",
       "3  ...    53.0       47.0     62.0             63.0            66.0   \n",
       "4  ...    53.0       47.0     62.0             63.0            66.0   \n",
       "\n",
       "   gk_diving  gk_handling  gk_kicking  gk_positioning  gk_reflexes  \n",
       "0        6.0         11.0        10.0             8.0          8.0  \n",
       "1        6.0         11.0        10.0             8.0          8.0  \n",
       "2        6.0         11.0        10.0             8.0          8.0  \n",
       "3        5.0         10.0         9.0             7.0          7.0  \n",
       "4        5.0         10.0         9.0             7.0          7.0  \n",
       "\n",
       "[5 rows x 42 columns]"
      ]
     },
     "execution_count": 7,
     "metadata": {},
     "output_type": "execute_result"
    }
   ],
   "source": [
    "player_att_df = pd.read_sql_query('''SELECT * \n",
    "                                     FROM Player_Attributes\n",
    "                                     ;''', con)\n",
    "\n",
    "player_att_df.head()"
   ]
  },
  {
   "cell_type": "code",
   "execution_count": 18,
   "id": "9cad6089",
   "metadata": {},
   "outputs": [
    {
     "name": "stdout",
     "output_type": "stream",
     "text": [
      "Number of dublicates: 0\n",
      "Amount of total: 0.0%\n"
     ]
    }
   ],
   "source": [
    "print(f'Number of dublicates: {player_att_df.duplicated().sum()}\\nAmount of total: {round(player_att_df.duplicated().sum()/len(player_att_df)*100, 2)}%')"
   ]
  },
  {
   "cell_type": "code",
   "execution_count": 19,
   "id": "5869095e",
   "metadata": {
    "scrolled": false
   },
   "outputs": [
    {
     "data": {
      "text/plain": [
       "id                     0.000000\n",
       "player_fifa_api_id     0.000000\n",
       "player_api_id          0.000000\n",
       "date                   0.000000\n",
       "overall_rating         0.454402\n",
       "potential              0.454402\n",
       "preferred_foot         0.454402\n",
       "attacking_work_rate    1.755645\n",
       "defensive_work_rate    0.454402\n",
       "crossing               0.454402\n",
       "finishing              0.454402\n",
       "heading_accuracy       0.454402\n",
       "short_passing          0.454402\n",
       "volleys                1.474633\n",
       "dribbling              0.454402\n",
       "curve                  1.474633\n",
       "free_kick_accuracy     0.454402\n",
       "long_passing           0.454402\n",
       "ball_control           0.454402\n",
       "acceleration           0.454402\n",
       "sprint_speed           0.454402\n",
       "agility                1.474633\n",
       "reactions              0.454402\n",
       "balance                1.474633\n",
       "shot_power             0.454402\n",
       "jumping                1.474633\n",
       "stamina                0.454402\n",
       "strength               0.454402\n",
       "long_shots             0.454402\n",
       "aggression             0.454402\n",
       "interceptions          0.454402\n",
       "positioning            0.454402\n",
       "vision                 1.474633\n",
       "penalties              0.454402\n",
       "marking                0.454402\n",
       "standing_tackle        0.454402\n",
       "sliding_tackle         1.474633\n",
       "gk_diving              0.454402\n",
       "gk_handling            0.454402\n",
       "gk_kicking             0.454402\n",
       "gk_positioning         0.454402\n",
       "gk_reflexes            0.454402\n",
       "dtype: float64"
      ]
     },
     "execution_count": 19,
     "metadata": {},
     "output_type": "execute_result"
    }
   ],
   "source": [
    "percentage_of_nulls(player_att_df)"
   ]
  },
  {
   "cell_type": "markdown",
   "id": "8d035893",
   "metadata": {},
   "source": [
    "Interesting, we see that some features has equal amount of Null values. Let's check this out."
   ]
  },
  {
   "cell_type": "code",
   "execution_count": 20,
   "id": "3d68b565",
   "metadata": {},
   "outputs": [
    {
     "data": {
      "text/html": [
       "<div>\n",
       "<style scoped>\n",
       "    .dataframe tbody tr th:only-of-type {\n",
       "        vertical-align: middle;\n",
       "    }\n",
       "\n",
       "    .dataframe tbody tr th {\n",
       "        vertical-align: top;\n",
       "    }\n",
       "\n",
       "    .dataframe thead th {\n",
       "        text-align: right;\n",
       "    }\n",
       "</style>\n",
       "<table border=\"1\" class=\"dataframe\">\n",
       "  <thead>\n",
       "    <tr style=\"text-align: right;\">\n",
       "      <th></th>\n",
       "      <th>id</th>\n",
       "      <th>player_fifa_api_id</th>\n",
       "      <th>player_api_id</th>\n",
       "      <th>date</th>\n",
       "      <th>overall_rating</th>\n",
       "      <th>potential</th>\n",
       "      <th>preferred_foot</th>\n",
       "      <th>attacking_work_rate</th>\n",
       "      <th>defensive_work_rate</th>\n",
       "      <th>crossing</th>\n",
       "      <th>...</th>\n",
       "      <th>vision</th>\n",
       "      <th>penalties</th>\n",
       "      <th>marking</th>\n",
       "      <th>standing_tackle</th>\n",
       "      <th>sliding_tackle</th>\n",
       "      <th>gk_diving</th>\n",
       "      <th>gk_handling</th>\n",
       "      <th>gk_kicking</th>\n",
       "      <th>gk_positioning</th>\n",
       "      <th>gk_reflexes</th>\n",
       "    </tr>\n",
       "  </thead>\n",
       "  <tbody>\n",
       "    <tr>\n",
       "      <th>87620</th>\n",
       "      <td>87621</td>\n",
       "      <td>146462</td>\n",
       "      <td>74739</td>\n",
       "      <td>2007-02-22 00:00:00</td>\n",
       "      <td>NaN</td>\n",
       "      <td>NaN</td>\n",
       "      <td>None</td>\n",
       "      <td>None</td>\n",
       "      <td>None</td>\n",
       "      <td>NaN</td>\n",
       "      <td>...</td>\n",
       "      <td>NaN</td>\n",
       "      <td>NaN</td>\n",
       "      <td>NaN</td>\n",
       "      <td>NaN</td>\n",
       "      <td>NaN</td>\n",
       "      <td>NaN</td>\n",
       "      <td>NaN</td>\n",
       "      <td>NaN</td>\n",
       "      <td>NaN</td>\n",
       "      <td>NaN</td>\n",
       "    </tr>\n",
       "    <tr>\n",
       "      <th>137591</th>\n",
       "      <td>137592</td>\n",
       "      <td>113398</td>\n",
       "      <td>38890</td>\n",
       "      <td>2007-02-22 00:00:00</td>\n",
       "      <td>NaN</td>\n",
       "      <td>NaN</td>\n",
       "      <td>None</td>\n",
       "      <td>None</td>\n",
       "      <td>None</td>\n",
       "      <td>NaN</td>\n",
       "      <td>...</td>\n",
       "      <td>NaN</td>\n",
       "      <td>NaN</td>\n",
       "      <td>NaN</td>\n",
       "      <td>NaN</td>\n",
       "      <td>NaN</td>\n",
       "      <td>NaN</td>\n",
       "      <td>NaN</td>\n",
       "      <td>NaN</td>\n",
       "      <td>NaN</td>\n",
       "      <td>NaN</td>\n",
       "    </tr>\n",
       "    <tr>\n",
       "      <th>77472</th>\n",
       "      <td>77473</td>\n",
       "      <td>171790</td>\n",
       "      <td>22732</td>\n",
       "      <td>2007-08-30 00:00:00</td>\n",
       "      <td>65.0</td>\n",
       "      <td>66.0</td>\n",
       "      <td>right</td>\n",
       "      <td>norm</td>\n",
       "      <td>ormal</td>\n",
       "      <td>58.0</td>\n",
       "      <td>...</td>\n",
       "      <td>NaN</td>\n",
       "      <td>67.0</td>\n",
       "      <td>67.0</td>\n",
       "      <td>64.0</td>\n",
       "      <td>NaN</td>\n",
       "      <td>9.0</td>\n",
       "      <td>23.0</td>\n",
       "      <td>47.0</td>\n",
       "      <td>23.0</td>\n",
       "      <td>23.0</td>\n",
       "    </tr>\n",
       "    <tr>\n",
       "      <th>98398</th>\n",
       "      <td>98399</td>\n",
       "      <td>8998</td>\n",
       "      <td>26621</td>\n",
       "      <td>2008-08-30 00:00:00</td>\n",
       "      <td>63.0</td>\n",
       "      <td>74.0</td>\n",
       "      <td>right</td>\n",
       "      <td>None</td>\n",
       "      <td>_0</td>\n",
       "      <td>43.0</td>\n",
       "      <td>...</td>\n",
       "      <td>NaN</td>\n",
       "      <td>69.0</td>\n",
       "      <td>63.0</td>\n",
       "      <td>76.0</td>\n",
       "      <td>NaN</td>\n",
       "      <td>14.0</td>\n",
       "      <td>22.0</td>\n",
       "      <td>30.0</td>\n",
       "      <td>22.0</td>\n",
       "      <td>22.0</td>\n",
       "    </tr>\n",
       "    <tr>\n",
       "      <th>79299</th>\n",
       "      <td>79300</td>\n",
       "      <td>1742</td>\n",
       "      <td>26123</td>\n",
       "      <td>2008-08-30 00:00:00</td>\n",
       "      <td>74.0</td>\n",
       "      <td>79.0</td>\n",
       "      <td>right</td>\n",
       "      <td>None</td>\n",
       "      <td>_0</td>\n",
       "      <td>43.0</td>\n",
       "      <td>...</td>\n",
       "      <td>NaN</td>\n",
       "      <td>71.0</td>\n",
       "      <td>23.0</td>\n",
       "      <td>21.0</td>\n",
       "      <td>NaN</td>\n",
       "      <td>8.0</td>\n",
       "      <td>21.0</td>\n",
       "      <td>41.0</td>\n",
       "      <td>21.0</td>\n",
       "      <td>21.0</td>\n",
       "    </tr>\n",
       "  </tbody>\n",
       "</table>\n",
       "<p>5 rows × 42 columns</p>\n",
       "</div>"
      ],
      "text/plain": [
       "            id  player_fifa_api_id  player_api_id                 date  \\\n",
       "87620    87621              146462          74739  2007-02-22 00:00:00   \n",
       "137591  137592              113398          38890  2007-02-22 00:00:00   \n",
       "77472    77473              171790          22732  2007-08-30 00:00:00   \n",
       "98398    98399                8998          26621  2008-08-30 00:00:00   \n",
       "79299    79300                1742          26123  2008-08-30 00:00:00   \n",
       "\n",
       "        overall_rating  potential preferred_foot attacking_work_rate  \\\n",
       "87620              NaN        NaN           None                None   \n",
       "137591             NaN        NaN           None                None   \n",
       "77472             65.0       66.0          right                norm   \n",
       "98398             63.0       74.0          right                None   \n",
       "79299             74.0       79.0          right                None   \n",
       "\n",
       "       defensive_work_rate  crossing  ...  vision  penalties  marking  \\\n",
       "87620                 None       NaN  ...     NaN        NaN      NaN   \n",
       "137591                None       NaN  ...     NaN        NaN      NaN   \n",
       "77472                ormal      58.0  ...     NaN       67.0     67.0   \n",
       "98398                   _0      43.0  ...     NaN       69.0     63.0   \n",
       "79299                   _0      43.0  ...     NaN       71.0     23.0   \n",
       "\n",
       "        standing_tackle  sliding_tackle  gk_diving  gk_handling  gk_kicking  \\\n",
       "87620               NaN             NaN        NaN          NaN         NaN   \n",
       "137591              NaN             NaN        NaN          NaN         NaN   \n",
       "77472              64.0             NaN        9.0         23.0        47.0   \n",
       "98398              76.0             NaN       14.0         22.0        30.0   \n",
       "79299              21.0             NaN        8.0         21.0        41.0   \n",
       "\n",
       "        gk_positioning  gk_reflexes  \n",
       "87620              NaN          NaN  \n",
       "137591             NaN          NaN  \n",
       "77472             23.0         23.0  \n",
       "98398             22.0         22.0  \n",
       "79299             21.0         21.0  \n",
       "\n",
       "[5 rows x 42 columns]"
      ]
     },
     "execution_count": 20,
     "metadata": {},
     "output_type": "execute_result"
    }
   ],
   "source": [
    "player_att_df[player_att_df.isna().any(axis=1)].sample(5)"
   ]
  },
  {
   "cell_type": "markdown",
   "id": "e614b8dd",
   "metadata": {},
   "source": [
    "First of all there is at least 4 types of 'no data' markings: **NaN, None, 'None', '_0' and 'o'**\n",
    "\n",
    "So lets equalize no data markings and change all to **NaN**."
   ]
  },
  {
   "cell_type": "code",
   "execution_count": 21,
   "id": "f5b3a217",
   "metadata": {},
   "outputs": [],
   "source": [
    "for i in [None, 'None', '_0', 'o']:\n",
    "    player_att_df.replace({i: np.nan}, inplace=True)"
   ]
  },
  {
   "cell_type": "markdown",
   "id": "ea24b217",
   "metadata": {},
   "source": [
    "Now let's check are there any players with no data throughout all features (except the id features)"
   ]
  },
  {
   "cell_type": "code",
   "execution_count": 22,
   "id": "634044a9",
   "metadata": {},
   "outputs": [
    {
     "data": {
      "text/html": [
       "<div>\n",
       "<style scoped>\n",
       "    .dataframe tbody tr th:only-of-type {\n",
       "        vertical-align: middle;\n",
       "    }\n",
       "\n",
       "    .dataframe tbody tr th {\n",
       "        vertical-align: top;\n",
       "    }\n",
       "\n",
       "    .dataframe thead th {\n",
       "        text-align: right;\n",
       "    }\n",
       "</style>\n",
       "<table border=\"1\" class=\"dataframe\">\n",
       "  <thead>\n",
       "    <tr style=\"text-align: right;\">\n",
       "      <th></th>\n",
       "      <th>id</th>\n",
       "      <th>player_fifa_api_id</th>\n",
       "      <th>player_api_id</th>\n",
       "      <th>date</th>\n",
       "      <th>overall_rating</th>\n",
       "      <th>potential</th>\n",
       "      <th>preferred_foot</th>\n",
       "      <th>attacking_work_rate</th>\n",
       "      <th>defensive_work_rate</th>\n",
       "      <th>crossing</th>\n",
       "      <th>...</th>\n",
       "      <th>vision</th>\n",
       "      <th>penalties</th>\n",
       "      <th>marking</th>\n",
       "      <th>standing_tackle</th>\n",
       "      <th>sliding_tackle</th>\n",
       "      <th>gk_diving</th>\n",
       "      <th>gk_handling</th>\n",
       "      <th>gk_kicking</th>\n",
       "      <th>gk_positioning</th>\n",
       "      <th>gk_reflexes</th>\n",
       "    </tr>\n",
       "  </thead>\n",
       "  <tbody>\n",
       "    <tr>\n",
       "      <th>483</th>\n",
       "      <td>484</td>\n",
       "      <td>33022</td>\n",
       "      <td>31684</td>\n",
       "      <td>2007-02-22 00:00:00</td>\n",
       "      <td>NaN</td>\n",
       "      <td>NaN</td>\n",
       "      <td>NaN</td>\n",
       "      <td>NaN</td>\n",
       "      <td>NaN</td>\n",
       "      <td>NaN</td>\n",
       "      <td>...</td>\n",
       "      <td>NaN</td>\n",
       "      <td>NaN</td>\n",
       "      <td>NaN</td>\n",
       "      <td>NaN</td>\n",
       "      <td>NaN</td>\n",
       "      <td>NaN</td>\n",
       "      <td>NaN</td>\n",
       "      <td>NaN</td>\n",
       "      <td>NaN</td>\n",
       "      <td>NaN</td>\n",
       "    </tr>\n",
       "    <tr>\n",
       "      <th>983</th>\n",
       "      <td>984</td>\n",
       "      <td>111085</td>\n",
       "      <td>29904</td>\n",
       "      <td>2007-02-22 00:00:00</td>\n",
       "      <td>NaN</td>\n",
       "      <td>NaN</td>\n",
       "      <td>NaN</td>\n",
       "      <td>NaN</td>\n",
       "      <td>NaN</td>\n",
       "      <td>NaN</td>\n",
       "      <td>...</td>\n",
       "      <td>NaN</td>\n",
       "      <td>NaN</td>\n",
       "      <td>NaN</td>\n",
       "      <td>NaN</td>\n",
       "      <td>NaN</td>\n",
       "      <td>NaN</td>\n",
       "      <td>NaN</td>\n",
       "      <td>NaN</td>\n",
       "      <td>NaN</td>\n",
       "      <td>NaN</td>\n",
       "    </tr>\n",
       "    <tr>\n",
       "      <th>1752</th>\n",
       "      <td>1753</td>\n",
       "      <td>165740</td>\n",
       "      <td>24159</td>\n",
       "      <td>2007-02-22 00:00:00</td>\n",
       "      <td>NaN</td>\n",
       "      <td>NaN</td>\n",
       "      <td>NaN</td>\n",
       "      <td>NaN</td>\n",
       "      <td>NaN</td>\n",
       "      <td>NaN</td>\n",
       "      <td>...</td>\n",
       "      <td>NaN</td>\n",
       "      <td>NaN</td>\n",
       "      <td>NaN</td>\n",
       "      <td>NaN</td>\n",
       "      <td>NaN</td>\n",
       "      <td>NaN</td>\n",
       "      <td>NaN</td>\n",
       "      <td>NaN</td>\n",
       "      <td>NaN</td>\n",
       "      <td>NaN</td>\n",
       "    </tr>\n",
       "  </tbody>\n",
       "</table>\n",
       "<p>3 rows × 42 columns</p>\n",
       "</div>"
      ],
      "text/plain": [
       "        id  player_fifa_api_id  player_api_id                 date  \\\n",
       "483    484               33022          31684  2007-02-22 00:00:00   \n",
       "983    984              111085          29904  2007-02-22 00:00:00   \n",
       "1752  1753              165740          24159  2007-02-22 00:00:00   \n",
       "\n",
       "      overall_rating  potential preferred_foot attacking_work_rate  \\\n",
       "483              NaN        NaN            NaN                 NaN   \n",
       "983              NaN        NaN            NaN                 NaN   \n",
       "1752             NaN        NaN            NaN                 NaN   \n",
       "\n",
       "     defensive_work_rate  crossing  ...  vision  penalties  marking  \\\n",
       "483                  NaN       NaN  ...     NaN        NaN      NaN   \n",
       "983                  NaN       NaN  ...     NaN        NaN      NaN   \n",
       "1752                 NaN       NaN  ...     NaN        NaN      NaN   \n",
       "\n",
       "      standing_tackle  sliding_tackle  gk_diving  gk_handling  gk_kicking  \\\n",
       "483               NaN             NaN        NaN          NaN         NaN   \n",
       "983               NaN             NaN        NaN          NaN         NaN   \n",
       "1752              NaN             NaN        NaN          NaN         NaN   \n",
       "\n",
       "      gk_positioning  gk_reflexes  \n",
       "483              NaN          NaN  \n",
       "983              NaN          NaN  \n",
       "1752             NaN          NaN  \n",
       "\n",
       "[3 rows x 42 columns]"
      ]
     },
     "execution_count": 22,
     "metadata": {},
     "output_type": "execute_result"
    }
   ],
   "source": [
    "empty_players = player_att_df[player_att_df.iloc[:, 4:].isnull().all(axis=1)]\n",
    "empty_players.head(3)"
   ]
  },
  {
   "cell_type": "code",
   "execution_count": 23,
   "id": "133349a1",
   "metadata": {},
   "outputs": [
    {
     "data": {
      "text/plain": [
       "836"
      ]
     },
     "execution_count": 23,
     "metadata": {},
     "output_type": "execute_result"
    }
   ],
   "source": [
    "len(empty_players)"
   ]
  },
  {
   "cell_type": "markdown",
   "id": "9edf0ec0",
   "metadata": {},
   "source": [
    "We'll drop these rows"
   ]
  },
  {
   "cell_type": "code",
   "execution_count": 24,
   "id": "df9d980f",
   "metadata": {
    "scrolled": false
   },
   "outputs": [],
   "source": [
    "ids_to_drop = player_att_df[player_att_df.iloc[:, 4:].isnull().all(axis=1)].index\n",
    "player_att_df.drop(index=ids_to_drop, inplace=True)"
   ]
  },
  {
   "cell_type": "markdown",
   "id": "10f2eebc",
   "metadata": {},
   "source": [
    "Features `attacking_work_rate` and `defensive_work_rate` should have only values of: **high**, **medium** and **low**, but in reality there is inconsistency in the data.\n",
    "\n",
    "Source: [fifplay.com](https://www.fifplay.com/encyclopedia/work-rate)"
   ]
  },
  {
   "cell_type": "code",
   "execution_count": 25,
   "id": "5c4e88d9",
   "metadata": {},
   "outputs": [
    {
     "data": {
      "text/plain": [
       "medium    125070\n",
       "high       42823\n",
       "low         8569\n",
       "norm         348\n",
       "y            106\n",
       "le           104\n",
       "stoc          89\n",
       "Name: attacking_work_rate, dtype: int64"
      ]
     },
     "execution_count": 25,
     "metadata": {},
     "output_type": "execute_result"
    }
   ],
   "source": [
    "player_att_df.attacking_work_rate.value_counts()"
   ]
  },
  {
   "cell_type": "code",
   "execution_count": 26,
   "id": "16e8732e",
   "metadata": {},
   "outputs": [
    {
     "data": {
      "text/plain": [
       "medium    130846\n",
       "high       27041\n",
       "low        18432\n",
       "1            441\n",
       "ormal        348\n",
       "2            342\n",
       "3            258\n",
       "5            234\n",
       "7            217\n",
       "0            197\n",
       "6            197\n",
       "9            152\n",
       "4            116\n",
       "es           106\n",
       "ean          104\n",
       "tocky         89\n",
       "8             78\n",
       "Name: defensive_work_rate, dtype: int64"
      ]
     },
     "execution_count": 26,
     "metadata": {},
     "output_type": "execute_result"
    }
   ],
   "source": [
    "player_att_df.defensive_work_rate.value_counts()"
   ]
  },
  {
   "cell_type": "markdown",
   "id": "0cce50e0",
   "metadata": {},
   "source": [
    "Since we don't know what values may be hidden behind these meaningless names, and blind guesses may be wrong, there are basically two ways to go about it: either drop it, but lose a certain amount of data, or replace it with NaN and later, if we'll use these features, try to predict the values. Let's do that."
   ]
  },
  {
   "cell_type": "code",
   "execution_count": 27,
   "id": "8c1a0a7e",
   "metadata": {},
   "outputs": [],
   "source": [
    "player_att_df['attacking_work_rate'].replace(to_replace=['norm','y','le','stoc'], value=np.nan, inplace=True)\n",
    "player_att_df['defensive_work_rate'].replace(to_replace=['ormal','1','2','3','4','5','6','7','8','9','0','es','ean','tocky'], value=np.nan, inplace=True)"
   ]
  },
  {
   "cell_type": "code",
   "execution_count": 28,
   "id": "1e9f0e99",
   "metadata": {},
   "outputs": [
    {
     "data": {
      "image/png": "[encoded data removed]",
      "text/plain": [
       "<Figure size 864x288 with 2 Axes>"
      ]
     },
     "metadata": {
      "needs_background": "light"
     },
     "output_type": "display_data"
    }
   ],
   "source": [
    "f, ax = plt.subplots(1,2, figsize=(12, 4))\n",
    "\n",
    "for i, feat in enumerate(['attacking_work_rate', 'defensive_work_rate']):\n",
    "    sns.countplot(x=feat, data=player_att_df, ax=ax[i], color='#1F77B4')"
   ]
  },
  {
   "cell_type": "markdown",
   "id": "44b55b31",
   "metadata": {},
   "source": [
    "So now we'll leave dataset as it is and then later we'll try to predict the missing values."
   ]
  },
  {
   "cell_type": "markdown",
   "id": "c20b5439",
   "metadata": {},
   "source": [
    "<!-- Recheck for null values: -->"
   ]
  },
  {
   "cell_type": "code",
   "execution_count": 29,
   "id": "693d8c4f",
   "metadata": {
    "scrolled": false
   },
   "outputs": [
    {
     "data": {
      "text/plain": [
       "id                     0.000000\n",
       "player_fifa_api_id     0.000000\n",
       "player_api_id          0.000000\n",
       "date                   0.000000\n",
       "overall_rating         0.000000\n",
       "potential              0.000000\n",
       "preferred_foot         0.000000\n",
       "attacking_work_rate    3.647443\n",
       "defensive_work_rate    3.725524\n",
       "crossing               0.000000\n",
       "finishing              0.000000\n",
       "heading_accuracy       0.000000\n",
       "short_passing          0.000000\n",
       "volleys                1.024888\n",
       "dribbling              0.000000\n",
       "curve                  1.024888\n",
       "free_kick_accuracy     0.000000\n",
       "long_passing           0.000000\n",
       "ball_control           0.000000\n",
       "acceleration           0.000000\n",
       "sprint_speed           0.000000\n",
       "agility                1.024888\n",
       "reactions              0.000000\n",
       "balance                1.024888\n",
       "shot_power             0.000000\n",
       "jumping                1.024888\n",
       "stamina                0.000000\n",
       "strength               0.000000\n",
       "long_shots             0.000000\n",
       "aggression             0.000000\n",
       "interceptions          0.000000\n",
       "positioning            0.000000\n",
       "vision                 1.024888\n",
       "penalties              0.000000\n",
       "marking                0.000000\n",
       "standing_tackle        0.000000\n",
       "sliding_tackle         1.024888\n",
       "gk_diving              0.000000\n",
       "gk_handling            0.000000\n",
       "gk_kicking             0.000000\n",
       "gk_positioning         0.000000\n",
       "gk_reflexes            0.000000\n",
       "dtype: float64"
      ]
     },
     "execution_count": 29,
     "metadata": {},
     "output_type": "execute_result"
    }
   ],
   "source": [
    "percentage_of_nulls(player_att_df)"
   ]
  },
  {
   "cell_type": "markdown",
   "id": "8dce9507",
   "metadata": {},
   "source": [
    "## Team attributes"
   ]
  },
  {
   "cell_type": "markdown",
   "id": "678b7b7a",
   "metadata": {},
   "source": [
    "Table for team attribute data. It presents statistics of teams throughout different periods of time."
   ]
  },
  {
   "cell_type": "code",
   "execution_count": 30,
   "id": "302325aa",
   "metadata": {},
   "outputs": [
    {
     "data": {
      "text/html": [
       "<div>\n",
       "<style scoped>\n",
       "    .dataframe tbody tr th:only-of-type {\n",
       "        vertical-align: middle;\n",
       "    }\n",
       "\n",
       "    .dataframe tbody tr th {\n",
       "        vertical-align: top;\n",
       "    }\n",
       "\n",
       "    .dataframe thead th {\n",
       "        text-align: right;\n",
       "    }\n",
       "</style>\n",
       "<table border=\"1\" class=\"dataframe\">\n",
       "  <thead>\n",
       "    <tr style=\"text-align: right;\">\n",
       "      <th></th>\n",
       "      <th>id</th>\n",
       "      <th>team_fifa_api_id</th>\n",
       "      <th>team_api_id</th>\n",
       "      <th>date</th>\n",
       "      <th>buildUpPlaySpeed</th>\n",
       "      <th>buildUpPlaySpeedClass</th>\n",
       "      <th>buildUpPlayDribbling</th>\n",
       "      <th>buildUpPlayDribblingClass</th>\n",
       "      <th>buildUpPlayPassing</th>\n",
       "      <th>buildUpPlayPassingClass</th>\n",
       "      <th>...</th>\n",
       "      <th>chanceCreationShooting</th>\n",
       "      <th>chanceCreationShootingClass</th>\n",
       "      <th>chanceCreationPositioningClass</th>\n",
       "      <th>defencePressure</th>\n",
       "      <th>defencePressureClass</th>\n",
       "      <th>defenceAggression</th>\n",
       "      <th>defenceAggressionClass</th>\n",
       "      <th>defenceTeamWidth</th>\n",
       "      <th>defenceTeamWidthClass</th>\n",
       "      <th>defenceDefenderLineClass</th>\n",
       "    </tr>\n",
       "  </thead>\n",
       "  <tbody>\n",
       "    <tr>\n",
       "      <th>0</th>\n",
       "      <td>1</td>\n",
       "      <td>434</td>\n",
       "      <td>9930</td>\n",
       "      <td>2010-02-22 00:00:00</td>\n",
       "      <td>60</td>\n",
       "      <td>Balanced</td>\n",
       "      <td>NaN</td>\n",
       "      <td>Little</td>\n",
       "      <td>50</td>\n",
       "      <td>Mixed</td>\n",
       "      <td>...</td>\n",
       "      <td>55</td>\n",
       "      <td>Normal</td>\n",
       "      <td>Organised</td>\n",
       "      <td>50</td>\n",
       "      <td>Medium</td>\n",
       "      <td>55</td>\n",
       "      <td>Press</td>\n",
       "      <td>45</td>\n",
       "      <td>Normal</td>\n",
       "      <td>Cover</td>\n",
       "    </tr>\n",
       "    <tr>\n",
       "      <th>1</th>\n",
       "      <td>2</td>\n",
       "      <td>434</td>\n",
       "      <td>9930</td>\n",
       "      <td>2014-09-19 00:00:00</td>\n",
       "      <td>52</td>\n",
       "      <td>Balanced</td>\n",
       "      <td>48.0</td>\n",
       "      <td>Normal</td>\n",
       "      <td>56</td>\n",
       "      <td>Mixed</td>\n",
       "      <td>...</td>\n",
       "      <td>64</td>\n",
       "      <td>Normal</td>\n",
       "      <td>Organised</td>\n",
       "      <td>47</td>\n",
       "      <td>Medium</td>\n",
       "      <td>44</td>\n",
       "      <td>Press</td>\n",
       "      <td>54</td>\n",
       "      <td>Normal</td>\n",
       "      <td>Cover</td>\n",
       "    </tr>\n",
       "    <tr>\n",
       "      <th>2</th>\n",
       "      <td>3</td>\n",
       "      <td>434</td>\n",
       "      <td>9930</td>\n",
       "      <td>2015-09-10 00:00:00</td>\n",
       "      <td>47</td>\n",
       "      <td>Balanced</td>\n",
       "      <td>41.0</td>\n",
       "      <td>Normal</td>\n",
       "      <td>54</td>\n",
       "      <td>Mixed</td>\n",
       "      <td>...</td>\n",
       "      <td>64</td>\n",
       "      <td>Normal</td>\n",
       "      <td>Organised</td>\n",
       "      <td>47</td>\n",
       "      <td>Medium</td>\n",
       "      <td>44</td>\n",
       "      <td>Press</td>\n",
       "      <td>54</td>\n",
       "      <td>Normal</td>\n",
       "      <td>Cover</td>\n",
       "    </tr>\n",
       "    <tr>\n",
       "      <th>3</th>\n",
       "      <td>4</td>\n",
       "      <td>77</td>\n",
       "      <td>8485</td>\n",
       "      <td>2010-02-22 00:00:00</td>\n",
       "      <td>70</td>\n",
       "      <td>Fast</td>\n",
       "      <td>NaN</td>\n",
       "      <td>Little</td>\n",
       "      <td>70</td>\n",
       "      <td>Long</td>\n",
       "      <td>...</td>\n",
       "      <td>70</td>\n",
       "      <td>Lots</td>\n",
       "      <td>Organised</td>\n",
       "      <td>60</td>\n",
       "      <td>Medium</td>\n",
       "      <td>70</td>\n",
       "      <td>Double</td>\n",
       "      <td>70</td>\n",
       "      <td>Wide</td>\n",
       "      <td>Cover</td>\n",
       "    </tr>\n",
       "    <tr>\n",
       "      <th>4</th>\n",
       "      <td>5</td>\n",
       "      <td>77</td>\n",
       "      <td>8485</td>\n",
       "      <td>2011-02-22 00:00:00</td>\n",
       "      <td>47</td>\n",
       "      <td>Balanced</td>\n",
       "      <td>NaN</td>\n",
       "      <td>Little</td>\n",
       "      <td>52</td>\n",
       "      <td>Mixed</td>\n",
       "      <td>...</td>\n",
       "      <td>52</td>\n",
       "      <td>Normal</td>\n",
       "      <td>Organised</td>\n",
       "      <td>47</td>\n",
       "      <td>Medium</td>\n",
       "      <td>47</td>\n",
       "      <td>Press</td>\n",
       "      <td>52</td>\n",
       "      <td>Normal</td>\n",
       "      <td>Cover</td>\n",
       "    </tr>\n",
       "  </tbody>\n",
       "</table>\n",
       "<p>5 rows × 25 columns</p>\n",
       "</div>"
      ],
      "text/plain": [
       "   id  team_fifa_api_id  team_api_id                 date  buildUpPlaySpeed  \\\n",
       "0   1               434         9930  2010-02-22 00:00:00                60   \n",
       "1   2               434         9930  2014-09-19 00:00:00                52   \n",
       "2   3               434         9930  2015-09-10 00:00:00                47   \n",
       "3   4                77         8485  2010-02-22 00:00:00                70   \n",
       "4   5                77         8485  2011-02-22 00:00:00                47   \n",
       "\n",
       "  buildUpPlaySpeedClass  buildUpPlayDribbling buildUpPlayDribblingClass  \\\n",
       "0              Balanced                   NaN                    Little   \n",
       "1              Balanced                  48.0                    Normal   \n",
       "2              Balanced                  41.0                    Normal   \n",
       "3                  Fast                   NaN                    Little   \n",
       "4              Balanced                   NaN                    Little   \n",
       "\n",
       "   buildUpPlayPassing buildUpPlayPassingClass  ... chanceCreationShooting  \\\n",
       "0                  50                   Mixed  ...                     55   \n",
       "1                  56                   Mixed  ...                     64   \n",
       "2                  54                   Mixed  ...                     64   \n",
       "3                  70                    Long  ...                     70   \n",
       "4                  52                   Mixed  ...                     52   \n",
       "\n",
       "   chanceCreationShootingClass chanceCreationPositioningClass  \\\n",
       "0                       Normal                      Organised   \n",
       "1                       Normal                      Organised   \n",
       "2                       Normal                      Organised   \n",
       "3                         Lots                      Organised   \n",
       "4                       Normal                      Organised   \n",
       "\n",
       "   defencePressure defencePressureClass  defenceAggression  \\\n",
       "0               50               Medium                 55   \n",
       "1               47               Medium                 44   \n",
       "2               47               Medium                 44   \n",
       "3               60               Medium                 70   \n",
       "4               47               Medium                 47   \n",
       "\n",
       "  defenceAggressionClass defenceTeamWidth  defenceTeamWidthClass  \\\n",
       "0                  Press               45                 Normal   \n",
       "1                  Press               54                 Normal   \n",
       "2                  Press               54                 Normal   \n",
       "3                 Double               70                   Wide   \n",
       "4                  Press               52                 Normal   \n",
       "\n",
       "  defenceDefenderLineClass  \n",
       "0                    Cover  \n",
       "1                    Cover  \n",
       "2                    Cover  \n",
       "3                    Cover  \n",
       "4                    Cover  \n",
       "\n",
       "[5 rows x 25 columns]"
      ]
     },
     "execution_count": 30,
     "metadata": {},
     "output_type": "execute_result"
    }
   ],
   "source": [
    "team_att_df = pd.read_sql_query('''SELECT * \n",
    "                                   FROM Team_Attributes\n",
    "                                   ;''', con)\n",
    "\n",
    "team_att_df.head()"
   ]
  },
  {
   "cell_type": "code",
   "execution_count": 31,
   "id": "411f61e1",
   "metadata": {},
   "outputs": [
    {
     "name": "stdout",
     "output_type": "stream",
     "text": [
      "Number of dublicates: 0\n",
      "Amount of total: 0.0%\n"
     ]
    }
   ],
   "source": [
    "print(f'Number of dublicates: {team_att_df.duplicated().sum()}\\nAmount of total: {round(team_att_df.duplicated().sum()/len(team_att_df)*100, 2)}%')"
   ]
  },
  {
   "cell_type": "code",
   "execution_count": 32,
   "id": "496148ae",
   "metadata": {},
   "outputs": [
    {
     "data": {
      "text/plain": [
       "288"
      ]
     },
     "execution_count": 32,
     "metadata": {},
     "output_type": "execute_result"
    }
   ],
   "source": [
    "len(team_att_df.team_api_id.unique())"
   ]
  },
  {
   "cell_type": "markdown",
   "id": "c5dd7223",
   "metadata": {},
   "source": [
    "Some teams are missing in this dataset, that are present in Teams dataset"
   ]
  },
  {
   "cell_type": "code",
   "execution_count": 33,
   "id": "8158dd22",
   "metadata": {},
   "outputs": [],
   "source": [
    "missing_teams = team_df[['team_api_id', 'team_long_name']].merge(team_att_df['team_api_id'], how='left', indicator=True)"
   ]
  },
  {
   "cell_type": "code",
   "execution_count": 34,
   "id": "ce15687c",
   "metadata": {},
   "outputs": [
    {
     "data": {
      "text/html": [
       "<div>\n",
       "<style scoped>\n",
       "    .dataframe tbody tr th:only-of-type {\n",
       "        vertical-align: middle;\n",
       "    }\n",
       "\n",
       "    .dataframe tbody tr th {\n",
       "        vertical-align: top;\n",
       "    }\n",
       "\n",
       "    .dataframe thead th {\n",
       "        text-align: right;\n",
       "    }\n",
       "</style>\n",
       "<table border=\"1\" class=\"dataframe\">\n",
       "  <thead>\n",
       "    <tr style=\"text-align: right;\">\n",
       "      <th></th>\n",
       "      <th>team_api_id</th>\n",
       "      <th>team_long_name</th>\n",
       "      <th>_merge</th>\n",
       "    </tr>\n",
       "  </thead>\n",
       "  <tbody>\n",
       "    <tr>\n",
       "      <th>43</th>\n",
       "      <td>7947</td>\n",
       "      <td>FCV Dender EH</td>\n",
       "      <td>left_only</td>\n",
       "    </tr>\n",
       "    <tr>\n",
       "      <th>69</th>\n",
       "      <td>4049</td>\n",
       "      <td>Tubize</td>\n",
       "      <td>left_only</td>\n",
       "    </tr>\n",
       "    <tr>\n",
       "      <th>907</th>\n",
       "      <td>6601</td>\n",
       "      <td>FC Volendam</td>\n",
       "      <td>left_only</td>\n",
       "    </tr>\n",
       "    <tr>\n",
       "      <th>1041</th>\n",
       "      <td>177361</td>\n",
       "      <td>Termalica Bruk-Bet Nieciecza</td>\n",
       "      <td>left_only</td>\n",
       "    </tr>\n",
       "    <tr>\n",
       "      <th>1057</th>\n",
       "      <td>7992</td>\n",
       "      <td>Trofense</td>\n",
       "      <td>left_only</td>\n",
       "    </tr>\n",
       "    <tr>\n",
       "      <th>1082</th>\n",
       "      <td>10213</td>\n",
       "      <td>Amadora</td>\n",
       "      <td>left_only</td>\n",
       "    </tr>\n",
       "    <tr>\n",
       "      <th>1124</th>\n",
       "      <td>9765</td>\n",
       "      <td>Portimonense</td>\n",
       "      <td>left_only</td>\n",
       "    </tr>\n",
       "    <tr>\n",
       "      <th>1128</th>\n",
       "      <td>4064</td>\n",
       "      <td>Feirense</td>\n",
       "      <td>left_only</td>\n",
       "    </tr>\n",
       "    <tr>\n",
       "      <th>1142</th>\n",
       "      <td>6367</td>\n",
       "      <td>Uniao da Madeira</td>\n",
       "      <td>left_only</td>\n",
       "    </tr>\n",
       "    <tr>\n",
       "      <th>1143</th>\n",
       "      <td>188163</td>\n",
       "      <td>Tondela</td>\n",
       "      <td>left_only</td>\n",
       "    </tr>\n",
       "    <tr>\n",
       "      <th>1468</th>\n",
       "      <td>7896</td>\n",
       "      <td>Lugano</td>\n",
       "      <td>left_only</td>\n",
       "    </tr>\n",
       "  </tbody>\n",
       "</table>\n",
       "</div>"
      ],
      "text/plain": [
       "      team_api_id                team_long_name     _merge\n",
       "43           7947                 FCV Dender EH  left_only\n",
       "69           4049                        Tubize  left_only\n",
       "907          6601                   FC Volendam  left_only\n",
       "1041       177361  Termalica Bruk-Bet Nieciecza  left_only\n",
       "1057         7992                      Trofense  left_only\n",
       "1082        10213                       Amadora  left_only\n",
       "1124         9765                  Portimonense  left_only\n",
       "1128         4064                      Feirense  left_only\n",
       "1142         6367              Uniao da Madeira  left_only\n",
       "1143       188163                       Tondela  left_only\n",
       "1468         7896                        Lugano  left_only"
      ]
     },
     "execution_count": 34,
     "metadata": {},
     "output_type": "execute_result"
    }
   ],
   "source": [
    "missing_teams[missing_teams['_merge'] == 'left_only']"
   ]
  },
  {
   "cell_type": "code",
   "execution_count": 35,
   "id": "05094e6f",
   "metadata": {},
   "outputs": [
    {
     "data": {
      "text/plain": [
       "id                                 0.000000\n",
       "team_fifa_api_id                   0.000000\n",
       "team_api_id                        0.000000\n",
       "date                               0.000000\n",
       "buildUpPlaySpeed                   0.000000\n",
       "buildUpPlaySpeedClass              0.000000\n",
       "buildUpPlayDribbling              66.460905\n",
       "buildUpPlayDribblingClass          0.000000\n",
       "buildUpPlayPassing                 0.000000\n",
       "buildUpPlayPassingClass            0.000000\n",
       "buildUpPlayPositioningClass        0.000000\n",
       "chanceCreationPassing              0.000000\n",
       "chanceCreationPassingClass         0.000000\n",
       "chanceCreationCrossing             0.000000\n",
       "chanceCreationCrossingClass        0.000000\n",
       "chanceCreationShooting             0.000000\n",
       "chanceCreationShootingClass        0.000000\n",
       "chanceCreationPositioningClass     0.000000\n",
       "defencePressure                    0.000000\n",
       "defencePressureClass               0.000000\n",
       "defenceAggression                  0.000000\n",
       "defenceAggressionClass             0.000000\n",
       "defenceTeamWidth                   0.000000\n",
       "defenceTeamWidthClass              0.000000\n",
       "defenceDefenderLineClass           0.000000\n",
       "dtype: float64"
      ]
     },
     "execution_count": 35,
     "metadata": {},
     "output_type": "execute_result"
    }
   ],
   "source": [
    "percentage_of_nulls(team_att_df)"
   ]
  },
  {
   "cell_type": "markdown",
   "id": "eac4657f",
   "metadata": {},
   "source": [
    "We see that only feature that has missing data is `buildUpPlayDribbling` and more than 66% of it is NaN, thus we'll just drop it."
   ]
  },
  {
   "cell_type": "code",
   "execution_count": 36,
   "id": "14a39af7",
   "metadata": {},
   "outputs": [],
   "source": [
    "team_att_df.drop(columns=['buildUpPlayDribbling'], inplace=True)"
   ]
  },
  {
   "cell_type": "markdown",
   "id": "a8c8d1ba",
   "metadata": {},
   "source": [
    "## Match"
   ]
  },
  {
   "cell_type": "markdown",
   "id": "be20930a",
   "metadata": {},
   "source": [
    "A large dataset with 25979 instances and 115 features. This dataset contains detailed data on football matches that have taken place (league, teams, home ground, players, goals, scores, results, bookmakers' odds etc.)"
   ]
  },
  {
   "cell_type": "code",
   "execution_count": 37,
   "id": "b50a3485",
   "metadata": {},
   "outputs": [
    {
     "data": {
      "text/html": [
       "<div>\n",
       "<style scoped>\n",
       "    .dataframe tbody tr th:only-of-type {\n",
       "        vertical-align: middle;\n",
       "    }\n",
       "\n",
       "    .dataframe tbody tr th {\n",
       "        vertical-align: top;\n",
       "    }\n",
       "\n",
       "    .dataframe thead th {\n",
       "        text-align: right;\n",
       "    }\n",
       "</style>\n",
       "<table border=\"1\" class=\"dataframe\">\n",
       "  <thead>\n",
       "    <tr style=\"text-align: right;\">\n",
       "      <th></th>\n",
       "      <th>id</th>\n",
       "      <th>country_id</th>\n",
       "      <th>league_id</th>\n",
       "      <th>season</th>\n",
       "      <th>stage</th>\n",
       "      <th>date</th>\n",
       "      <th>match_api_id</th>\n",
       "      <th>home_team_api_id</th>\n",
       "      <th>away_team_api_id</th>\n",
       "      <th>home_team_goal</th>\n",
       "      <th>...</th>\n",
       "      <th>SJA</th>\n",
       "      <th>VCH</th>\n",
       "      <th>VCD</th>\n",
       "      <th>VCA</th>\n",
       "      <th>GBH</th>\n",
       "      <th>GBD</th>\n",
       "      <th>GBA</th>\n",
       "      <th>BSH</th>\n",
       "      <th>BSD</th>\n",
       "      <th>BSA</th>\n",
       "    </tr>\n",
       "  </thead>\n",
       "  <tbody>\n",
       "    <tr>\n",
       "      <th>0</th>\n",
       "      <td>1</td>\n",
       "      <td>1</td>\n",
       "      <td>1</td>\n",
       "      <td>2008/2009</td>\n",
       "      <td>1</td>\n",
       "      <td>2008-08-17 00:00:00</td>\n",
       "      <td>492473</td>\n",
       "      <td>9987</td>\n",
       "      <td>9993</td>\n",
       "      <td>1</td>\n",
       "      <td>...</td>\n",
       "      <td>4.00</td>\n",
       "      <td>1.65</td>\n",
       "      <td>3.40</td>\n",
       "      <td>4.50</td>\n",
       "      <td>1.78</td>\n",
       "      <td>3.25</td>\n",
       "      <td>4.00</td>\n",
       "      <td>1.73</td>\n",
       "      <td>3.40</td>\n",
       "      <td>4.20</td>\n",
       "    </tr>\n",
       "    <tr>\n",
       "      <th>1</th>\n",
       "      <td>2</td>\n",
       "      <td>1</td>\n",
       "      <td>1</td>\n",
       "      <td>2008/2009</td>\n",
       "      <td>1</td>\n",
       "      <td>2008-08-16 00:00:00</td>\n",
       "      <td>492474</td>\n",
       "      <td>10000</td>\n",
       "      <td>9994</td>\n",
       "      <td>0</td>\n",
       "      <td>...</td>\n",
       "      <td>3.80</td>\n",
       "      <td>2.00</td>\n",
       "      <td>3.25</td>\n",
       "      <td>3.25</td>\n",
       "      <td>1.85</td>\n",
       "      <td>3.25</td>\n",
       "      <td>3.75</td>\n",
       "      <td>1.91</td>\n",
       "      <td>3.25</td>\n",
       "      <td>3.60</td>\n",
       "    </tr>\n",
       "    <tr>\n",
       "      <th>2</th>\n",
       "      <td>3</td>\n",
       "      <td>1</td>\n",
       "      <td>1</td>\n",
       "      <td>2008/2009</td>\n",
       "      <td>1</td>\n",
       "      <td>2008-08-16 00:00:00</td>\n",
       "      <td>492475</td>\n",
       "      <td>9984</td>\n",
       "      <td>8635</td>\n",
       "      <td>0</td>\n",
       "      <td>...</td>\n",
       "      <td>2.50</td>\n",
       "      <td>2.35</td>\n",
       "      <td>3.25</td>\n",
       "      <td>2.65</td>\n",
       "      <td>2.50</td>\n",
       "      <td>3.20</td>\n",
       "      <td>2.50</td>\n",
       "      <td>2.30</td>\n",
       "      <td>3.20</td>\n",
       "      <td>2.75</td>\n",
       "    </tr>\n",
       "    <tr>\n",
       "      <th>3</th>\n",
       "      <td>4</td>\n",
       "      <td>1</td>\n",
       "      <td>1</td>\n",
       "      <td>2008/2009</td>\n",
       "      <td>1</td>\n",
       "      <td>2008-08-17 00:00:00</td>\n",
       "      <td>492476</td>\n",
       "      <td>9991</td>\n",
       "      <td>9998</td>\n",
       "      <td>5</td>\n",
       "      <td>...</td>\n",
       "      <td>7.50</td>\n",
       "      <td>1.45</td>\n",
       "      <td>3.75</td>\n",
       "      <td>6.50</td>\n",
       "      <td>1.50</td>\n",
       "      <td>3.75</td>\n",
       "      <td>5.50</td>\n",
       "      <td>1.44</td>\n",
       "      <td>3.75</td>\n",
       "      <td>6.50</td>\n",
       "    </tr>\n",
       "    <tr>\n",
       "      <th>4</th>\n",
       "      <td>5</td>\n",
       "      <td>1</td>\n",
       "      <td>1</td>\n",
       "      <td>2008/2009</td>\n",
       "      <td>1</td>\n",
       "      <td>2008-08-16 00:00:00</td>\n",
       "      <td>492477</td>\n",
       "      <td>7947</td>\n",
       "      <td>9985</td>\n",
       "      <td>1</td>\n",
       "      <td>...</td>\n",
       "      <td>1.73</td>\n",
       "      <td>4.50</td>\n",
       "      <td>3.40</td>\n",
       "      <td>1.65</td>\n",
       "      <td>4.50</td>\n",
       "      <td>3.50</td>\n",
       "      <td>1.65</td>\n",
       "      <td>4.75</td>\n",
       "      <td>3.30</td>\n",
       "      <td>1.67</td>\n",
       "    </tr>\n",
       "  </tbody>\n",
       "</table>\n",
       "<p>5 rows × 115 columns</p>\n",
       "</div>"
      ],
      "text/plain": [
       "   id  country_id  league_id     season  stage                 date  \\\n",
       "0   1           1          1  2008/2009      1  2008-08-17 00:00:00   \n",
       "1   2           1          1  2008/2009      1  2008-08-16 00:00:00   \n",
       "2   3           1          1  2008/2009      1  2008-08-16 00:00:00   \n",
       "3   4           1          1  2008/2009      1  2008-08-17 00:00:00   \n",
       "4   5           1          1  2008/2009      1  2008-08-16 00:00:00   \n",
       "\n",
       "   match_api_id  home_team_api_id  away_team_api_id  home_team_goal  ...  \\\n",
       "0        492473              9987              9993               1  ...   \n",
       "1        492474             10000              9994               0  ...   \n",
       "2        492475              9984              8635               0  ...   \n",
       "3        492476              9991              9998               5  ...   \n",
       "4        492477              7947              9985               1  ...   \n",
       "\n",
       "    SJA   VCH   VCD   VCA   GBH   GBD   GBA   BSH   BSD   BSA  \n",
       "0  4.00  1.65  3.40  4.50  1.78  3.25  4.00  1.73  3.40  4.20  \n",
       "1  3.80  2.00  3.25  3.25  1.85  3.25  3.75  1.91  3.25  3.60  \n",
       "2  2.50  2.35  3.25  2.65  2.50  3.20  2.50  2.30  3.20  2.75  \n",
       "3  7.50  1.45  3.75  6.50  1.50  3.75  5.50  1.44  3.75  6.50  \n",
       "4  1.73  4.50  3.40  1.65  4.50  3.50  1.65  4.75  3.30  1.67  \n",
       "\n",
       "[5 rows x 115 columns]"
      ]
     },
     "execution_count": 37,
     "metadata": {},
     "output_type": "execute_result"
    }
   ],
   "source": [
    "match_df = pd.read_sql_query('''SELECT * \n",
    "                                FROM Match\n",
    "                                ;''', con)\n",
    "\n",
    "match_df.head()"
   ]
  },
  {
   "cell_type": "code",
   "execution_count": 38,
   "id": "4a6072b1",
   "metadata": {},
   "outputs": [
    {
     "name": "stdout",
     "output_type": "stream",
     "text": [
      "Number of dublicates: 0\n",
      "Amount of total: 0.0%\n"
     ]
    }
   ],
   "source": [
    "print(f'Number of dublicates: {team_att_df.duplicated().sum()}\\nAmount of total: {round(team_att_df.duplicated().sum()/len(team_att_df)*100, 2)}%')"
   ]
  },
  {
   "cell_type": "code",
   "execution_count": 39,
   "id": "48885b69",
   "metadata": {},
   "outputs": [],
   "source": [
    "pd.set_option(\"display.max_columns\", None)"
   ]
  },
  {
   "cell_type": "code",
   "execution_count": 40,
   "id": "e4fc35b2",
   "metadata": {},
   "outputs": [],
   "source": [
    "for i in [None, 'None', '_0']:\n",
    "    match_df.replace({i: np.nan}, inplace=True)"
   ]
  },
  {
   "cell_type": "code",
   "execution_count": 41,
   "id": "3015d5e2",
   "metadata": {
    "scrolled": false
   },
   "outputs": [
    {
     "data": {
      "text/plain": [
       "id             0.000000\n",
       "country_id     0.000000\n",
       "league_id      0.000000\n",
       "season         0.000000\n",
       "stage          0.000000\n",
       "                ...    \n",
       "GBD           45.486739\n",
       "GBA           45.486739\n",
       "BSH           45.490589\n",
       "BSD           45.490589\n",
       "BSA           45.490589\n",
       "Length: 115, dtype: float64"
      ]
     },
     "execution_count": 41,
     "metadata": {},
     "output_type": "execute_result"
    }
   ],
   "source": [
    "percentage_of_nulls(match_df)"
   ]
  },
  {
   "cell_type": "markdown",
   "id": "c90a486e",
   "metadata": {},
   "source": [
    "There is big amount of missing data for features of **`PSH, PSD, PSA`** and **`GBH, GBD, GBA, BSH, BSD, BSA`** (various bookmakers' odds).\n",
    "\n",
    "**57%** and **45%** respectively.\n",
    "\n",
    "In this context, we will drop these features."
   ]
  },
  {
   "cell_type": "code",
   "execution_count": 42,
   "id": "2ea53fab",
   "metadata": {},
   "outputs": [],
   "source": [
    "match_df.drop(columns=['PSH', 'PSD', 'PSA', 'GBH', 'GBD', 'GBA', 'BSH', 'BSD', 'BSA'],inplace=True)"
   ]
  },
  {
   "cell_type": "code",
   "execution_count": 43,
   "id": "3d6a000b",
   "metadata": {},
   "outputs": [
    {
     "data": {
      "text/html": [
       "<div>\n",
       "<style scoped>\n",
       "    .dataframe tbody tr th:only-of-type {\n",
       "        vertical-align: middle;\n",
       "    }\n",
       "\n",
       "    .dataframe tbody tr th {\n",
       "        vertical-align: top;\n",
       "    }\n",
       "\n",
       "    .dataframe thead th {\n",
       "        text-align: right;\n",
       "    }\n",
       "</style>\n",
       "<table border=\"1\" class=\"dataframe\">\n",
       "  <thead>\n",
       "    <tr style=\"text-align: right;\">\n",
       "      <th></th>\n",
       "      <th>goal</th>\n",
       "      <th>shoton</th>\n",
       "      <th>shotoff</th>\n",
       "      <th>foulcommit</th>\n",
       "      <th>card</th>\n",
       "      <th>cross</th>\n",
       "      <th>corner</th>\n",
       "      <th>possession</th>\n",
       "    </tr>\n",
       "  </thead>\n",
       "  <tbody>\n",
       "    <tr>\n",
       "      <th>5237</th>\n",
       "      <td>NaN</td>\n",
       "      <td>NaN</td>\n",
       "      <td>NaN</td>\n",
       "      <td>NaN</td>\n",
       "      <td>NaN</td>\n",
       "      <td>NaN</td>\n",
       "      <td>NaN</td>\n",
       "      <td>NaN</td>\n",
       "    </tr>\n",
       "    <tr>\n",
       "      <th>24107</th>\n",
       "      <td>&lt;goal&gt;&lt;value&gt;&lt;comment&gt;p&lt;/comment&gt;&lt;stats&gt;&lt;penal...</td>\n",
       "      <td>&lt;shoton&gt;&lt;value&gt;&lt;stats&gt;&lt;blocked&gt;1&lt;/blocked&gt;&lt;/st...</td>\n",
       "      <td>&lt;shotoff&gt;&lt;value&gt;&lt;stats&gt;&lt;shotoff&gt;1&lt;/shotoff&gt;&lt;/s...</td>\n",
       "      <td>&lt;foulcommit&gt;&lt;value&gt;&lt;stats&gt;&lt;foulscommitted&gt;1&lt;/f...</td>\n",
       "      <td>&lt;card&gt;&lt;value&gt;&lt;comment&gt;y&lt;/comment&gt;&lt;stats&gt;&lt;ycard...</td>\n",
       "      <td>&lt;cross&gt;&lt;value&gt;&lt;stats&gt;&lt;crosses&gt;1&lt;/crosses&gt;&lt;/sta...</td>\n",
       "      <td>&lt;corner&gt;&lt;value&gt;&lt;stats&gt;&lt;corners&gt;1&lt;/corners&gt;&lt;/st...</td>\n",
       "      <td>&lt;possession&gt;&lt;value&gt;&lt;comment&gt;52&lt;/comment&gt;&lt;stats...</td>\n",
       "    </tr>\n",
       "    <tr>\n",
       "      <th>7437</th>\n",
       "      <td>&lt;goal&gt;&lt;value&gt;&lt;comment&gt;npm&lt;/comment&gt;&lt;elapsed_pl...</td>\n",
       "      <td>&lt;shoton&gt;&lt;value&gt;&lt;stats&gt;&lt;shoton&gt;1&lt;/shoton&gt;&lt;/stat...</td>\n",
       "      <td>&lt;shotoff&gt;&lt;value&gt;&lt;stats&gt;&lt;shotoff&gt;1&lt;/shotoff&gt;&lt;/s...</td>\n",
       "      <td>&lt;foulcommit&gt;&lt;value&gt;&lt;stats&gt;&lt;foulscommitted&gt;1&lt;/f...</td>\n",
       "      <td>&lt;card&gt;&lt;value&gt;&lt;comment&gt;y&lt;/comment&gt;&lt;stats&gt;&lt;ycard...</td>\n",
       "      <td>&lt;cross&gt;&lt;value&gt;&lt;stats&gt;&lt;crosses&gt;1&lt;/crosses&gt;&lt;/sta...</td>\n",
       "      <td>&lt;corner&gt;&lt;value&gt;&lt;stats&gt;&lt;corners&gt;1&lt;/corners&gt;&lt;/st...</td>\n",
       "      <td>&lt;possession&gt;&lt;value&gt;&lt;comment&gt;36&lt;/comment&gt;&lt;stats...</td>\n",
       "    </tr>\n",
       "    <tr>\n",
       "      <th>17435</th>\n",
       "      <td>NaN</td>\n",
       "      <td>NaN</td>\n",
       "      <td>NaN</td>\n",
       "      <td>NaN</td>\n",
       "      <td>NaN</td>\n",
       "      <td>NaN</td>\n",
       "      <td>NaN</td>\n",
       "      <td>NaN</td>\n",
       "    </tr>\n",
       "  </tbody>\n",
       "</table>\n",
       "</div>"
      ],
      "text/plain": [
       "                                                    goal  \\\n",
       "5237                                                 NaN   \n",
       "24107  <goal><value><comment>p</comment><stats><penal...   \n",
       "7437   <goal><value><comment>npm</comment><elapsed_pl...   \n",
       "17435                                                NaN   \n",
       "\n",
       "                                                  shoton  \\\n",
       "5237                                                 NaN   \n",
       "24107  <shoton><value><stats><blocked>1</blocked></st...   \n",
       "7437   <shoton><value><stats><shoton>1</shoton></stat...   \n",
       "17435                                                NaN   \n",
       "\n",
       "                                                 shotoff  \\\n",
       "5237                                                 NaN   \n",
       "24107  <shotoff><value><stats><shotoff>1</shotoff></s...   \n",
       "7437   <shotoff><value><stats><shotoff>1</shotoff></s...   \n",
       "17435                                                NaN   \n",
       "\n",
       "                                              foulcommit  \\\n",
       "5237                                                 NaN   \n",
       "24107  <foulcommit><value><stats><foulscommitted>1</f...   \n",
       "7437   <foulcommit><value><stats><foulscommitted>1</f...   \n",
       "17435                                                NaN   \n",
       "\n",
       "                                                    card  \\\n",
       "5237                                                 NaN   \n",
       "24107  <card><value><comment>y</comment><stats><ycard...   \n",
       "7437   <card><value><comment>y</comment><stats><ycard...   \n",
       "17435                                                NaN   \n",
       "\n",
       "                                                   cross  \\\n",
       "5237                                                 NaN   \n",
       "24107  <cross><value><stats><crosses>1</crosses></sta...   \n",
       "7437   <cross><value><stats><crosses>1</crosses></sta...   \n",
       "17435                                                NaN   \n",
       "\n",
       "                                                  corner  \\\n",
       "5237                                                 NaN   \n",
       "24107  <corner><value><stats><corners>1</corners></st...   \n",
       "7437   <corner><value><stats><corners>1</corners></st...   \n",
       "17435                                                NaN   \n",
       "\n",
       "                                              possession  \n",
       "5237                                                 NaN  \n",
       "24107  <possession><value><comment>52</comment><stats...  \n",
       "7437   <possession><value><comment>36</comment><stats...  \n",
       "17435                                                NaN  "
      ]
     },
     "execution_count": 43,
     "metadata": {},
     "output_type": "execute_result"
    }
   ],
   "source": [
    "match_df.loc[:,['goal', 'shoton', 'shotoff', 'foulcommit', 'card', 'cross', 'corner', 'possession']].sample(4)"
   ]
  },
  {
   "cell_type": "markdown",
   "id": "e07d143d",
   "metadata": {},
   "source": [
    "Features **`goal, shoton, shotoff, foulcommit, card, cross, corner, possession`** holds XML type information. It has equally a lot of NaN (more than 45%). Besides, in every of these features there are a lot of incosistent data too, like empty XML tag. We'll replace these with NaN as well."
   ]
  },
  {
   "cell_type": "code",
   "execution_count": 44,
   "id": "45ef2afa",
   "metadata": {},
   "outputs": [],
   "source": [
    "match_df.replace(to_replace=['<goal />', '<shoton />', '<shotoff />', '<foulcommit />', '<card />', '<cross />', '<corner />', '<possession />'], value=np.nan, inplace=True)"
   ]
  },
  {
   "cell_type": "code",
   "execution_count": 45,
   "id": "79954ebf",
   "metadata": {},
   "outputs": [
    {
     "data": {
      "text/plain": [
       "goal          49.097348\n",
       "shoton        67.423688\n",
       "shotoff       67.423688\n",
       "foulcommit    67.415990\n",
       "card          46.972555\n",
       "cross         67.415990\n",
       "corner        67.419839\n",
       "possession    67.593056\n",
       "dtype: float64"
      ]
     },
     "execution_count": 45,
     "metadata": {},
     "output_type": "execute_result"
    }
   ],
   "source": [
    "percentage_of_nulls(match_df.loc[:,['goal', 'shoton', 'shotoff', 'foulcommit', 'card', 'cross', 'corner', 'possession']])"
   ]
  },
  {
   "cell_type": "markdown",
   "id": "24e15790",
   "metadata": {},
   "source": [
    "There is now even more NaN data, however this information is too important yet to be deleted. We will therefore leave it as it is for now."
   ]
  },
  {
   "cell_type": "markdown",
   "id": "c7957a7a",
   "metadata": {},
   "source": [
    "## EDA"
   ]
  },
  {
   "cell_type": "markdown",
   "id": "af3cae4c",
   "metadata": {},
   "source": [
    "**There are some required questions to be answered for this project**\n",
    "\n",
    "* Which leagues are in which countries?\n",
    "* Which leagues score the most/fewest goals?\n",
    "* Who are the top scorers in each team and league?\n",
    "* Is there such a thing as home advantage?\n",
    "* Can we predict how many goals each team will score in each match?\n",
    "* Can we predict which team will win the match?"
   ]
  },
  {
   "cell_type": "markdown",
   "id": "1faa3aff",
   "metadata": {},
   "source": [
    "### Which leagues are in which countries?"
   ]
  },
  {
   "cell_type": "code",
   "execution_count": 46,
   "id": "0d747598",
   "metadata": {},
   "outputs": [
    {
     "data": {
      "text/html": [
       "<div>\n",
       "<style scoped>\n",
       "    .dataframe tbody tr th:only-of-type {\n",
       "        vertical-align: middle;\n",
       "    }\n",
       "\n",
       "    .dataframe tbody tr th {\n",
       "        vertical-align: top;\n",
       "    }\n",
       "\n",
       "    .dataframe thead th {\n",
       "        text-align: right;\n",
       "    }\n",
       "</style>\n",
       "<table border=\"1\" class=\"dataframe\">\n",
       "  <thead>\n",
       "    <tr style=\"text-align: right;\">\n",
       "      <th></th>\n",
       "      <th>league_name</th>\n",
       "      <th>country</th>\n",
       "    </tr>\n",
       "  </thead>\n",
       "  <tbody>\n",
       "    <tr>\n",
       "      <th>0</th>\n",
       "      <td>Belgium Jupiler League</td>\n",
       "      <td>Belgium</td>\n",
       "    </tr>\n",
       "    <tr>\n",
       "      <th>1</th>\n",
       "      <td>England Premier League</td>\n",
       "      <td>England</td>\n",
       "    </tr>\n",
       "    <tr>\n",
       "      <th>2</th>\n",
       "      <td>France Ligue 1</td>\n",
       "      <td>France</td>\n",
       "    </tr>\n",
       "    <tr>\n",
       "      <th>3</th>\n",
       "      <td>Germany 1. Bundesliga</td>\n",
       "      <td>Germany</td>\n",
       "    </tr>\n",
       "    <tr>\n",
       "      <th>4</th>\n",
       "      <td>Italy Serie A</td>\n",
       "      <td>Italy</td>\n",
       "    </tr>\n",
       "    <tr>\n",
       "      <th>5</th>\n",
       "      <td>Netherlands Eredivisie</td>\n",
       "      <td>Netherlands</td>\n",
       "    </tr>\n",
       "    <tr>\n",
       "      <th>6</th>\n",
       "      <td>Poland Ekstraklasa</td>\n",
       "      <td>Poland</td>\n",
       "    </tr>\n",
       "    <tr>\n",
       "      <th>7</th>\n",
       "      <td>Portugal Liga ZON Sagres</td>\n",
       "      <td>Portugal</td>\n",
       "    </tr>\n",
       "    <tr>\n",
       "      <th>8</th>\n",
       "      <td>Scotland Premier League</td>\n",
       "      <td>Scotland</td>\n",
       "    </tr>\n",
       "    <tr>\n",
       "      <th>9</th>\n",
       "      <td>Spain LIGA BBVA</td>\n",
       "      <td>Spain</td>\n",
       "    </tr>\n",
       "    <tr>\n",
       "      <th>10</th>\n",
       "      <td>Switzerland Super League</td>\n",
       "      <td>Switzerland</td>\n",
       "    </tr>\n",
       "  </tbody>\n",
       "</table>\n",
       "</div>"
      ],
      "text/plain": [
       "                 league_name      country\n",
       "0     Belgium Jupiler League      Belgium\n",
       "1     England Premier League      England\n",
       "2             France Ligue 1       France\n",
       "3      Germany 1. Bundesliga      Germany\n",
       "4              Italy Serie A        Italy\n",
       "5     Netherlands Eredivisie  Netherlands\n",
       "6         Poland Ekstraklasa       Poland\n",
       "7   Portugal Liga ZON Sagres     Portugal\n",
       "8    Scotland Premier League     Scotland\n",
       "9            Spain LIGA BBVA        Spain\n",
       "10  Switzerland Super League  Switzerland"
      ]
     },
     "execution_count": 46,
     "metadata": {},
     "output_type": "execute_result"
    }
   ],
   "source": [
    "pd.read_sql_query('''SELECT \n",
    "                         l.name as league_name,\n",
    "                         c.name as country\n",
    "                     FROM League as l\n",
    "                     JOIN Country as c\n",
    "                     ON l.id = c.id\n",
    "                     ;''', con)"
   ]
  },
  {
   "cell_type": "markdown",
   "id": "48a42f76",
   "metadata": {},
   "source": [
    "### Which leagues score the most/fewest goals?"
   ]
  },
  {
   "cell_type": "code",
   "execution_count": 47,
   "id": "1fd1ff57",
   "metadata": {},
   "outputs": [
    {
     "name": "stdout",
     "output_type": "stream",
     "text": [
      "The highest score league is \"Spain LIGA BBVA\" with 8412 goals in total\n",
      "The lowest score league is \"Switzerland Super League\" with 4166 goals in total\n"
     ]
    }
   ],
   "source": [
    "min_max_df = pd.read_sql_query(''' WITH goals_per_league AS (\n",
    "                                           SELECT \n",
    "                                               m.league_id, \n",
    "                                               l.name,\n",
    "                                               SUM(m.home_team_goal + m.away_team_goal) AS goals\n",
    "                                           FROM Match AS m\n",
    "                                           JOIN League AS l\n",
    "                                           ON m.league_id = l.id\n",
    "                                           GROUP BY 1, 2)\n",
    "                                   SELECT name, goals\n",
    "                                   FROM goals_per_league\n",
    "                                   WHERE goals = (SELECT MIN(goals) FROM goals_per_league)\n",
    "                                   UNION\n",
    "                                   SELECT name, goals\n",
    "                                   FROM goals_per_league\n",
    "                                   WHERE goals = (SELECT MAX(goals) FROM goals_per_league)\n",
    "                                   ;''', con)\n",
    "\n",
    "for i, adj in enumerate(['highest', 'lowest']):\n",
    "    print(f'The {adj} score league is \"{min_max_df.name[i]}\" with {min_max_df.goals[i]} goals in total')"
   ]
  },
  {
   "cell_type": "markdown",
   "id": "4593ba48",
   "metadata": {},
   "source": [
    "### Who are the top scorers in each team and league?"
   ]
  },
  {
   "cell_type": "markdown",
   "id": "cb7aed3f",
   "metadata": {},
   "source": [
    "Regrettably, there is a lot of missing data (49%) on the feature that stores information about **players who have scored goals**. Therefore, this data does not necessarily reflects the actual data."
   ]
  },
  {
   "cell_type": "code",
   "execution_count": 48,
   "id": "dbe79c2f",
   "metadata": {
    "scrolled": false
   },
   "outputs": [],
   "source": [
    "scorers_df = pd.DataFrame()\n",
    "for j, i in enumerate(match_df.goal):\n",
    "    if not pd.isnull(i):\n",
    "        xml_extr = pd.read_xml(i)\n",
    "        try:\n",
    "            frame = pd.merge(xml_extr.assign(key=j), match_df.loc[[j], ['league_id']].assign(key=j), on='key').drop('key', axis=1)\n",
    "            scorers_df = pd.concat([scorers_df, frame[['player1', 'team', 'league_id']]])\n",
    "        except KeyError:\n",
    "            continue"
   ]
  },
  {
   "cell_type": "code",
   "execution_count": 49,
   "id": "cb75c377",
   "metadata": {},
   "outputs": [],
   "source": [
    "top_scorers_df = pd.DataFrame({'score': scorers_df.groupby(['player1', 'league_id', 'team'])['player1'].count()}).sort_values(by='score', ascending=False).reset_index()\n",
    "top_scorers_df = top_scorers_df.merge(player_df[['player_name', 'player_api_id']], left_on='player1', right_on='player_api_id')\n",
    "top_scorers_df = top_scorers_df.merge(team_df[['team_long_name', 'team_api_id', ]], left_on='team', right_on='team_api_id')\n",
    "top_scorers_df = top_scorers_df.merge(league_df[['name', 'id', ]], left_on='league_id', right_on='id')\n",
    "top_scorers_df.drop(columns=['league_id', 'id', 'team_api_id', 'team', 'player1', 'player_api_id'], inplace=True)"
   ]
  },
  {
   "cell_type": "markdown",
   "id": "af1a0b91",
   "metadata": {},
   "source": [
    "**Players who have scored the most goals in every league**"
   ]
  },
  {
   "cell_type": "code",
   "execution_count": 50,
   "id": "3fa05f92",
   "metadata": {},
   "outputs": [
    {
     "data": {
      "text/html": [
       "<div>\n",
       "<style scoped>\n",
       "    .dataframe tbody tr th:only-of-type {\n",
       "        vertical-align: middle;\n",
       "    }\n",
       "\n",
       "    .dataframe tbody tr th {\n",
       "        vertical-align: top;\n",
       "    }\n",
       "\n",
       "    .dataframe thead th {\n",
       "        text-align: right;\n",
       "    }\n",
       "</style>\n",
       "<table border=\"1\" class=\"dataframe\">\n",
       "  <thead>\n",
       "    <tr style=\"text-align: right;\">\n",
       "      <th></th>\n",
       "      <th>player_name</th>\n",
       "      <th>score</th>\n",
       "      <th>name</th>\n",
       "      <th>team_long_name</th>\n",
       "    </tr>\n",
       "  </thead>\n",
       "  <tbody>\n",
       "    <tr>\n",
       "      <th>0</th>\n",
       "      <td>Lionel Messi</td>\n",
       "      <td>295</td>\n",
       "      <td>Spain LIGA BBVA</td>\n",
       "      <td>FC Barcelona</td>\n",
       "    </tr>\n",
       "    <tr>\n",
       "      <th>1250</th>\n",
       "      <td>Wayne Rooney</td>\n",
       "      <td>135</td>\n",
       "      <td>England Premier League</td>\n",
       "      <td>Manchester United</td>\n",
       "    </tr>\n",
       "    <tr>\n",
       "      <th>2472</th>\n",
       "      <td>Antonio Di Natale</td>\n",
       "      <td>156</td>\n",
       "      <td>Italy Serie A</td>\n",
       "      <td>Udinese</td>\n",
       "    </tr>\n",
       "    <tr>\n",
       "      <th>3811</th>\n",
       "      <td>Zlatan Ibrahimovic</td>\n",
       "      <td>120</td>\n",
       "      <td>France Ligue 1</td>\n",
       "      <td>Paris Saint-Germain</td>\n",
       "    </tr>\n",
       "    <tr>\n",
       "      <th>4803</th>\n",
       "      <td>Stefan Kiessling</td>\n",
       "      <td>112</td>\n",
       "      <td>Germany 1. Bundesliga</td>\n",
       "      <td>Bayer 04 Leverkusen</td>\n",
       "    </tr>\n",
       "    <tr>\n",
       "      <th>5877</th>\n",
       "      <td>Luuk de Jong</td>\n",
       "      <td>47</td>\n",
       "      <td>Netherlands Eredivisie</td>\n",
       "      <td>PSV</td>\n",
       "    </tr>\n",
       "    <tr>\n",
       "      <th>6238</th>\n",
       "      <td>Kenny Miller</td>\n",
       "      <td>7</td>\n",
       "      <td>Scotland Premier League</td>\n",
       "      <td>Rangers</td>\n",
       "    </tr>\n",
       "    <tr>\n",
       "      <th>6259</th>\n",
       "      <td>Guillaume Hoarau</td>\n",
       "      <td>17</td>\n",
       "      <td>Switzerland Super League</td>\n",
       "      <td>BSC Young Boys</td>\n",
       "    </tr>\n",
       "    <tr>\n",
       "      <th>6369</th>\n",
       "      <td>Artjoms Rudnevs</td>\n",
       "      <td>3</td>\n",
       "      <td>Poland Ekstraklasa</td>\n",
       "      <td>Lech Poznań</td>\n",
       "    </tr>\n",
       "  </tbody>\n",
       "</table>\n",
       "</div>"
      ],
      "text/plain": [
       "             player_name  score                      name       team_long_name\n",
       "0           Lionel Messi    295           Spain LIGA BBVA         FC Barcelona\n",
       "1250        Wayne Rooney    135    England Premier League    Manchester United\n",
       "2472   Antonio Di Natale    156             Italy Serie A              Udinese\n",
       "3811  Zlatan Ibrahimovic    120            France Ligue 1  Paris Saint-Germain\n",
       "4803    Stefan Kiessling    112     Germany 1. Bundesliga  Bayer 04 Leverkusen\n",
       "5877        Luuk de Jong     47    Netherlands Eredivisie                  PSV\n",
       "6238        Kenny Miller      7   Scotland Premier League              Rangers\n",
       "6259    Guillaume Hoarau     17  Switzerland Super League       BSC Young Boys\n",
       "6369     Artjoms Rudnevs      3        Poland Ekstraklasa          Lech Poznań"
      ]
     },
     "execution_count": 50,
     "metadata": {},
     "output_type": "execute_result"
    }
   ],
   "source": [
    "top_scorers_df.loc[top_scorers_df.groupby(['name'], sort=False)['score'].idxmax()][['player_name', 'score', 'name', 'team_long_name']]"
   ]
  },
  {
   "cell_type": "markdown",
   "id": "6a086a9d",
   "metadata": {},
   "source": [
    "**Players with the most goals in their teams**"
   ]
  },
  {
   "cell_type": "code",
   "execution_count": 51,
   "id": "33500573",
   "metadata": {
    "scrolled": false
   },
   "outputs": [
    {
     "data": {
      "text/html": [
       "<div>\n",
       "<style scoped>\n",
       "    .dataframe tbody tr th:only-of-type {\n",
       "        vertical-align: middle;\n",
       "    }\n",
       "\n",
       "    .dataframe tbody tr th {\n",
       "        vertical-align: top;\n",
       "    }\n",
       "\n",
       "    .dataframe thead th {\n",
       "        text-align: right;\n",
       "    }\n",
       "</style>\n",
       "<table border=\"1\" class=\"dataframe\">\n",
       "  <thead>\n",
       "    <tr style=\"text-align: right;\">\n",
       "      <th></th>\n",
       "      <th>player_name</th>\n",
       "      <th>score</th>\n",
       "      <th>team_long_name</th>\n",
       "      <th>name</th>\n",
       "    </tr>\n",
       "  </thead>\n",
       "  <tbody>\n",
       "    <tr>\n",
       "      <th>0</th>\n",
       "      <td>Lionel Messi</td>\n",
       "      <td>295</td>\n",
       "      <td>FC Barcelona</td>\n",
       "      <td>Spain LIGA BBVA</td>\n",
       "    </tr>\n",
       "    <tr>\n",
       "      <th>41</th>\n",
       "      <td>Cristiano Ronaldo</td>\n",
       "      <td>270</td>\n",
       "      <td>Real Madrid CF</td>\n",
       "      <td>Spain LIGA BBVA</td>\n",
       "    </tr>\n",
       "    <tr>\n",
       "      <th>2472</th>\n",
       "      <td>Antonio Di Natale</td>\n",
       "      <td>156</td>\n",
       "      <td>Udinese</td>\n",
       "      <td>Italy Serie A</td>\n",
       "    </tr>\n",
       "    <tr>\n",
       "      <th>1250</th>\n",
       "      <td>Wayne Rooney</td>\n",
       "      <td>135</td>\n",
       "      <td>Manchester United</td>\n",
       "      <td>England Premier League</td>\n",
       "    </tr>\n",
       "    <tr>\n",
       "      <th>3811</th>\n",
       "      <td>Zlatan Ibrahimovic</td>\n",
       "      <td>120</td>\n",
       "      <td>Paris Saint-Germain</td>\n",
       "      <td>France Ligue 1</td>\n",
       "    </tr>\n",
       "    <tr>\n",
       "      <th>...</th>\n",
       "      <td>...</td>\n",
       "      <td>...</td>\n",
       "      <td>...</td>\n",
       "      <td>...</td>\n",
       "    </tr>\n",
       "    <tr>\n",
       "      <th>4401</th>\n",
       "      <td>Remy Cabella</td>\n",
       "      <td>3</td>\n",
       "      <td>AC Arles-Avignon</td>\n",
       "      <td>France Ligue 1</td>\n",
       "    </tr>\n",
       "    <tr>\n",
       "      <th>6214</th>\n",
       "      <td>Jeffry Fortes,30</td>\n",
       "      <td>3</td>\n",
       "      <td>FC Dordrecht</td>\n",
       "      <td>Netherlands Eredivisie</td>\n",
       "    </tr>\n",
       "    <tr>\n",
       "      <th>6370</th>\n",
       "      <td>Danijel Ljuboja</td>\n",
       "      <td>1</td>\n",
       "      <td>Legia Warszawa</td>\n",
       "      <td>Poland Ekstraklasa</td>\n",
       "    </tr>\n",
       "    <tr>\n",
       "      <th>6373</th>\n",
       "      <td>Pavel Sultes</td>\n",
       "      <td>1</td>\n",
       "      <td>P. Warszawa</td>\n",
       "      <td>Poland Ekstraklasa</td>\n",
       "    </tr>\n",
       "    <tr>\n",
       "      <th>6374</th>\n",
       "      <td>Piotr Stawarczyk</td>\n",
       "      <td>1</td>\n",
       "      <td>Ruch Chorzów</td>\n",
       "      <td>Poland Ekstraklasa</td>\n",
       "    </tr>\n",
       "  </tbody>\n",
       "</table>\n",
       "<p>197 rows × 4 columns</p>\n",
       "</div>"
      ],
      "text/plain": [
       "             player_name  score       team_long_name                    name\n",
       "0           Lionel Messi    295         FC Barcelona         Spain LIGA BBVA\n",
       "41     Cristiano Ronaldo    270       Real Madrid CF         Spain LIGA BBVA\n",
       "2472   Antonio Di Natale    156              Udinese           Italy Serie A\n",
       "1250        Wayne Rooney    135    Manchester United  England Premier League\n",
       "3811  Zlatan Ibrahimovic    120  Paris Saint-Germain          France Ligue 1\n",
       "...                  ...    ...                  ...                     ...\n",
       "4401        Remy Cabella      3     AC Arles-Avignon          France Ligue 1\n",
       "6214    Jeffry Fortes,30      3         FC Dordrecht  Netherlands Eredivisie\n",
       "6370     Danijel Ljuboja      1       Legia Warszawa      Poland Ekstraklasa\n",
       "6373        Pavel Sultes      1          P. Warszawa      Poland Ekstraklasa\n",
       "6374    Piotr Stawarczyk      1         Ruch Chorzów      Poland Ekstraklasa\n",
       "\n",
       "[197 rows x 4 columns]"
      ]
     },
     "execution_count": 51,
     "metadata": {},
     "output_type": "execute_result"
    }
   ],
   "source": [
    "top_scorers_df.loc[top_scorers_df.groupby(['team_long_name'])['score'].idxmax()][['player_name', 'score', 'team_long_name', 'name']].sort_values(by='score', ascending=False)"
   ]
  },
  {
   "cell_type": "markdown",
   "id": "d584afff",
   "metadata": {},
   "source": [
    "#### Teams with most goals in every league"
   ]
  },
  {
   "cell_type": "code",
   "execution_count": 52,
   "id": "36a39911",
   "metadata": {},
   "outputs": [],
   "source": [
    "team_scores = pd.read_sql_query('''  SELECT \n",
    "                                         sub.team AS team,\n",
    "                                         t.team_long_name,\n",
    "                                         l.name,\n",
    "                                         SUM(sub.goals) AS goals\n",
    "                                     FROM (SELECT \n",
    "                                               home_team_api_id AS team,\n",
    "                                               league_id,\n",
    "                                               SUM(home_team_goal) AS goals\n",
    "                                           FROM Match\n",
    "                                           GROUP BY 1\n",
    "                                           UNION\n",
    "                                           SELECT \n",
    "                                               away_team_api_id AS team,\n",
    "                                               league_id,\n",
    "                                               SUM(away_team_goal) AS goals\n",
    "                                           FROM Match\n",
    "                                           GROUP BY 1) AS sub\n",
    "                                     JOIN Team AS t\n",
    "                                     ON t.team_api_id = sub.team\n",
    "                                     JOIN League AS l\n",
    "                                     ON l.id = sub.league_id\n",
    "                                     GROUP BY 1, 2, 3\n",
    "                                     ;''', con)"
   ]
  },
  {
   "cell_type": "code",
   "execution_count": 53,
   "id": "5e5103a4",
   "metadata": {
    "scrolled": true
   },
   "outputs": [
    {
     "data": {
      "text/html": [
       "<div>\n",
       "<style scoped>\n",
       "    .dataframe tbody tr th:only-of-type {\n",
       "        vertical-align: middle;\n",
       "    }\n",
       "\n",
       "    .dataframe tbody tr th {\n",
       "        vertical-align: top;\n",
       "    }\n",
       "\n",
       "    .dataframe thead th {\n",
       "        text-align: right;\n",
       "    }\n",
       "</style>\n",
       "<table border=\"1\" class=\"dataframe\">\n",
       "  <thead>\n",
       "    <tr style=\"text-align: right;\">\n",
       "      <th></th>\n",
       "      <th>name</th>\n",
       "      <th>team_long_name</th>\n",
       "      <th>goals</th>\n",
       "    </tr>\n",
       "  </thead>\n",
       "  <tbody>\n",
       "    <tr>\n",
       "      <th>141</th>\n",
       "      <td>Spain LIGA BBVA</td>\n",
       "      <td>FC Barcelona</td>\n",
       "      <td>849</td>\n",
       "    </tr>\n",
       "    <tr>\n",
       "      <th>233</th>\n",
       "      <td>Scotland Premier League</td>\n",
       "      <td>Celtic</td>\n",
       "      <td>695</td>\n",
       "    </tr>\n",
       "    <tr>\n",
       "      <th>191</th>\n",
       "      <td>Germany 1. Bundesliga</td>\n",
       "      <td>FC Bayern Munich</td>\n",
       "      <td>653</td>\n",
       "    </tr>\n",
       "    <tr>\n",
       "      <th>145</th>\n",
       "      <td>Netherlands Eredivisie</td>\n",
       "      <td>PSV</td>\n",
       "      <td>652</td>\n",
       "    </tr>\n",
       "    <tr>\n",
       "      <th>236</th>\n",
       "      <td>Switzerland Super League</td>\n",
       "      <td>FC Basel</td>\n",
       "      <td>619</td>\n",
       "    </tr>\n",
       "    <tr>\n",
       "      <th>88</th>\n",
       "      <td>England Premier League</td>\n",
       "      <td>Manchester City</td>\n",
       "      <td>606</td>\n",
       "    </tr>\n",
       "    <tr>\n",
       "      <th>202</th>\n",
       "      <td>France Ligue 1</td>\n",
       "      <td>Paris Saint-Germain</td>\n",
       "      <td>568</td>\n",
       "    </tr>\n",
       "    <tr>\n",
       "      <th>174</th>\n",
       "      <td>Portugal Liga ZON Sagres</td>\n",
       "      <td>SL Benfica</td>\n",
       "      <td>568</td>\n",
       "    </tr>\n",
       "    <tr>\n",
       "      <th>223</th>\n",
       "      <td>Italy Serie A</td>\n",
       "      <td>Juventus</td>\n",
       "      <td>543</td>\n",
       "    </tr>\n",
       "    <tr>\n",
       "      <th>142</th>\n",
       "      <td>Belgium Jupiler League</td>\n",
       "      <td>RSC Anderlecht</td>\n",
       "      <td>427</td>\n",
       "    </tr>\n",
       "    <tr>\n",
       "      <th>155</th>\n",
       "      <td>Poland Ekstraklasa</td>\n",
       "      <td>Legia Warszawa</td>\n",
       "      <td>409</td>\n",
       "    </tr>\n",
       "  </tbody>\n",
       "</table>\n",
       "</div>"
      ],
      "text/plain": [
       "                         name       team_long_name  goals\n",
       "141           Spain LIGA BBVA         FC Barcelona    849\n",
       "233   Scotland Premier League               Celtic    695\n",
       "191     Germany 1. Bundesliga     FC Bayern Munich    653\n",
       "145    Netherlands Eredivisie                  PSV    652\n",
       "236  Switzerland Super League             FC Basel    619\n",
       "88     England Premier League      Manchester City    606\n",
       "202            France Ligue 1  Paris Saint-Germain    568\n",
       "174  Portugal Liga ZON Sagres           SL Benfica    568\n",
       "223             Italy Serie A             Juventus    543\n",
       "142    Belgium Jupiler League       RSC Anderlecht    427\n",
       "155        Poland Ekstraklasa       Legia Warszawa    409"
      ]
     },
     "execution_count": 53,
     "metadata": {},
     "output_type": "execute_result"
    }
   ],
   "source": [
    "team_scores.loc[team_scores.groupby(['name'])['goals'].idxmax()][['name', 'team_long_name', 'goals']].sort_values(by='goals', ascending=False)"
   ]
  },
  {
   "cell_type": "markdown",
   "id": "3b23dd05",
   "metadata": {},
   "source": [
    "### Is there such a thing as home advantage?"
   ]
  },
  {
   "cell_type": "markdown",
   "id": "979c19d7",
   "metadata": {},
   "source": [
    "First we'll write a function to calculate a string type match result of **Draw**, **Win** or **Lose** and apply it to two new features `home_team_res` and `away_team_res`."
   ]
  },
  {
   "cell_type": "code",
   "execution_count": 9,
   "id": "f9cb2d94",
   "metadata": {},
   "outputs": [],
   "source": [
    "def match_result(row):\n",
    "    if row['home_team_goal'] - row['away_team_goal'] == 0:\n",
    "        home_team_res, away_team_res = 'Draw', 'Draw'\n",
    "    elif row['home_team_goal'] - row['away_team_goal'] < 0:\n",
    "        home_team_res, away_team_res = 'Lose', 'Win'\n",
    "    else:\n",
    "        home_team_res, away_team_res = 'Win', 'Lose'\n",
    "    return [home_team_res, away_team_res]"
   ]
  },
  {
   "cell_type": "code",
   "execution_count": 10,
   "id": "4ea4cbe1",
   "metadata": {
    "scrolled": false
   },
   "outputs": [],
   "source": [
    "match_df[['home_team_res', 'away_team_res']] = match_df.apply(match_result, axis = 1, result_type=\"expand\")"
   ]
  },
  {
   "cell_type": "code",
   "execution_count": 14,
   "id": "5c9f11bf",
   "metadata": {},
   "outputs": [
    {
     "data": {
      "text/html": [
       "<div>\n",
       "<style scoped>\n",
       "    .dataframe tbody tr th:only-of-type {\n",
       "        vertical-align: middle;\n",
       "    }\n",
       "\n",
       "    .dataframe tbody tr th {\n",
       "        vertical-align: top;\n",
       "    }\n",
       "\n",
       "    .dataframe thead th {\n",
       "        text-align: right;\n",
       "    }\n",
       "</style>\n",
       "<table border=\"1\" class=\"dataframe\">\n",
       "  <thead>\n",
       "    <tr style=\"text-align: right;\">\n",
       "      <th></th>\n",
       "      <th>home_team_res</th>\n",
       "    </tr>\n",
       "  </thead>\n",
       "  <tbody>\n",
       "    <tr>\n",
       "      <th>Win</th>\n",
       "      <td>45.871666</td>\n",
       "    </tr>\n",
       "    <tr>\n",
       "      <th>Lose</th>\n",
       "      <td>28.738597</td>\n",
       "    </tr>\n",
       "    <tr>\n",
       "      <th>Draw</th>\n",
       "      <td>25.389738</td>\n",
       "    </tr>\n",
       "  </tbody>\n",
       "</table>\n",
       "</div>"
      ],
      "text/plain": [
       "      home_team_res\n",
       "Win       45.871666\n",
       "Lose      28.738597\n",
       "Draw      25.389738"
      ]
     },
     "execution_count": 14,
     "metadata": {},
     "output_type": "execute_result"
    }
   ],
   "source": [
    "plot_data"
   ]
  },
  {
   "cell_type": "code",
   "execution_count": 13,
   "id": "33711057",
   "metadata": {},
   "outputs": [
    {
     "data": {
      "image/png": "[encoded data removed]",
      "text/plain": [
       "<Figure size 800x600 with 1 Axes>"
      ]
     },
     "metadata": {},
     "output_type": "display_data"
    }
   ],
   "source": [
    "plot_data = pd.DataFrame(match_df['home_team_res'].value_counts(normalize=True)*100)\n",
    "\n",
    "plt.figure(figsize=(8,6))\n",
    "ax = sns.barplot(y='home_team_res', x=plot_data.index, data=plot_data, color='#1F77B4')\n",
    "plt.bar_label(ax.containers[0], fmt='%.0f%%')\n",
    "title_and_labels(\n",
    "    title='Distribution of Home Team match result',\n",
    "    x_label='Match result',\n",
    "    y_label='Count')"
   ]
  },
  {
   "cell_type": "markdown",
   "id": "0c03c0f9",
   "metadata": {},
   "source": [
    "From the graph above we see that **46%** of times **Home team wins**."
   ]
  },
  {
   "cell_type": "markdown",
   "id": "1ec983be",
   "metadata": {},
   "source": [
    "Let's see the distribution of amount of goals during the match"
   ]
  },
  {
   "cell_type": "code",
   "execution_count": 57,
   "id": "edaf4b9e",
   "metadata": {
    "scrolled": true
   },
   "outputs": [
    {
     "data": {
      "image/png": "[encoded data removed]",
      "text/plain": [
       "<Figure size 1008x288 with 2 Axes>"
      ]
     },
     "metadata": {
      "needs_background": "light"
     },
     "output_type": "display_data"
    }
   ],
   "source": [
    "f, ax = plt.subplots(1,2, figsize=(14, 4))\n",
    "\n",
    "for i, feat in enumerate(['home_team_goal', 'away_team_goal']):\n",
    "    sns.countplot(x=feat, data=match_df, ax=ax[i], color='#1F77B4')\n",
    "    ax[i].set_ylabel(\"Count\", fontsize=16)\n",
    "\n",
    "plt.suptitle('Distribution of goals per match', fontsize=18)\n",
    "ax[0].set_xlabel(\"Home team goals\", fontsize=16)\n",
    "ax[1].set_xlabel(\"Away team goals\", fontsize=16)\n",
    "plt.show()\n"
   ]
  },
  {
   "cell_type": "markdown",
   "id": "6f79c765",
   "metadata": {},
   "source": [
    "We see that even the chances of scoring at least 1 goal for both teams are relatively close, but it is more likely for Away team of not scoring at all than for the Home team"
   ]
  },
  {
   "cell_type": "code",
   "execution_count": 58,
   "id": "1ac7885d",
   "metadata": {},
   "outputs": [],
   "source": [
    "def read_extract(row, column, xml_key, away_or_home):\n",
    "    count = 0\n",
    "    if not pd.isnull(row[column]):\n",
    "        for i in pd.read_xml(row[column])[xml_key]:\n",
    "            if i == row[away_or_home + '_team_api_id']:\n",
    "                count += 1\n",
    "    else:\n",
    "        return row[away_or_home + '_team_goal']\n",
    "    return count"
   ]
  },
  {
   "cell_type": "code",
   "execution_count": 59,
   "id": "4f835308",
   "metadata": {
    "scrolled": false
   },
   "outputs": [],
   "source": [
    "match_df['shoton_away'] = match_df.apply(lambda x : read_extract(x, 'shoton' , 'team' , 'away'), axis = 1)\n",
    "match_df['shoton_home'] = match_df.apply(lambda x : read_extract(x, 'shoton' , 'team' , 'home'), axis = 1)\n",
    "match_df['shotoff_home'] = match_df.apply(lambda x : read_extract(x, 'shotoff' , 'team' , 'away'), axis = 1)\n",
    "match_df['shotoff_away'] = match_df.apply(lambda x : read_extract(x, 'shotoff' , 'team' , 'home'), axis = 1)"
   ]
  },
  {
   "cell_type": "code",
   "execution_count": 60,
   "id": "81d1a1ac",
   "metadata": {},
   "outputs": [
    {
     "data": {
      "text/html": [
       "<div>\n",
       "<style scoped>\n",
       "    .dataframe tbody tr th:only-of-type {\n",
       "        vertical-align: middle;\n",
       "    }\n",
       "\n",
       "    .dataframe tbody tr th {\n",
       "        vertical-align: top;\n",
       "    }\n",
       "\n",
       "    .dataframe thead th {\n",
       "        text-align: right;\n",
       "    }\n",
       "</style>\n",
       "<table border=\"1\" class=\"dataframe\">\n",
       "  <thead>\n",
       "    <tr style=\"text-align: right;\">\n",
       "      <th></th>\n",
       "      <th>shoton_away</th>\n",
       "      <th>shoton_home</th>\n",
       "      <th>shotoff_home</th>\n",
       "      <th>shotoff_away</th>\n",
       "    </tr>\n",
       "  </thead>\n",
       "  <tbody>\n",
       "    <tr>\n",
       "      <th>4730</th>\n",
       "      <td>4</td>\n",
       "      <td>16</td>\n",
       "      <td>4</td>\n",
       "      <td>6</td>\n",
       "    </tr>\n",
       "    <tr>\n",
       "      <th>16817</th>\n",
       "      <td>0</td>\n",
       "      <td>2</td>\n",
       "      <td>0</td>\n",
       "      <td>2</td>\n",
       "    </tr>\n",
       "    <tr>\n",
       "      <th>18885</th>\n",
       "      <td>2</td>\n",
       "      <td>2</td>\n",
       "      <td>2</td>\n",
       "      <td>2</td>\n",
       "    </tr>\n",
       "    <tr>\n",
       "      <th>7025</th>\n",
       "      <td>0</td>\n",
       "      <td>2</td>\n",
       "      <td>0</td>\n",
       "      <td>2</td>\n",
       "    </tr>\n",
       "    <tr>\n",
       "      <th>10122</th>\n",
       "      <td>4</td>\n",
       "      <td>5</td>\n",
       "      <td>6</td>\n",
       "      <td>12</td>\n",
       "    </tr>\n",
       "  </tbody>\n",
       "</table>\n",
       "</div>"
      ],
      "text/plain": [
       "       shoton_away  shoton_home  shotoff_home  shotoff_away\n",
       "4730             4           16             4             6\n",
       "16817            0            2             0             2\n",
       "18885            2            2             2             2\n",
       "7025             0            2             0             2\n",
       "10122            4            5             6            12"
      ]
     },
     "execution_count": 60,
     "metadata": {},
     "output_type": "execute_result"
    }
   ],
   "source": [
    "match_df.iloc[:,-4:].sample(5)"
   ]
  },
  {
   "cell_type": "code",
   "execution_count": 61,
   "id": "69087e14",
   "metadata": {},
   "outputs": [],
   "source": [
    "shotons = match_df[[\"shoton_away\", \"shoton_home\"]]"
   ]
  },
  {
   "cell_type": "code",
   "execution_count": 62,
   "id": "fc3651d1",
   "metadata": {},
   "outputs": [
    {
     "name": "stdout",
     "output_type": "stream",
     "text": [
      "<class 'pandas.core.frame.DataFrame'>\n",
      "RangeIndex: 25979 entries, 0 to 25978\n",
      "Data columns (total 2 columns):\n",
      " #   Column       Non-Null Count  Dtype\n",
      "---  ------       --------------  -----\n",
      " 0   shoton_away  25979 non-null  int64\n",
      " 1   shoton_home  25979 non-null  int64\n",
      "dtypes: int64(2)\n",
      "memory usage: 406.0 KB\n"
     ]
    }
   ],
   "source": [
    "shotons.info()"
   ]
  },
  {
   "cell_type": "code",
   "execution_count": 63,
   "id": "07a58c02",
   "metadata": {
    "scrolled": false
   },
   "outputs": [
    {
     "data": {
      "image/png": "[encoded data removed]",
      "text/plain": [
       "<Figure size 1008x432 with 1 Axes>"
      ]
     },
     "metadata": {
      "needs_background": "light"
     },
     "output_type": "display_data"
    }
   ],
   "source": [
    "plt.figure(figsize=(14,6))\n",
    "sns.kdeplot(data=match_df[[\"shoton_away\", \"shoton_home\"]], shade=True,legend=True, bw_adjust=2)\n",
    "plt.show()"
   ]
  },
  {
   "cell_type": "code",
   "execution_count": 64,
   "id": "11c5095e",
   "metadata": {},
   "outputs": [
    {
     "data": {
      "image/png": "[encoded data removed]",
      "text/plain": [
       "<Figure size 1008x432 with 1 Axes>"
      ]
     },
     "metadata": {
      "needs_background": "light"
     },
     "output_type": "display_data"
    }
   ],
   "source": [
    "plt.figure(figsize=(14,6))\n",
    "sns.kdeplot(data=match_df[[\"shotoff_away\", \"shotoff_home\"]], shade=True,legend=True, bw_adjust=2)\n",
    "plt.show()"
   ]
  },
  {
   "cell_type": "markdown",
   "id": "c342aacf",
   "metadata": {},
   "source": [
    "Home team is a bit ahead as well in a shots on goal attempts (has more opportunities), as well as Away team is a bit ahead of shots off. "
   ]
  },
  {
   "cell_type": "markdown",
   "id": "cc182df0",
   "metadata": {},
   "source": [
    "### Players"
   ]
  },
  {
   "cell_type": "markdown",
   "id": "761dfb84",
   "metadata": {},
   "source": [
    "Let's compare the overall_rating and overall_potential of the players."
   ]
  },
  {
   "cell_type": "code",
   "execution_count": 65,
   "id": "b091502a",
   "metadata": {},
   "outputs": [
    {
     "data": {
      "image/png": "[encoded data removed]",
      "text/plain": [
       "<Figure size 1008x432 with 1 Axes>"
      ]
     },
     "metadata": {
      "needs_background": "light"
     },
     "output_type": "display_data"
    }
   ],
   "source": [
    "plt.figure(figsize=(14,6))\n",
    "\n",
    "sns.kdeplot(data=player_att_df[[\"overall_rating\", \"potential\"]], shade=True, legend=True, bw_adjust=2)\n",
    "plt.show()"
   ]
  },
  {
   "cell_type": "markdown",
   "id": "3d09696c",
   "metadata": {},
   "source": [
    "As it is seen, players potential mostly is slightly higher than his actual rating."
   ]
  },
  {
   "cell_type": "code",
   "execution_count": 66,
   "id": "43f61bac",
   "metadata": {},
   "outputs": [],
   "source": [
    "potential_diff = pd.DataFrame({'diff':player_att_df['potential'] - player_att_df['overall_rating']})\n",
    "\n",
    "def player_potential(row):\n",
    "    if row['diff'] > 0:\n",
    "        return 'No'\n",
    "    else:\n",
    "        return 'Yes'\n",
    "\n",
    "potential_diff['exceeds'] = potential_diff.apply(player_potential, axis=1)"
   ]
  },
  {
   "cell_type": "code",
   "execution_count": 67,
   "id": "2030be95",
   "metadata": {},
   "outputs": [
    {
     "data": {
      "image/png": "[encoded data removed]",
      "text/plain": [
       "<Figure size 576x432 with 1 Axes>"
      ]
     },
     "metadata": {},
     "output_type": "display_data"
    }
   ],
   "source": [
    "plt.figure(figsize=(8,6))\n",
    "potential_diff['exceeds'].value_counts().plot(kind='pie', autopct='%1.1f%%', textprops={'fontsize': 12})\n",
    "plt.title('Does Players ranking ever reach his potential?', fontsize=18)\n",
    "plt.show()"
   ]
  },
  {
   "cell_type": "markdown",
   "id": "4184b635",
   "metadata": {},
   "source": [
    "From the above graph we may see that only 1/4 of all players ratings ever reach their potential."
   ]
  },
  {
   "cell_type": "code",
   "execution_count": 68,
   "id": "4e2c31f2",
   "metadata": {},
   "outputs": [
    {
     "data": {
      "text/html": [
       "<div>\n",
       "<style scoped>\n",
       "    .dataframe tbody tr th:only-of-type {\n",
       "        vertical-align: middle;\n",
       "    }\n",
       "\n",
       "    .dataframe tbody tr th {\n",
       "        vertical-align: top;\n",
       "    }\n",
       "\n",
       "    .dataframe thead th {\n",
       "        text-align: right;\n",
       "    }\n",
       "</style>\n",
       "<table border=\"1\" class=\"dataframe\">\n",
       "  <thead>\n",
       "    <tr style=\"text-align: right;\">\n",
       "      <th></th>\n",
       "      <th>player_api_id</th>\n",
       "      <th>player_name</th>\n",
       "      <th>birthday</th>\n",
       "      <th>height</th>\n",
       "      <th>weight</th>\n",
       "    </tr>\n",
       "  </thead>\n",
       "  <tbody>\n",
       "    <tr>\n",
       "      <th>0</th>\n",
       "      <td>505942</td>\n",
       "      <td>Aaron Appindangoye</td>\n",
       "      <td>1992-02-29 00:00:00</td>\n",
       "      <td>182.88</td>\n",
       "      <td>187</td>\n",
       "    </tr>\n",
       "    <tr>\n",
       "      <th>1</th>\n",
       "      <td>155782</td>\n",
       "      <td>Aaron Cresswell</td>\n",
       "      <td>1989-12-15 00:00:00</td>\n",
       "      <td>170.18</td>\n",
       "      <td>146</td>\n",
       "    </tr>\n",
       "    <tr>\n",
       "      <th>2</th>\n",
       "      <td>162549</td>\n",
       "      <td>Aaron Doran</td>\n",
       "      <td>1991-05-13 00:00:00</td>\n",
       "      <td>170.18</td>\n",
       "      <td>163</td>\n",
       "    </tr>\n",
       "    <tr>\n",
       "      <th>3</th>\n",
       "      <td>30572</td>\n",
       "      <td>Aaron Galindo</td>\n",
       "      <td>1982-05-08 00:00:00</td>\n",
       "      <td>182.88</td>\n",
       "      <td>198</td>\n",
       "    </tr>\n",
       "    <tr>\n",
       "      <th>4</th>\n",
       "      <td>23780</td>\n",
       "      <td>Aaron Hughes</td>\n",
       "      <td>1979-11-08 00:00:00</td>\n",
       "      <td>182.88</td>\n",
       "      <td>154</td>\n",
       "    </tr>\n",
       "    <tr>\n",
       "      <th>...</th>\n",
       "      <td>...</td>\n",
       "      <td>...</td>\n",
       "      <td>...</td>\n",
       "      <td>...</td>\n",
       "      <td>...</td>\n",
       "    </tr>\n",
       "    <tr>\n",
       "      <th>11055</th>\n",
       "      <td>26357</td>\n",
       "      <td>Zoumana Camara</td>\n",
       "      <td>1979-04-03 00:00:00</td>\n",
       "      <td>182.88</td>\n",
       "      <td>168</td>\n",
       "    </tr>\n",
       "    <tr>\n",
       "      <th>11056</th>\n",
       "      <td>111182</td>\n",
       "      <td>Zsolt Laczko</td>\n",
       "      <td>1986-12-18 00:00:00</td>\n",
       "      <td>182.88</td>\n",
       "      <td>176</td>\n",
       "    </tr>\n",
       "    <tr>\n",
       "      <th>11057</th>\n",
       "      <td>36491</td>\n",
       "      <td>Zsolt Low</td>\n",
       "      <td>1979-04-29 00:00:00</td>\n",
       "      <td>180.34</td>\n",
       "      <td>154</td>\n",
       "    </tr>\n",
       "    <tr>\n",
       "      <th>11058</th>\n",
       "      <td>35506</td>\n",
       "      <td>Zurab Khizanishvili</td>\n",
       "      <td>1981-10-06 00:00:00</td>\n",
       "      <td>185.42</td>\n",
       "      <td>172</td>\n",
       "    </tr>\n",
       "    <tr>\n",
       "      <th>11059</th>\n",
       "      <td>39902</td>\n",
       "      <td>Zvjezdan Misimovic</td>\n",
       "      <td>1982-06-05 00:00:00</td>\n",
       "      <td>180.34</td>\n",
       "      <td>176</td>\n",
       "    </tr>\n",
       "  </tbody>\n",
       "</table>\n",
       "<p>11060 rows × 5 columns</p>\n",
       "</div>"
      ],
      "text/plain": [
       "       player_api_id          player_name             birthday  height  weight\n",
       "0             505942   Aaron Appindangoye  1992-02-29 00:00:00  182.88     187\n",
       "1             155782      Aaron Cresswell  1989-12-15 00:00:00  170.18     146\n",
       "2             162549          Aaron Doran  1991-05-13 00:00:00  170.18     163\n",
       "3              30572        Aaron Galindo  1982-05-08 00:00:00  182.88     198\n",
       "4              23780         Aaron Hughes  1979-11-08 00:00:00  182.88     154\n",
       "...              ...                  ...                  ...     ...     ...\n",
       "11055          26357       Zoumana Camara  1979-04-03 00:00:00  182.88     168\n",
       "11056         111182         Zsolt Laczko  1986-12-18 00:00:00  182.88     176\n",
       "11057          36491            Zsolt Low  1979-04-29 00:00:00  180.34     154\n",
       "11058          35506  Zurab Khizanishvili  1981-10-06 00:00:00  185.42     172\n",
       "11059          39902   Zvjezdan Misimovic  1982-06-05 00:00:00  180.34     176\n",
       "\n",
       "[11060 rows x 5 columns]"
      ]
     },
     "execution_count": 68,
     "metadata": {},
     "output_type": "execute_result"
    }
   ],
   "source": [
    "player_df"
   ]
  },
  {
   "cell_type": "markdown",
   "id": "e0ae483e",
   "metadata": {},
   "source": [
    "Does physical players data like height or weight has correlation with his overall rating?"
   ]
  },
  {
   "cell_type": "code",
   "execution_count": 69,
   "id": "3857b8bb",
   "metadata": {},
   "outputs": [],
   "source": [
    "physical_data_rating = pd.DataFrame(player_att_df.groupby(['player_api_id'])['overall_rating'].mean()).reset_index().merge(player_df[['weight', 'height', 'player_api_id']], on='player_api_id')"
   ]
  },
  {
   "cell_type": "code",
   "execution_count": 70,
   "id": "dc49ef57",
   "metadata": {},
   "outputs": [
    {
     "data": {
      "image/png": "[encoded data removed]",
      "text/plain": [
       "<Figure size 576x432 with 2 Axes>"
      ]
     },
     "metadata": {
      "needs_background": "light"
     },
     "output_type": "display_data"
    }
   ],
   "source": [
    "plt.figure(figsize=(8,6))\n",
    "sns.heatmap(physical_data_rating.drop(columns=['player_api_id']).corr(method='pearson'), annot=True, cmap='Blues', vmin=-1, vmax=1)\n",
    "plt.show()"
   ]
  },
  {
   "cell_type": "markdown",
   "id": "c0b04c90",
   "metadata": {},
   "source": [
    "There is no, or it is very weak"
   ]
  },
  {
   "cell_type": "markdown",
   "id": "12ad582a",
   "metadata": {},
   "source": [
    "## Predicting the missing values for Players Attributes"
   ]
  },
  {
   "cell_type": "markdown",
   "id": "efbd716a",
   "metadata": {},
   "source": [
    "So currently we are missing data of features for two types:\n",
    "\n",
    "Categorical: `attacking_work_rate`, `defensive_work_rate`\n",
    "\n",
    "Continuous: `volleys`, `curve`, `agility`, `balance`, `jumping`, `vision`, `sliding_tackle`"
   ]
  },
  {
   "cell_type": "code",
   "execution_count": 71,
   "id": "f4fb9129",
   "metadata": {},
   "outputs": [],
   "source": [
    "def linear_predicting_missing_val(df, feature):\n",
    "    model = LinearRegression()\n",
    "    df = df.select_dtypes(exclude=['object', 'int64'])\n",
    "    \n",
    "    null_features = df.isna().any()\n",
    "    null_features[feature] = False\n",
    "    \n",
    "    test_data = df.loc[:, ~null_features][df[feature].isnull()]\n",
    "    \n",
    "    train_data = df.loc[:, ~null_features]\n",
    "    train_data = train_data.dropna()\n",
    "    \n",
    "    x_train, y_train = train_data.drop(feature, axis=1), train_data[feature]\n",
    "    \n",
    "    model.fit(x_train, y_train)\n",
    "    x_test = test_data.drop(feature, axis=1)\n",
    "    y_pred = model.predict(x_test)\n",
    "\n",
    "    return y_pred"
   ]
  },
  {
   "cell_type": "code",
   "execution_count": 72,
   "id": "c6e6e103",
   "metadata": {},
   "outputs": [],
   "source": [
    "def logistic_predicting_missing_val(df, feature):\n",
    "    model = LogisticRegression(solver='liblinear', random_state=0)\n",
    "    df = player_att_df.select_dtypes(exclude=['int64'])\n",
    "    df = df.drop(columns=['preferred_foot', 'date'])\n",
    "    \n",
    "    null_features = df.isna().any()\n",
    "    null_features[feature] = False\n",
    "    \n",
    "    test_data = df.loc[:, ~null_features][df[feature].isnull()]\n",
    "    \n",
    "    train_data = df.loc[:, ~null_features]\n",
    "    train_data = train_data.dropna()\n",
    "    \n",
    "    x_train, y_train = train_data.drop(feature, axis=1), train_data[feature]\n",
    "    \n",
    "    model.fit(x_train, y_train)\n",
    "    x_test = test_data.drop(feature, axis=1)\n",
    "    y_pred = model.predict(x_test)\n",
    "    \n",
    "    return y_pred"
   ]
  },
  {
   "cell_type": "code",
   "execution_count": 73,
   "id": "6a789d17",
   "metadata": {},
   "outputs": [],
   "source": [
    "def concat_predictions(df, df_for_pred):\n",
    "    df.drop(index=df_for_pred.index, inplace=True)\n",
    "    df = pd.concat([df, df_for_pred])\n",
    "    return df"
   ]
  },
  {
   "cell_type": "markdown",
   "id": "95d6a687",
   "metadata": {},
   "source": [
    "Testing prediction accuracy Logistic Regression"
   ]
  },
  {
   "cell_type": "code",
   "execution_count": 74,
   "id": "c1fc28cf",
   "metadata": {},
   "outputs": [],
   "source": [
    "x = player_att_df.select_dtypes(exclude=['int64']).dropna()\n",
    "x = x[[\n",
    "    'heading_accuracy',\n",
    "    'jumping',\n",
    "    'strength',\n",
    "    'aggression',\n",
    "    'interceptions',\n",
    "    'marking',\n",
    "    'standing_tackle',\n",
    "    ]]\n",
    "y = player_att_df.dropna()['defensive_work_rate']\n",
    "\n",
    "X_train, X_test, y_train, y_test = train_test_split(x, y, test_size=0.3, random_state=11, stratify=y)\n",
    "\n",
    "scaler = StandardScaler()\n",
    "X_train = scaler.fit_transform(X_train)\n",
    "X_test = scaler.transform(X_test)"
   ]
  },
  {
   "cell_type": "code",
   "execution_count": 75,
   "id": "8fc5e30c",
   "metadata": {},
   "outputs": [
    {
     "data": {
      "text/plain": [
       "{'C': 1, 'solver': 'newton-cg'}"
      ]
     },
     "execution_count": 75,
     "metadata": {},
     "output_type": "execute_result"
    }
   ],
   "source": [
    "parameters = [{'solver': ['newton-cg', 'lbfgs', 'liblinear'],\n",
    "              'C':[0.001, 0.01, 0.1, 1, 5, 10, 100]}]\n",
    "\n",
    "gridsearch = GridSearchCV(LogisticRegression(max_iter=1000), parameters)\n",
    "gridsearch.fit(X_train, y_train)\n",
    "gridsearch.best_params_"
   ]
  },
  {
   "cell_type": "code",
   "execution_count": 76,
   "id": "7f0ee2a0",
   "metadata": {},
   "outputs": [
    {
     "name": "stdout",
     "output_type": "stream",
     "text": [
      "74.61825200098393 %\n"
     ]
    }
   ],
   "source": [
    "model = LogisticRegression(solver = \"newton-cg\", C=1, random_state=11)\n",
    "model.fit(X_train, y_train)\n",
    "y_pred = model.predict(X_test)\n",
    "\n",
    "accuracy = accuracy_score(y_test, y_pred)\n",
    "r2_score = model.score(X_test, y_test)\n",
    "print(r2_score*100,'%')"
   ]
  },
  {
   "cell_type": "code",
   "execution_count": 77,
   "id": "50f4f76f",
   "metadata": {},
   "outputs": [
    {
     "data": {
      "image/png": "[encoded data removed]",
      "text/plain": [
       "<Figure size 432x288 with 2 Axes>"
      ]
     },
     "metadata": {
      "needs_background": "light"
     },
     "output_type": "display_data"
    }
   ],
   "source": [
    "ConfusionMatrixDisplay.from_predictions(y_test, y_pred, cmap='Blues')\n",
    "plt.show()"
   ]
  },
  {
   "cell_type": "code",
   "execution_count": 78,
   "id": "c3c5c8f7",
   "metadata": {},
   "outputs": [
    {
     "name": "stdout",
     "output_type": "stream",
     "text": [
      "              precision    recall  f1-score   support\n",
      "\n",
      "        high       0.60      0.08      0.14      8092\n",
      "         low       0.43      0.02      0.04      5527\n",
      "      medium       0.75      0.99      0.85     39230\n",
      "\n",
      "    accuracy                           0.75     52849\n",
      "   macro avg       0.59      0.36      0.34     52849\n",
      "weighted avg       0.69      0.75      0.66     52849\n",
      "\n"
     ]
    }
   ],
   "source": [
    "print(classification_report(y_test, y_pred))"
   ]
  },
  {
   "cell_type": "markdown",
   "id": "d4243197",
   "metadata": {},
   "source": [
    "Testing prediciton accuracy Linear Regression"
   ]
  },
  {
   "cell_type": "code",
   "execution_count": 79,
   "id": "99bc7912",
   "metadata": {},
   "outputs": [
    {
     "name": "stdout",
     "output_type": "stream",
     "text": [
      "80.91884675194203 %\n"
     ]
    }
   ],
   "source": [
    "x = player_att_df.select_dtypes(exclude=['object', 'int64']).dropna()\n",
    "x = x.drop(columns=['volleys'])\n",
    "y = player_att_df.select_dtypes(exclude=['object', 'int64']).dropna()['volleys']\n",
    "\n",
    "X_train, X_test, y_train, y_test = train_test_split(x, y, test_size=0.2, random_state=11)\n",
    "\n",
    "scaler = StandardScaler()\n",
    "X_train = scaler.fit_transform(X_train)\n",
    "X_test = scaler.transform(X_test)\n",
    "\n",
    "model = LinearRegression()\n",
    "model.fit(X_train, y_train)\n",
    "y_pred = model.predict(X_test)\n",
    "\n",
    "# accuracy = accuracy_score(y_test, y_pred)\n",
    "r2_score = model.score(X_test, y_test)\n",
    "print(r2_score*100,'%')"
   ]
  },
  {
   "cell_type": "markdown",
   "id": "9c72ba58",
   "metadata": {},
   "source": [
    "#### Predicting continuous features with Linear Regression"
   ]
  },
  {
   "cell_type": "code",
   "execution_count": 80,
   "id": "99cdad3d",
   "metadata": {},
   "outputs": [],
   "source": [
    "df_for_pred = player_att_df[player_att_df.isnull().any(axis=1)]\n",
    "features_to_predict = ['volleys', 'curve', 'agility', 'balance', 'jumping', 'vision', 'sliding_tackle']\n",
    "\n",
    "for feature in features_to_predict:\n",
    "    df_for_pred.loc[df_for_pred[feature].isnull(), [feature]] = linear_predicting_missing_val(player_att_df, feature).round()\n",
    "\n",
    "player_att_df = concat_predictions(player_att_df, df_for_pred)"
   ]
  },
  {
   "cell_type": "markdown",
   "id": "06e54e40",
   "metadata": {},
   "source": [
    "#### Predicting categorical features with Logistic Regression"
   ]
  },
  {
   "cell_type": "code",
   "execution_count": 81,
   "id": "48827b73",
   "metadata": {},
   "outputs": [],
   "source": [
    "df_for_pred = player_att_df[player_att_df.isnull().any(axis=1)]\n",
    "features_to_predict = ['attacking_work_rate', 'defensive_work_rate']\n",
    "\n",
    "for feature in features_to_predict:\n",
    "    df_for_pred.loc[df_for_pred[feature].isnull(), [feature]] = logistic_predicting_missing_val(player_att_df, feature)\n",
    "\n",
    "player_att_df = concat_predictions(player_att_df, df_for_pred)"
   ]
  },
  {
   "cell_type": "markdown",
   "id": "3c9943d0",
   "metadata": {},
   "source": [
    "Finally we see that there is no missing data"
   ]
  },
  {
   "cell_type": "code",
   "execution_count": 82,
   "id": "777417eb",
   "metadata": {},
   "outputs": [
    {
     "data": {
      "text/plain": [
       "id                     0.0\n",
       "player_fifa_api_id     0.0\n",
       "player_api_id          0.0\n",
       "date                   0.0\n",
       "overall_rating         0.0\n",
       "potential              0.0\n",
       "preferred_foot         0.0\n",
       "attacking_work_rate    0.0\n",
       "defensive_work_rate    0.0\n",
       "crossing               0.0\n",
       "finishing              0.0\n",
       "heading_accuracy       0.0\n",
       "short_passing          0.0\n",
       "volleys                0.0\n",
       "dribbling              0.0\n",
       "curve                  0.0\n",
       "free_kick_accuracy     0.0\n",
       "long_passing           0.0\n",
       "ball_control           0.0\n",
       "acceleration           0.0\n",
       "sprint_speed           0.0\n",
       "agility                0.0\n",
       "reactions              0.0\n",
       "balance                0.0\n",
       "shot_power             0.0\n",
       "jumping                0.0\n",
       "stamina                0.0\n",
       "strength               0.0\n",
       "long_shots             0.0\n",
       "aggression             0.0\n",
       "interceptions          0.0\n",
       "positioning            0.0\n",
       "vision                 0.0\n",
       "penalties              0.0\n",
       "marking                0.0\n",
       "standing_tackle        0.0\n",
       "sliding_tackle         0.0\n",
       "gk_diving              0.0\n",
       "gk_handling            0.0\n",
       "gk_kicking             0.0\n",
       "gk_positioning         0.0\n",
       "gk_reflexes            0.0\n",
       "dtype: float64"
      ]
     },
     "execution_count": 82,
     "metadata": {},
     "output_type": "execute_result"
    }
   ],
   "source": [
    "percentage_of_nulls(player_att_df)"
   ]
  },
  {
   "cell_type": "markdown",
   "id": "51270b74",
   "metadata": {},
   "source": [
    "Let's take a look at the predicted data normality.\n",
    "\n",
    "* <font color='orange'>Orange line</font> - actual KDE\n",
    "* Black line - theoretical KDE"
   ]
  },
  {
   "cell_type": "code",
   "execution_count": 83,
   "id": "36be9fbf",
   "metadata": {},
   "outputs": [],
   "source": [
    "predicted_data_norm = df_for_pred[['volleys', 'curve', 'agility', 'balance', 'jumping', 'vision', 'sliding_tackle']]"
   ]
  },
  {
   "cell_type": "code",
   "execution_count": 84,
   "id": "88ef37ac",
   "metadata": {},
   "outputs": [
    {
     "data": {
      "image/png": "[encoded data removed]",
      "text/plain": [
       "<Figure size 1152x1008 with 16 Axes>"
      ]
     },
     "metadata": {
      "needs_background": "light"
     },
     "output_type": "display_data"
    }
   ],
   "source": [
    "f, axes = plt.subplots(3,3, figsize=(16,14))\n",
    "\n",
    "for col, ax in zip(predicted_data_norm.columns, axes.flat):\n",
    "    ax2 = ax.twinx()\n",
    "    predicted_data_norm[col].plot.hist(ax=ax, rot=0, bins=20)\n",
    "    predicted_data_norm[col].plot.kde(ax=ax2, color='orange')\n",
    "    mu, std = norm.fit(predicted_data_norm[col])\n",
    "    xmin, xmax = plt.xlim()\n",
    "    x = np.linspace(xmin, xmax, 100)\n",
    "    p = norm.pdf(x, mu, std)\n",
    "    plt.plot(x, p, 'k', linewidth=1)\n",
    "    ax.set_title(col)\n",
    "plt.show()"
   ]
  },
  {
   "cell_type": "markdown",
   "id": "f785c0cb",
   "metadata": {},
   "source": [
    "We see that (except one feature that has 2 peaks), the data was nicely predicted with a normal distribution."
   ]
  },
  {
   "cell_type": "markdown",
   "id": "6f8cc35c",
   "metadata": {},
   "source": [
    "### What is the most popular players field formation and does it determine the team's victory?"
   ]
  },
  {
   "cell_type": "markdown",
   "id": "7a45ed0d",
   "metadata": {},
   "source": [
    "The Match dataset consist information about coordinates of every player positions on a field. The so called Formation.\n",
    "\n",
    "Formations are described mainly by three or four numbers in order to denote how many players are in each row of the formation, from the most defensive to the most advanced.\n",
    "\n",
    "According to the [global sports content platform](https://www.sportskeeda.com/football/3-most-popular-football-formations-today), 4-3-3 formation is nowadays one of the most popular formation used in a football gradually replacing the former most popular 4-4-2 formation. It is an attacking formation with strong defense capabilities."
   ]
  },
  {
   "cell_type": "markdown",
   "id": "7f0cae7e",
   "metadata": {},
   "source": [
    "<h3><center>The 4-3-3 formation</center></h3>"
   ]
  },
  {
   "cell_type": "markdown",
   "id": "13f95423",
   "metadata": {},
   "source": [
    "![433.png](https://staticg.sportskeeda.com/editor/2020/08/dd252-15965687468793-800.jpg)"
   ]
  },
  {
   "cell_type": "markdown",
   "id": "3fb177d2",
   "metadata": {},
   "source": [
    "Our dataset consist matches up to year 2016. There is unfortunatelly no information about the latest games, but we could still see what was the most popular formations used at that time."
   ]
  },
  {
   "cell_type": "code",
   "execution_count": 85,
   "id": "80932af3",
   "metadata": {},
   "outputs": [],
   "source": [
    "def field_formation(x, home_away):\n",
    "    y = []\n",
    "    # we skip the goalkeeper as he is not in formation\n",
    "    for number in range(2, 12):\n",
    "        if not pd.isnull(x[home_away + '_player_Y' + str(number)]):\n",
    "            y.append(x[home_away + '_player_Y' + str(number)])\n",
    "        else:\n",
    "            return np.nan\n",
    "    form = ''.join([str(i) for i in Counter(y).values()])\n",
    "    return form"
   ]
  },
  {
   "cell_type": "code",
   "execution_count": 86,
   "id": "fff48209",
   "metadata": {},
   "outputs": [],
   "source": [
    "match_df[\"home_formation\"] = match_df.apply(lambda x: field_formation(x, \"home\"), axis=1)\n",
    "match_df[\"away_formation\"] = match_df.apply(lambda x: field_formation(x, \"away\"), axis=1)"
   ]
  },
  {
   "cell_type": "code",
   "execution_count": 87,
   "id": "145b9e2e",
   "metadata": {},
   "outputs": [],
   "source": [
    "df1, df2 = pd.DataFrame(), pd.DataFrame()\n",
    "\n",
    "df1[['result', 'formation']] = match_df[['home_team_res', 'home_formation']]\n",
    "df2[['result', 'formation']] = match_df[['away_team_res', 'away_formation']]\n",
    "\n",
    "formation_and_result = pd.concat([df1, df2])"
   ]
  },
  {
   "cell_type": "code",
   "execution_count": 88,
   "id": "9e5fac03",
   "metadata": {},
   "outputs": [
    {
     "data": {
      "image/png": "[encoded data removed]",
      "text/plain": [
       "<Figure size 1008x432 with 1 Axes>"
      ]
     },
     "metadata": {
      "needs_background": "light"
     },
     "output_type": "display_data"
    }
   ],
   "source": [
    "plt.figure(figsize=(14,6))\n",
    "\n",
    "graph = sns.countplot(x='formation',\n",
    "              data=formation_and_result,\n",
    "              hue='result', \n",
    "              order = formation_and_result['formation'].value_counts().iloc[:20].index)\n",
    "\n",
    "graph.set_xticklabels(\n",
    "    graph.get_xticklabels(),\n",
    "    rotation=75,\n",
    "    horizontalalignment='right',\n",
    "    fontsize=14)\n",
    "\n",
    "title_and_labels(\n",
    "    title = \"Distribution of 20 most popular formations with match result\",\n",
    "    x_label = \"Formation\",\n",
    "    y_label = \"Count\"\n",
    ")\n",
    "plt.legend(loc='best', fontsize=14)\n",
    "\n",
    "plt.show()"
   ]
  },
  {
   "cell_type": "markdown",
   "id": "007c110c",
   "metadata": {},
   "source": [
    "As per graph above we see that the most popular formations are **4-2-3-1**, **4-4-2** and **4-3-3**. Although there is no guarantee of victory, but **4-3-3** stands out from the rest in terms of the slightly higher number of matches won using this scheme than the other."
   ]
  },
  {
   "cell_type": "markdown",
   "id": "2061fc3d",
   "metadata": {},
   "source": [
    "What about the goals scored/missed ratio according to the field formation?"
   ]
  },
  {
   "cell_type": "code",
   "execution_count": 89,
   "id": "f839c193",
   "metadata": {},
   "outputs": [],
   "source": [
    "df1, df2, df3, df4 = pd.DataFrame(), pd.DataFrame(), pd.DataFrame(), pd.DataFrame()\n",
    "\n",
    "df1[['scored_goals', 'formation']] = match_df[['home_team_goal', 'home_formation']]\n",
    "df2[['missed_goals', 'formation']] = match_df[['away_team_goal', 'home_formation']]\n",
    "df3[['scored_goals', 'formation']] = match_df[['away_team_goal', 'away_formation']]\n",
    "df4[['missed_goals', 'formation']] = match_df[['home_team_goal', 'away_formation']]\n",
    "\n",
    "formation_and_goals = pd.concat(\n",
    "    [df1.merge(df2, left_index=True, right_index=True).drop(columns=['formation_y']), \n",
    "     df3.merge(df4, left_index=True, right_index=True).drop(columns=['formation_y'])]).rename(columns={'formation_x': 'formation'})"
   ]
  },
  {
   "cell_type": "code",
   "execution_count": 90,
   "id": "4187d685",
   "metadata": {},
   "outputs": [],
   "source": [
    "formation_and_goals = pd.DataFrame(formation_and_goals.groupby(['formation']).agg({'formation':'count', 'scored_goals': 'mean', 'missed_goals':'mean'}))\n",
    "formation_and_goals.rename(columns={'formation': 'count'}, inplace=True)"
   ]
  },
  {
   "cell_type": "code",
   "execution_count": 91,
   "id": "2f6547c2",
   "metadata": {},
   "outputs": [],
   "source": [
    "formation_and_goals = formation_and_goals[formation_and_goals['count'] > 50].reset_index()\n",
    "formation_and_goals['ratio'] = formation_and_goals['scored_goals'] / formation_and_goals['missed_goals']"
   ]
  },
  {
   "cell_type": "code",
   "execution_count": 92,
   "id": "c12485da",
   "metadata": {},
   "outputs": [
    {
     "data": {
      "text/html": [
       "<div>\n",
       "<style scoped>\n",
       "    .dataframe tbody tr th:only-of-type {\n",
       "        vertical-align: middle;\n",
       "    }\n",
       "\n",
       "    .dataframe tbody tr th {\n",
       "        vertical-align: top;\n",
       "    }\n",
       "\n",
       "    .dataframe thead th {\n",
       "        text-align: right;\n",
       "    }\n",
       "</style>\n",
       "<table border=\"1\" class=\"dataframe\">\n",
       "  <thead>\n",
       "    <tr style=\"text-align: right;\">\n",
       "      <th></th>\n",
       "      <th>formation</th>\n",
       "      <th>count</th>\n",
       "      <th>scored_goals</th>\n",
       "      <th>missed_goals</th>\n",
       "      <th>ratio</th>\n",
       "    </tr>\n",
       "  </thead>\n",
       "  <tbody>\n",
       "    <tr>\n",
       "      <th>10</th>\n",
       "      <td>4213</td>\n",
       "      <td>70</td>\n",
       "      <td>1.485714</td>\n",
       "      <td>1.214286</td>\n",
       "      <td>1.223529</td>\n",
       "    </tr>\n",
       "    <tr>\n",
       "      <th>7</th>\n",
       "      <td>4123</td>\n",
       "      <td>171</td>\n",
       "      <td>1.555556</td>\n",
       "      <td>1.345029</td>\n",
       "      <td>1.156522</td>\n",
       "    </tr>\n",
       "    <tr>\n",
       "      <th>8</th>\n",
       "      <td>4132</td>\n",
       "      <td>491</td>\n",
       "      <td>1.415479</td>\n",
       "      <td>1.260692</td>\n",
       "      <td>1.122779</td>\n",
       "    </tr>\n",
       "    <tr>\n",
       "      <th>1</th>\n",
       "      <td>3421</td>\n",
       "      <td>349</td>\n",
       "      <td>1.363897</td>\n",
       "      <td>1.237822</td>\n",
       "      <td>1.101852</td>\n",
       "    </tr>\n",
       "    <tr>\n",
       "      <th>15</th>\n",
       "      <td>433</td>\n",
       "      <td>8728</td>\n",
       "      <td>1.480064</td>\n",
       "      <td>1.349450</td>\n",
       "      <td>1.096791</td>\n",
       "    </tr>\n",
       "    <tr>\n",
       "      <th>13</th>\n",
       "      <td>4312</td>\n",
       "      <td>1294</td>\n",
       "      <td>1.379444</td>\n",
       "      <td>1.274343</td>\n",
       "      <td>1.082474</td>\n",
       "    </tr>\n",
       "    <tr>\n",
       "      <th>6</th>\n",
       "      <td>41221</td>\n",
       "      <td>739</td>\n",
       "      <td>1.280108</td>\n",
       "      <td>1.202977</td>\n",
       "      <td>1.064117</td>\n",
       "    </tr>\n",
       "    <tr>\n",
       "      <th>0</th>\n",
       "      <td>3412</td>\n",
       "      <td>281</td>\n",
       "      <td>1.387900</td>\n",
       "      <td>1.327402</td>\n",
       "      <td>1.045576</td>\n",
       "    </tr>\n",
       "    <tr>\n",
       "      <th>5</th>\n",
       "      <td>41212</td>\n",
       "      <td>1071</td>\n",
       "      <td>1.450047</td>\n",
       "      <td>1.400560</td>\n",
       "      <td>1.035333</td>\n",
       "    </tr>\n",
       "    <tr>\n",
       "      <th>2</th>\n",
       "      <td>343</td>\n",
       "      <td>566</td>\n",
       "      <td>1.406360</td>\n",
       "      <td>1.358657</td>\n",
       "      <td>1.035111</td>\n",
       "    </tr>\n",
       "    <tr>\n",
       "      <th>17</th>\n",
       "      <td>442</td>\n",
       "      <td>12503</td>\n",
       "      <td>1.384708</td>\n",
       "      <td>1.341358</td>\n",
       "      <td>1.032318</td>\n",
       "    </tr>\n",
       "    <tr>\n",
       "      <th>12</th>\n",
       "      <td>4231</td>\n",
       "      <td>12781</td>\n",
       "      <td>1.354198</td>\n",
       "      <td>1.369689</td>\n",
       "      <td>0.988690</td>\n",
       "    </tr>\n",
       "    <tr>\n",
       "      <th>11</th>\n",
       "      <td>4222</td>\n",
       "      <td>1099</td>\n",
       "      <td>1.364877</td>\n",
       "      <td>1.383985</td>\n",
       "      <td>0.986193</td>\n",
       "    </tr>\n",
       "    <tr>\n",
       "      <th>4</th>\n",
       "      <td>352</td>\n",
       "      <td>1381</td>\n",
       "      <td>1.289645</td>\n",
       "      <td>1.312817</td>\n",
       "      <td>0.982350</td>\n",
       "    </tr>\n",
       "    <tr>\n",
       "      <th>14</th>\n",
       "      <td>4321</td>\n",
       "      <td>608</td>\n",
       "      <td>1.297697</td>\n",
       "      <td>1.370066</td>\n",
       "      <td>0.947179</td>\n",
       "    </tr>\n",
       "    <tr>\n",
       "      <th>3</th>\n",
       "      <td>3511</td>\n",
       "      <td>270</td>\n",
       "      <td>1.218519</td>\n",
       "      <td>1.407407</td>\n",
       "      <td>0.865789</td>\n",
       "    </tr>\n",
       "    <tr>\n",
       "      <th>16</th>\n",
       "      <td>4411</td>\n",
       "      <td>1752</td>\n",
       "      <td>1.212900</td>\n",
       "      <td>1.425799</td>\n",
       "      <td>0.850681</td>\n",
       "    </tr>\n",
       "    <tr>\n",
       "      <th>18</th>\n",
       "      <td>451</td>\n",
       "      <td>2167</td>\n",
       "      <td>1.118136</td>\n",
       "      <td>1.410706</td>\n",
       "      <td>0.792607</td>\n",
       "    </tr>\n",
       "    <tr>\n",
       "      <th>9</th>\n",
       "      <td>4141</td>\n",
       "      <td>1313</td>\n",
       "      <td>1.187357</td>\n",
       "      <td>1.515613</td>\n",
       "      <td>0.783417</td>\n",
       "    </tr>\n",
       "    <tr>\n",
       "      <th>19</th>\n",
       "      <td>532</td>\n",
       "      <td>380</td>\n",
       "      <td>1.084211</td>\n",
       "      <td>1.655263</td>\n",
       "      <td>0.655008</td>\n",
       "    </tr>\n",
       "    <tr>\n",
       "      <th>20</th>\n",
       "      <td>541</td>\n",
       "      <td>207</td>\n",
       "      <td>0.980676</td>\n",
       "      <td>1.768116</td>\n",
       "      <td>0.554645</td>\n",
       "    </tr>\n",
       "  </tbody>\n",
       "</table>\n",
       "</div>"
      ],
      "text/plain": [
       "   formation  count  scored_goals  missed_goals     ratio\n",
       "10      4213     70      1.485714      1.214286  1.223529\n",
       "7       4123    171      1.555556      1.345029  1.156522\n",
       "8       4132    491      1.415479      1.260692  1.122779\n",
       "1       3421    349      1.363897      1.237822  1.101852\n",
       "15       433   8728      1.480064      1.349450  1.096791\n",
       "13      4312   1294      1.379444      1.274343  1.082474\n",
       "6      41221    739      1.280108      1.202977  1.064117\n",
       "0       3412    281      1.387900      1.327402  1.045576\n",
       "5      41212   1071      1.450047      1.400560  1.035333\n",
       "2        343    566      1.406360      1.358657  1.035111\n",
       "17       442  12503      1.384708      1.341358  1.032318\n",
       "12      4231  12781      1.354198      1.369689  0.988690\n",
       "11      4222   1099      1.364877      1.383985  0.986193\n",
       "4        352   1381      1.289645      1.312817  0.982350\n",
       "14      4321    608      1.297697      1.370066  0.947179\n",
       "3       3511    270      1.218519      1.407407  0.865789\n",
       "16      4411   1752      1.212900      1.425799  0.850681\n",
       "18       451   2167      1.118136      1.410706  0.792607\n",
       "9       4141   1313      1.187357      1.515613  0.783417\n",
       "19       532    380      1.084211      1.655263  0.655008\n",
       "20       541    207      0.980676      1.768116  0.554645"
      ]
     },
     "execution_count": 92,
     "metadata": {},
     "output_type": "execute_result"
    }
   ],
   "source": [
    "formation_and_goals.sort_values(by='ratio', ascending=False)"
   ]
  },
  {
   "cell_type": "markdown",
   "id": "5264fb17",
   "metadata": {},
   "source": [
    "* Ratio **=** 1 (on average teams **scores and miss same** amount of goals)\n",
    "* Ratio **>** 1 (on average teams **scores more** goals than miss)\n",
    "* Ratio **<** 1 (on average teams **scores less** goals than miss)\n",
    "\n",
    "So one of the teams goal should be to have ratio > 1.\n",
    "\n",
    "Again, we may notice a 4-3-3 formation on a high rank. Additionally, formations 4-1-2-3, 4-1-3-2 (also high on rank) are very similar to 4-3-3 (some call it as the same). So it's no wonder why this formation is so popular among the teams.\n",
    "\n",
    "The leading formation 4-2-1-3 is a very young one. According to [Wiki](https://en.wikipedia.org/wiki/Formation_(association_football)) it was developed only in 2010 (while 4-3-3 in 1962) and is now  often called as future football formation.\n",
    "\n",
    "Of course, keep in mind that these are the starting formations which may or may not change during the game."
   ]
  },
  {
   "cell_type": "markdown",
   "id": "5bb11d4e",
   "metadata": {},
   "source": [
    "### Bookmakers odds"
   ]
  },
  {
   "cell_type": "markdown",
   "id": "f09a94da",
   "metadata": {},
   "source": [
    "This dataset consist bookmakers odds in decimal format. Decimal odds are shown as one number, which is the amount a winning bet would collect on a \\\\$1 bet. If the odds are listed as 6, a winning bet would receive \\\\$5 profit and the original \\\\$1 bet."
   ]
  },
  {
   "cell_type": "markdown",
   "id": "95902568",
   "metadata": {},
   "source": [
    "There are three type of bettings: **Home (H)**, **Draw (D)**, **Away (A)**"
   ]
  },
  {
   "cell_type": "code",
   "execution_count": 93,
   "id": "ee01a345",
   "metadata": {},
   "outputs": [
    {
     "data": {
      "text/html": [
       "<div>\n",
       "<style scoped>\n",
       "    .dataframe tbody tr th:only-of-type {\n",
       "        vertical-align: middle;\n",
       "    }\n",
       "\n",
       "    .dataframe tbody tr th {\n",
       "        vertical-align: top;\n",
       "    }\n",
       "\n",
       "    .dataframe thead th {\n",
       "        text-align: right;\n",
       "    }\n",
       "</style>\n",
       "<table border=\"1\" class=\"dataframe\">\n",
       "  <thead>\n",
       "    <tr style=\"text-align: right;\">\n",
       "      <th></th>\n",
       "      <th>B365H</th>\n",
       "      <th>B365D</th>\n",
       "      <th>B365A</th>\n",
       "      <th>BWH</th>\n",
       "      <th>BWD</th>\n",
       "      <th>BWA</th>\n",
       "      <th>IWH</th>\n",
       "      <th>IWD</th>\n",
       "      <th>IWA</th>\n",
       "      <th>LBH</th>\n",
       "      <th>LBD</th>\n",
       "      <th>LBA</th>\n",
       "      <th>WHH</th>\n",
       "      <th>WHD</th>\n",
       "      <th>WHA</th>\n",
       "      <th>SJH</th>\n",
       "      <th>SJD</th>\n",
       "      <th>SJA</th>\n",
       "      <th>VCH</th>\n",
       "      <th>VCD</th>\n",
       "      <th>VCA</th>\n",
       "    </tr>\n",
       "  </thead>\n",
       "  <tbody>\n",
       "    <tr>\n",
       "      <th>9479</th>\n",
       "      <td>4.0</td>\n",
       "      <td>3.5</td>\n",
       "      <td>1.91</td>\n",
       "      <td>3.0</td>\n",
       "      <td>3.5</td>\n",
       "      <td>1.87</td>\n",
       "      <td>4.0</td>\n",
       "      <td>3.45</td>\n",
       "      <td>1.85</td>\n",
       "      <td>4.0</td>\n",
       "      <td>3.6</td>\n",
       "      <td>1.85</td>\n",
       "      <td>4.0</td>\n",
       "      <td>3.3</td>\n",
       "      <td>1.95</td>\n",
       "      <td>4.0</td>\n",
       "      <td>3.4</td>\n",
       "      <td>1.9</td>\n",
       "      <td>4.1</td>\n",
       "      <td>3.5</td>\n",
       "      <td>1.95</td>\n",
       "    </tr>\n",
       "  </tbody>\n",
       "</table>\n",
       "</div>"
      ],
      "text/plain": [
       "      B365H  B365D  B365A  BWH  BWD   BWA  IWH   IWD   IWA  LBH  LBD   LBA  \\\n",
       "9479    4.0    3.5   1.91  3.0  3.5  1.87  4.0  3.45  1.85  4.0  3.6  1.85   \n",
       "\n",
       "      WHH  WHD   WHA  SJH  SJD  SJA  VCH  VCD   VCA  \n",
       "9479  4.0  3.3  1.95  4.0  3.4  1.9  4.1  3.5  1.95  "
      ]
     },
     "execution_count": 93,
     "metadata": {},
     "output_type": "execute_result"
    }
   ],
   "source": [
    "bookmakers_df = match_df.iloc[:,85:106]\n",
    "bookmakers_df.sample()"
   ]
  },
  {
   "cell_type": "markdown",
   "id": "5f8e6993",
   "metadata": {},
   "source": [
    "Let's convert bookmaker odds to probabilities and plot them to see distribution of probabilities of different bettings houses."
   ]
  },
  {
   "cell_type": "code",
   "execution_count": 94,
   "id": "a6498a52",
   "metadata": {},
   "outputs": [],
   "source": [
    "probabilities = pd.DataFrame()\n",
    "\n",
    "for column in bookmakers_df.columns:\n",
    "    probabilities[column] = 1 / bookmakers_df[column]"
   ]
  },
  {
   "cell_type": "code",
   "execution_count": 192,
   "id": "b3a0fd63",
   "metadata": {},
   "outputs": [
    {
     "data": {
      "text/html": [
       "<div>\n",
       "<style scoped>\n",
       "    .dataframe tbody tr th:only-of-type {\n",
       "        vertical-align: middle;\n",
       "    }\n",
       "\n",
       "    .dataframe tbody tr th {\n",
       "        vertical-align: top;\n",
       "    }\n",
       "\n",
       "    .dataframe thead th {\n",
       "        text-align: right;\n",
       "    }\n",
       "</style>\n",
       "<table border=\"1\" class=\"dataframe\">\n",
       "  <thead>\n",
       "    <tr style=\"text-align: right;\">\n",
       "      <th></th>\n",
       "      <th>B365H</th>\n",
       "      <th>B365D</th>\n",
       "      <th>B365A</th>\n",
       "      <th>BWH</th>\n",
       "      <th>BWD</th>\n",
       "      <th>BWA</th>\n",
       "      <th>IWH</th>\n",
       "      <th>IWD</th>\n",
       "      <th>IWA</th>\n",
       "      <th>LBH</th>\n",
       "      <th>LBD</th>\n",
       "      <th>LBA</th>\n",
       "      <th>WHH</th>\n",
       "      <th>WHD</th>\n",
       "      <th>WHA</th>\n",
       "      <th>SJH</th>\n",
       "      <th>SJD</th>\n",
       "      <th>SJA</th>\n",
       "      <th>VCH</th>\n",
       "      <th>VCD</th>\n",
       "      <th>VCA</th>\n",
       "    </tr>\n",
       "  </thead>\n",
       "  <tbody>\n",
       "    <tr>\n",
       "      <th>22258</th>\n",
       "      <td>0.52356</td>\n",
       "      <td>0.30303</td>\n",
       "      <td>0.238095</td>\n",
       "      <td>0.540541</td>\n",
       "      <td>0.30303</td>\n",
       "      <td>0.238095</td>\n",
       "      <td>0.526316</td>\n",
       "      <td>0.30303</td>\n",
       "      <td>0.25641</td>\n",
       "      <td>0.52356</td>\n",
       "      <td>0.3125</td>\n",
       "      <td>0.285714</td>\n",
       "      <td>0.546448</td>\n",
       "      <td>0.3125</td>\n",
       "      <td>0.266667</td>\n",
       "      <td>0.540541</td>\n",
       "      <td>0.294118</td>\n",
       "      <td>0.230947</td>\n",
       "      <td>0.526316</td>\n",
       "      <td>0.307692</td>\n",
       "      <td>0.277778</td>\n",
       "    </tr>\n",
       "  </tbody>\n",
       "</table>\n",
       "</div>"
      ],
      "text/plain": [
       "         B365H    B365D     B365A       BWH      BWD       BWA       IWH  \\\n",
       "22258  0.52356  0.30303  0.238095  0.540541  0.30303  0.238095  0.526316   \n",
       "\n",
       "           IWD      IWA      LBH     LBD       LBA       WHH     WHD  \\\n",
       "22258  0.30303  0.25641  0.52356  0.3125  0.285714  0.546448  0.3125   \n",
       "\n",
       "            WHA       SJH       SJD       SJA       VCH       VCD       VCA  \n",
       "22258  0.266667  0.540541  0.294118  0.230947  0.526316  0.307692  0.277778  "
      ]
     },
     "execution_count": 192,
     "metadata": {},
     "output_type": "execute_result"
    }
   ],
   "source": [
    "probabilities.sample()"
   ]
  },
  {
   "cell_type": "code",
   "execution_count": 96,
   "id": "7eea164d",
   "metadata": {
    "scrolled": false
   },
   "outputs": [
    {
     "data": {
      "image/png": "[encoded data removed]",
      "text/plain": [
       "<Figure size 1152x288 with 3 Axes>"
      ]
     },
     "metadata": {
      "needs_background": "light"
     },
     "output_type": "display_data"
    }
   ],
   "source": [
    "f, ax = plt.subplots(1,3, figsize=(16, 4))\n",
    "x1 = ['Home', 'Draw', 'Away']\n",
    "for i, result in enumerate(['H', 'D', 'A']):\n",
    "    for column in ['B365', 'BW', 'IW', 'LB', 'WH', 'SJ', 'VC']:\n",
    "        data = probabilities[column+result]\n",
    "        sns.kdeplot(data=data, ax=ax[i])\n",
    "        kdeline = ax[i].lines[0]\n",
    "        mean = data.mean()\n",
    "        xs = kdeline.get_xdata()\n",
    "        ys = kdeline.get_ydata()\n",
    "        height = np.interp(mean, xs, ys)\n",
    "        ax[i].vlines(mean, 0, height, color='red', linestyle=\":\")"
   ]
  },
  {
   "cell_type": "markdown",
   "id": "1a459758",
   "metadata": {},
   "source": [
    "From the plots above we see that probabilities distribution of all betting houses are very similar to each other.\n",
    "\n",
    "Home team has an advantage as average probability (according to betting houses) for home team to win is the highest and stands ~0.47"
   ]
  },
  {
   "cell_type": "code",
   "execution_count": 97,
   "id": "f671073f",
   "metadata": {},
   "outputs": [],
   "source": [
    "def bettie_pred(row, columns):\n",
    "    return row[columns].mean(axis=0)"
   ]
  },
  {
   "cell_type": "code",
   "execution_count": 98,
   "id": "c7dcc043",
   "metadata": {
    "scrolled": false
   },
   "outputs": [],
   "source": [
    "match_df[\"bookie_home\"] = probabilities.apply(lambda x: bettie_pred(x, ['B365H', 'BWH', 'IWH', 'LBH', 'WHH', 'SJH', 'VCH']), axis=1)\n",
    "match_df[\"bookie_draw\"] = probabilities.apply(lambda x: bettie_pred(x, ['B365D', 'BWD', 'IWD', 'LBD', 'WHD', 'SJD', 'VCD']), axis=1)\n",
    "match_df[\"bookie_away\"] = probabilities.apply(lambda x: bettie_pred(x, ['B365A', 'BWA', 'IWA', 'LBA', 'WHA', 'SJA', 'VCA']), axis=1)"
   ]
  },
  {
   "cell_type": "code",
   "execution_count": 99,
   "id": "4fa3077c",
   "metadata": {},
   "outputs": [],
   "source": [
    "def bookie_pred(row):\n",
    "    if row['bookie_home'] == row[['bookie_home', 'bookie_draw', 'bookie_away']].max():\n",
    "        return 'Win'\n",
    "    elif row['bookie_draw'] == row[['bookie_home', 'bookie_draw', 'bookie_away']].max():\n",
    "        return 'Draw'\n",
    "    else:\n",
    "        return 'Lose'"
   ]
  },
  {
   "cell_type": "code",
   "execution_count": 100,
   "id": "fb581545",
   "metadata": {
    "scrolled": false
   },
   "outputs": [],
   "source": [
    "match_df[\"bookie_pred\"] = match_df.apply(lambda x: bookie_pred(x), axis=1)"
   ]
  },
  {
   "cell_type": "code",
   "execution_count": 101,
   "id": "102e81f2",
   "metadata": {},
   "outputs": [],
   "source": [
    "bookies_correctness = match_df[['home_team_res', 'bookie_pred']].dropna()"
   ]
  },
  {
   "cell_type": "code",
   "execution_count": 102,
   "id": "a7d53a69",
   "metadata": {},
   "outputs": [
    {
     "data": {
      "text/plain": [
       "<sklearn.metrics._plot.confusion_matrix.ConfusionMatrixDisplay at 0x25f49724c70>"
      ]
     },
     "execution_count": 102,
     "metadata": {},
     "output_type": "execute_result"
    },
    {
     "data": {
      "image/png": "[encoded data removed]",
      "text/plain": [
       "<Figure size 432x288 with 2 Axes>"
      ]
     },
     "metadata": {
      "needs_background": "light"
     },
     "output_type": "display_data"
    }
   ],
   "source": [
    "ConfusionMatrixDisplay.from_predictions(bookies_correctness['home_team_res'], bookies_correctness['bookie_pred'], cmap='Blues')"
   ]
  },
  {
   "cell_type": "code",
   "execution_count": 103,
   "id": "ca5e4ab9",
   "metadata": {},
   "outputs": [
    {
     "name": "stdout",
     "output_type": "stream",
     "text": [
      "              precision    recall  f1-score   support\n",
      "\n",
      "        Draw       0.53      0.00      0.00      6596\n",
      "        Lose       0.43      0.55      0.48      7466\n",
      "         Win       0.54      0.75      0.63     11917\n",
      "\n",
      "    accuracy                           0.50     25979\n",
      "   macro avg       0.50      0.43      0.37     25979\n",
      "weighted avg       0.51      0.50      0.43     25979\n",
      "\n"
     ]
    }
   ],
   "source": [
    "print(classification_report(bookies_correctness['home_team_res'], bookies_correctness['bookie_pred']))"
   ]
  },
  {
   "cell_type": "markdown",
   "id": "0bbadbc4",
   "metadata": {},
   "source": [
    "## STATISTICAL INFERENCES"
   ]
  },
  {
   "cell_type": "markdown",
   "id": "c3873629",
   "metadata": {},
   "source": [
    "### Inference approach: Confidence Interval for proportion"
   ]
  },
  {
   "cell_type": "markdown",
   "id": "a7d4e2c0",
   "metadata": {},
   "source": [
    "**Research Question:** What proportion of Home Teams in season 2014/2015 scored more than 40 goals per season?\n",
    "\n",
    "We'll provide a 95% confidence interval estimate (lower and upper limits) for this population proportion."
   ]
  },
  {
   "cell_type": "code",
   "execution_count": 104,
   "id": "7d033ca4",
   "metadata": {},
   "outputs": [],
   "source": [
    "teams_goals_40 = pd.read_sql_query('''WITH goals_per_team AS (\n",
    "                                           SELECT \n",
    "                                               season,\n",
    "                                               home_team_api_id AS id,\n",
    "                                               SUM(home_team_goal) AS goals_sum\n",
    "                                           FROM Match\n",
    "                                           WHERE season = '2014/2015'\n",
    "                                           GROUP BY 2)\n",
    "                                      SELECT COUNT(id) as goals\n",
    "                                      FROM goals_per_team\n",
    "                                      WHERE goals_sum > 40\n",
    "                                      UNION\n",
    "                                      SELECT COUNT(id)\n",
    "                                      FROM goals_per_team\n",
    "                                      WHERE goals_sum < 40\n",
    "                                      ;''', con)"
   ]
  },
  {
   "cell_type": "code",
   "execution_count": 105,
   "id": "da41ce8b",
   "metadata": {},
   "outputs": [
    {
     "name": "stdout",
     "output_type": "stream",
     "text": [
      "Teams that scored more than 40 goals/season: 17\n",
      "Teams that scored less than 40 goals/season: 167\n",
      "Total teams played in season: 184\n"
     ]
    }
   ],
   "source": [
    "print(f'Teams that scored more than 40 goals/season: {teams_goals_40.goals[0]}')\n",
    "print(f'Teams that scored less than 40 goals/season: {teams_goals_40.goals[1]}')\n",
    "print(f'Total teams played in season: {teams_goals_40.goals.sum()}')"
   ]
  },
  {
   "cell_type": "code",
   "execution_count": 106,
   "id": "182f5801",
   "metadata": {},
   "outputs": [
    {
     "name": "stdout",
     "output_type": "stream",
     "text": [
      "Proportion of teams that score more than 40 goals per season: 0.09239130434782608\n"
     ]
    }
   ],
   "source": [
    "sample_size = 184\n",
    "above_40_goals = 17\n",
    "less_than_40_goals = 167\n",
    "\n",
    "best_estimate = above_40_goals/sample_size\n",
    "\n",
    "print(f'Proportion of teams that score more than 40 goals per season: {best_estimate}')"
   ]
  },
  {
   "cell_type": "code",
   "execution_count": 107,
   "id": "cdc228ce",
   "metadata": {},
   "outputs": [
    {
     "name": "stdout",
     "output_type": "stream",
     "text": [
      "Estimated standard error: 0.02134793942158035\n"
     ]
    }
   ],
   "source": [
    "estimated_std_err = np.sqrt((best_estimate*(1 - best_estimate))/sample_size)\n",
    "\n",
    "print(f'Estimated standard error: {estimated_std_err}')"
   ]
  },
  {
   "cell_type": "markdown",
   "id": "7a4a7b93",
   "metadata": {},
   "source": [
    "**Best Estimate ± \"a few\" standard errors**\n",
    "\n",
    "Large sample size → 95% multiplier = 1.96"
   ]
  },
  {
   "cell_type": "code",
   "execution_count": 108,
   "id": "adb0dd6d",
   "metadata": {},
   "outputs": [
    {
     "name": "stdout",
     "output_type": "stream",
     "text": [
      "Confidence interval: 0.05054934308152859 - 0.13423326561412358\n"
     ]
    }
   ],
   "source": [
    "lower = best_estimate - (1.96 * estimated_std_err)\n",
    "upper = best_estimate + (1.96 * estimated_std_err)\n",
    "\n",
    "print(f'Confidence interval: {lower} - {upper}')"
   ]
  },
  {
   "cell_type": "markdown",
   "id": "af4e386a",
   "metadata": {},
   "source": [
    "95% confidence interval for the proportion of Home Teams in season 2014/2015 that scored more than 40 goals per season:\n",
    "\n",
    "**0.0505 - 0.1342**"
   ]
  },
  {
   "cell_type": "markdown",
   "id": "b96d5e3b",
   "metadata": {},
   "source": [
    "### Inference approach: Single variable using Hypothesis Testing"
   ]
  },
  {
   "cell_type": "code",
   "execution_count": 109,
   "id": "269214db",
   "metadata": {},
   "outputs": [
    {
     "data": {
      "text/html": [
       "<div>\n",
       "<style scoped>\n",
       "    .dataframe tbody tr th:only-of-type {\n",
       "        vertical-align: middle;\n",
       "    }\n",
       "\n",
       "    .dataframe tbody tr th {\n",
       "        vertical-align: top;\n",
       "    }\n",
       "\n",
       "    .dataframe thead th {\n",
       "        text-align: right;\n",
       "    }\n",
       "</style>\n",
       "<table border=\"1\" class=\"dataframe\">\n",
       "  <thead>\n",
       "    <tr style=\"text-align: right;\">\n",
       "      <th></th>\n",
       "      <th>goals</th>\n",
       "    </tr>\n",
       "  </thead>\n",
       "  <tbody>\n",
       "    <tr>\n",
       "      <th>count</th>\n",
       "      <td>3220.000000</td>\n",
       "    </tr>\n",
       "    <tr>\n",
       "      <th>mean</th>\n",
       "      <td>1.572671</td>\n",
       "    </tr>\n",
       "    <tr>\n",
       "      <th>std</th>\n",
       "      <td>1.339068</td>\n",
       "    </tr>\n",
       "    <tr>\n",
       "      <th>min</th>\n",
       "      <td>0.000000</td>\n",
       "    </tr>\n",
       "    <tr>\n",
       "      <th>25%</th>\n",
       "      <td>1.000000</td>\n",
       "    </tr>\n",
       "    <tr>\n",
       "      <th>50%</th>\n",
       "      <td>1.000000</td>\n",
       "    </tr>\n",
       "    <tr>\n",
       "      <th>75%</th>\n",
       "      <td>2.000000</td>\n",
       "    </tr>\n",
       "    <tr>\n",
       "      <th>max</th>\n",
       "      <td>8.000000</td>\n",
       "    </tr>\n",
       "  </tbody>\n",
       "</table>\n",
       "</div>"
      ],
      "text/plain": [
       "             goals\n",
       "count  3220.000000\n",
       "mean      1.572671\n",
       "std       1.339068\n",
       "min       0.000000\n",
       "25%       1.000000\n",
       "50%       1.000000\n",
       "75%       2.000000\n",
       "max       8.000000"
      ]
     },
     "execution_count": 109,
     "metadata": {},
     "output_type": "execute_result"
    }
   ],
   "source": [
    "avg_goal_per_match = pd.read_sql_query(''' SELECT \n",
    "                                               home_team_goal as goals\n",
    "                                           FROM Match\n",
    "                                           WHERE season = '2011/2012'\n",
    "                                           ;''', con)\n",
    "avg_goal_per_match.describe()"
   ]
  },
  {
   "cell_type": "markdown",
   "id": "375200e7",
   "metadata": {},
   "source": [
    "**Research Question:** Does Home Team in a season of 2011/2012 on average scores more than 1.5 goal per game or the population average different%?\n",
    "\n",
    "We'll perform a one-sample test (two-tailed) to either **reject** or **fail to reject** null hypothesis: goal per game - 1.5"
   ]
  },
  {
   "cell_type": "markdown",
   "id": "35d60bec",
   "metadata": {},
   "source": [
    "**Null**: Population mean (µ) is 1.5\n",
    "\n",
    "**Alternative**: Population mean is **not equal** to 1.50\n",
    "\n",
    "Significance level(alpha): 5%(.05)"
   ]
  },
  {
   "cell_type": "code",
   "execution_count": 110,
   "id": "b40237d4",
   "metadata": {},
   "outputs": [
    {
     "name": "stdout",
     "output_type": "stream",
     "text": [
      "Estimated standard error: 0.023597972782602474\n"
     ]
    }
   ],
   "source": [
    "sample_size = 3220\n",
    "best_estimate = 1.572671\n",
    "std_dev = 1.339068\n",
    "\n",
    "estimated_std_err = std_dev/np.sqrt(sample_size)\n",
    "\n",
    "print(f'Estimated standard error: {estimated_std_err}')"
   ]
  },
  {
   "cell_type": "code",
   "execution_count": 111,
   "id": "c1b82574",
   "metadata": {},
   "outputs": [
    {
     "name": "stdout",
     "output_type": "stream",
     "text": [
      "t statistic: 3.079544190913568\n"
     ]
    }
   ],
   "source": [
    "t = (best_estimate - 1.5) / (std_dev/np.sqrt(sample_size))\n",
    "print(f't statistic: {t}')"
   ]
  },
  {
   "cell_type": "markdown",
   "id": "3d8dfc19",
   "metadata": {},
   "source": [
    "With a [P-value calculator](https://www.statology.org/t-score-p-value-calculator/)\n",
    "we find that **p-value = 0.00105**\n",
    "\n",
    "Since this p-value is much less than our chosen alpha level of .05, we strongly reject the null hypothesis. We have sufficient evidence to say that the true mean of goals for for home teams in a season of 2011/2012 is different than 1.5"
   ]
  },
  {
   "cell_type": "markdown",
   "id": "6970d40a",
   "metadata": {},
   "source": [
    "## PREDICTIONS"
   ]
  },
  {
   "cell_type": "markdown",
   "id": "baec2e5e",
   "metadata": {},
   "source": [
    "### Can we predict which team will win the match?"
   ]
  },
  {
   "cell_type": "markdown",
   "id": "5de60278",
   "metadata": {},
   "source": [
    "For match result prediction we can get:\n",
    "\n",
    "* We know which players are registered for the match, thus we'll get overall rating of every player from attributes.\n",
    "* Calculate how many wins teams already had before current match.\n",
    "* Calculate the wins/losses of all matches played against each other that took place earlier.\n",
    "* We'll take teams starting formations\n",
    "* We'll take bookmakers probabilities.\n",
    "\n",
    "we may try to predict the match result for home team (win, draw or lose)."
   ]
  },
  {
   "cell_type": "code",
   "execution_count": 112,
   "id": "18eb66df",
   "metadata": {},
   "outputs": [],
   "source": [
    "match_players_data = match_df.iloc[:,55:77]\n",
    "match_players_data[['date', 'match_api_id', 'home_team_goal', 'away_team_goal']] = match_df[['date', 'match_api_id', 'home_team_goal', 'away_team_goal']]\n",
    "match_players_data.dropna(inplace=True)"
   ]
  },
  {
   "cell_type": "code",
   "execution_count": 113,
   "id": "d200cc5c",
   "metadata": {},
   "outputs": [
    {
     "data": {
      "text/html": [
       "<div>\n",
       "<style scoped>\n",
       "    .dataframe tbody tr th:only-of-type {\n",
       "        vertical-align: middle;\n",
       "    }\n",
       "\n",
       "    .dataframe tbody tr th {\n",
       "        vertical-align: top;\n",
       "    }\n",
       "\n",
       "    .dataframe thead th {\n",
       "        text-align: right;\n",
       "    }\n",
       "</style>\n",
       "<table border=\"1\" class=\"dataframe\">\n",
       "  <thead>\n",
       "    <tr style=\"text-align: right;\">\n",
       "      <th></th>\n",
       "      <th>player_api_id</th>\n",
       "      <th>date</th>\n",
       "      <th>overall_rating</th>\n",
       "    </tr>\n",
       "  </thead>\n",
       "  <tbody>\n",
       "    <tr>\n",
       "      <th>133978</th>\n",
       "      <td>97038</td>\n",
       "      <td>2009-08-30 00:00:00</td>\n",
       "      <td>68.0</td>\n",
       "    </tr>\n",
       "  </tbody>\n",
       "</table>\n",
       "</div>"
      ],
      "text/plain": [
       "        player_api_id                 date  overall_rating\n",
       "133978          97038  2009-08-30 00:00:00            68.0"
      ]
     },
     "execution_count": 113,
     "metadata": {},
     "output_type": "execute_result"
    }
   ],
   "source": [
    "players_ratings = player_att_df[['player_api_id', 'date', 'overall_rating']]\n",
    "players_ratings.sample()"
   ]
  },
  {
   "cell_type": "code",
   "execution_count": 114,
   "id": "b27e364f",
   "metadata": {},
   "outputs": [],
   "source": [
    "def get_player_rating(row, players_ratings):\n",
    "    player_stat_df = pd.DataFrame()\n",
    "    for column in row[:22].index:\n",
    "        player_id = row[column]\n",
    "        date = row['date']\n",
    "        player_stat = players_ratings[players_ratings['player_api_id'] == player_id]\n",
    "        player_stat_by_date = player_stat[player_stat['date'] <= date].sort_values(by='date', ascending=False).iloc[:1,-1:].reset_index(drop = True)\n",
    "        player_stat_by_date.rename(columns={'overall_rating': column}, inplace=True)\n",
    "        player_stat_df = pd.concat([player_stat_df, player_stat_by_date], axis=1)\n",
    "    player_stat_df['match_api_id'] = row.match_api_id\n",
    "    return player_stat_df.iloc[0]"
   ]
  },
  {
   "cell_type": "code",
   "execution_count": 115,
   "id": "d2bdde15",
   "metadata": {},
   "outputs": [],
   "source": [
    "match_w_players_ratings = match_players_data.apply(lambda x: get_player_rating(x, players_ratings), axis=1)"
   ]
  },
  {
   "cell_type": "code",
   "execution_count": 116,
   "id": "f76132b0",
   "metadata": {
    "scrolled": false
   },
   "outputs": [],
   "source": [
    "fifa_data_df = match_w_players_ratings.merge(match_df[['home_team_goal', \n",
    "                                                       'away_team_goal',\n",
    "                                                       'home_team_res',\n",
    "                                                       'league_id',\n",
    "                                                       'season',\n",
    "                                                       'date',\n",
    "                                                       'home_formation',\n",
    "                                                       'away_formation',\n",
    "                                                       'bookie_home',\n",
    "                                                       'bookie_draw',\n",
    "                                                       'bookie_away',\n",
    "                                                       'match_api_id'\n",
    "                                                      ]], how='left', on='match_api_id')"
   ]
  },
  {
   "cell_type": "code",
   "execution_count": 117,
   "id": "8745f493",
   "metadata": {},
   "outputs": [
    {
     "data": {
      "text/html": [
       "<div>\n",
       "<style scoped>\n",
       "    .dataframe tbody tr th:only-of-type {\n",
       "        vertical-align: middle;\n",
       "    }\n",
       "\n",
       "    .dataframe tbody tr th {\n",
       "        vertical-align: top;\n",
       "    }\n",
       "\n",
       "    .dataframe thead th {\n",
       "        text-align: right;\n",
       "    }\n",
       "</style>\n",
       "<table border=\"1\" class=\"dataframe\">\n",
       "  <thead>\n",
       "    <tr style=\"text-align: right;\">\n",
       "      <th></th>\n",
       "      <th>home_player_1</th>\n",
       "      <th>home_player_2</th>\n",
       "      <th>home_player_3</th>\n",
       "      <th>home_player_4</th>\n",
       "      <th>home_player_5</th>\n",
       "      <th>home_player_6</th>\n",
       "      <th>home_player_7</th>\n",
       "      <th>home_player_8</th>\n",
       "      <th>home_player_9</th>\n",
       "      <th>home_player_10</th>\n",
       "      <th>home_player_11</th>\n",
       "      <th>away_player_1</th>\n",
       "      <th>away_player_2</th>\n",
       "      <th>away_player_3</th>\n",
       "      <th>away_player_4</th>\n",
       "      <th>away_player_5</th>\n",
       "      <th>away_player_6</th>\n",
       "      <th>away_player_7</th>\n",
       "      <th>away_player_8</th>\n",
       "      <th>away_player_9</th>\n",
       "      <th>away_player_10</th>\n",
       "      <th>away_player_11</th>\n",
       "      <th>match_api_id</th>\n",
       "      <th>home_team_goal</th>\n",
       "      <th>away_team_goal</th>\n",
       "      <th>home_team_res</th>\n",
       "      <th>league_id</th>\n",
       "      <th>season</th>\n",
       "      <th>date</th>\n",
       "      <th>home_formation</th>\n",
       "      <th>away_formation</th>\n",
       "      <th>bookie_home</th>\n",
       "      <th>bookie_draw</th>\n",
       "      <th>bookie_away</th>\n",
       "    </tr>\n",
       "  </thead>\n",
       "  <tbody>\n",
       "    <tr>\n",
       "      <th>20354</th>\n",
       "      <td>64.0</td>\n",
       "      <td>56.0</td>\n",
       "      <td>61.0</td>\n",
       "      <td>67.0</td>\n",
       "      <td>59.0</td>\n",
       "      <td>50.0</td>\n",
       "      <td>47.0</td>\n",
       "      <td>61.0</td>\n",
       "      <td>62.0</td>\n",
       "      <td>59.0</td>\n",
       "      <td>52.0</td>\n",
       "      <td>55.0</td>\n",
       "      <td>58.0</td>\n",
       "      <td>59.0</td>\n",
       "      <td>42.0</td>\n",
       "      <td>55.0</td>\n",
       "      <td>69.0</td>\n",
       "      <td>54.0</td>\n",
       "      <td>65.0</td>\n",
       "      <td>57.0</td>\n",
       "      <td>59.0</td>\n",
       "      <td>62.0</td>\n",
       "      <td>768479.0</td>\n",
       "      <td>2</td>\n",
       "      <td>1</td>\n",
       "      <td>Win</td>\n",
       "      <td>24558</td>\n",
       "      <td>2009/2010</td>\n",
       "      <td>2010-05-01 00:00:00</td>\n",
       "      <td>442</td>\n",
       "      <td>442</td>\n",
       "      <td>NaN</td>\n",
       "      <td>NaN</td>\n",
       "      <td>NaN</td>\n",
       "    </tr>\n",
       "  </tbody>\n",
       "</table>\n",
       "</div>"
      ],
      "text/plain": [
       "       home_player_1  home_player_2  home_player_3  home_player_4  \\\n",
       "20354           64.0           56.0           61.0           67.0   \n",
       "\n",
       "       home_player_5  home_player_6  home_player_7  home_player_8  \\\n",
       "20354           59.0           50.0           47.0           61.0   \n",
       "\n",
       "       home_player_9  home_player_10  home_player_11  away_player_1  \\\n",
       "20354           62.0            59.0            52.0           55.0   \n",
       "\n",
       "       away_player_2  away_player_3  away_player_4  away_player_5  \\\n",
       "20354           58.0           59.0           42.0           55.0   \n",
       "\n",
       "       away_player_6  away_player_7  away_player_8  away_player_9  \\\n",
       "20354           69.0           54.0           65.0           57.0   \n",
       "\n",
       "       away_player_10  away_player_11  match_api_id  home_team_goal  \\\n",
       "20354            59.0            62.0      768479.0               2   \n",
       "\n",
       "       away_team_goal home_team_res  league_id     season  \\\n",
       "20354               1           Win      24558  2009/2010   \n",
       "\n",
       "                      date home_formation away_formation  bookie_home  \\\n",
       "20354  2010-05-01 00:00:00            442            442          NaN   \n",
       "\n",
       "       bookie_draw  bookie_away  \n",
       "20354          NaN          NaN  "
      ]
     },
     "execution_count": 117,
     "metadata": {},
     "output_type": "execute_result"
    }
   ],
   "source": [
    "fifa_data_df.sample()"
   ]
  },
  {
   "cell_type": "code",
   "execution_count": 118,
   "id": "c9d4290f",
   "metadata": {},
   "outputs": [],
   "source": [
    "def get_team_wins_lost(row, matches):\n",
    "    match_id = row['match_api_id']\n",
    "    date = row['date']\n",
    "    season = row['season']\n",
    "    home_team = match_df['home_team_api_id'][match_df['match_api_id'] == match_id]\n",
    "    \n",
    "    # Data of all matches with a home team\n",
    "    total_plays = match_df[match_df['home_team_api_id'] == home_team.item()]\n",
    "    \n",
    "    # Filtering out only matches that were in the past from current match\n",
    "    total_plays_to_date = total_plays[total_plays['date'] < date]\n",
    "    \n",
    "    if total_plays_to_date.shape[0] == 0:\n",
    "        return [0, 0]\n",
    "    \n",
    "    # Counting Home and Away team wins\n",
    "    home_team_won_to_date = total_plays_to_date['home_team_res'][total_plays_to_date['home_team_res'] == 'Win'].count()\n",
    "    away_team_won_to_date = total_plays_to_date['away_team_res'][total_plays_to_date['away_team_res'] == 'Win'].count()\n",
    "    \n",
    "    return [home_team_won_to_date, away_team_won_to_date]"
   ]
  },
  {
   "cell_type": "code",
   "execution_count": 119,
   "id": "2f94e66e",
   "metadata": {},
   "outputs": [],
   "source": [
    "fifa_data_df[['home_team_won_to_date', 'away_team_won_to_date']] = fifa_data_df.apply(lambda x: get_team_wins_lost(x, match_df), axis=1, result_type=\"expand\")"
   ]
  },
  {
   "cell_type": "code",
   "execution_count": 120,
   "id": "55d1712a",
   "metadata": {},
   "outputs": [],
   "source": [
    "def get_between_wins_lost(row, matches):\n",
    "    match_id = row['match_api_id']\n",
    "    date = row['date']\n",
    "    season = row['season']\n",
    "    home_team = match_df['home_team_api_id'][match_df['match_api_id'] == match_id]\n",
    "    away_team = match_df['away_team_api_id'][match_df['match_api_id'] == match_id]\n",
    "    \n",
    "    # Data of all matches between these two teams\n",
    "    total_plays = match_df[(match_df['home_team_api_id'] == home_team.item()) & (match_df['away_team_api_id'] == away_team.item())]\n",
    "    \n",
    "    # Filtering out only matches that were in the past from current match\n",
    "    total_plays_to_date = total_plays[total_plays['date'] < date]\n",
    "    \n",
    "    if total_plays_to_date.shape[0] == 0:\n",
    "        return [0, 0]\n",
    "    \n",
    "    # Getting result of match (Win, Draw or Lose)\n",
    "    total_plays_to_date[['home_between_res', \"away_between_res\"]] = total_plays_to_date.apply(match_result, axis = 1, result_type=\"expand\")\n",
    "    \n",
    "    # Counting Home and Away team wins\n",
    "    home_team_between_won_to_date = total_plays_to_date['home_between_res'][total_plays_to_date['home_between_res'] == 'Win'].count()\n",
    "    away_team_between_won_to_date = total_plays_to_date['away_between_res'][total_plays_to_date['away_between_res'] == 'Win'].count()\n",
    "    \n",
    "    return [home_team_between_won_to_date, away_team_between_won_to_date]"
   ]
  },
  {
   "cell_type": "code",
   "execution_count": 121,
   "id": "7ac4e5f5",
   "metadata": {},
   "outputs": [],
   "source": [
    "fifa_data_df[['home_team_between_won_to_date', 'away_team_between_won_to_date']] = fifa_data_df.apply(lambda x: get_between_wins_lost(x, match_df), axis=1, result_type=\"expand\")"
   ]
  },
  {
   "cell_type": "code",
   "execution_count": 122,
   "id": "93166290",
   "metadata": {},
   "outputs": [],
   "source": [
    "def get_total_goals(row, matches):\n",
    "    match_id = row['match_api_id']\n",
    "    date = row['date']\n",
    "    season = row['season']\n",
    "    home_team = match_df['home_team_api_id'][match_df['match_api_id'] == match_id]\n",
    "    \n",
    "    # Data of all matches between these two teams\n",
    "    total_goals = match_df[match_df['home_team_api_id'] == home_team.item()]\n",
    "    \n",
    "    # Filtering out only matches that were in the past from current match\n",
    "    total_goals_to_date = total_goals[total_goals['date'] < date]\n",
    "    \n",
    "    if total_goals_to_date.shape[0] == 0:\n",
    "        return [0, 0]\n",
    "    \n",
    "    # Getting sum of all scored goals for Home and Away teams\n",
    "    home_total_goals = total_goals_to_date['home_team_goal'].sum()\n",
    "    away_total_goals = total_goals_to_date['away_team_goal'].sum()\n",
    "    \n",
    "    return [home_total_goals, away_total_goals]"
   ]
  },
  {
   "cell_type": "code",
   "execution_count": 123,
   "id": "0097ff0d",
   "metadata": {},
   "outputs": [],
   "source": [
    "fifa_data_df[['home_total_goals', 'away_total_goals']] = fifa_data_df.apply(lambda x: get_total_goals(x, match_df), axis=1, result_type=\"expand\")"
   ]
  },
  {
   "cell_type": "code",
   "execution_count": 124,
   "id": "ce9673ec",
   "metadata": {},
   "outputs": [],
   "source": [
    "def avg_home_goals(row, matches):\n",
    "    match_id = row['match_api_id']\n",
    "    date = row['date']\n",
    "    season = row['season']\n",
    "    as_home_team = match_df['home_team_api_id'][match_df['match_api_id'] == match_id]\n",
    "    as_away_team = match_df['away_team_api_id'][match_df['match_api_id'] == match_id]\n",
    "    \n",
    "    total_goals = match_df[match_df['home_team_api_id'] == as_home_team.item()]\n",
    "    avg_home_goals_to_date = total_goals[total_goals['date'] < date]\n",
    "    if avg_home_goals_to_date.shape[0] == 0:\n",
    "        home_avg_goals = 0\n",
    "    else:\n",
    "        home_avg_goals = avg_home_goals_to_date['home_team_goal'].mean()\n",
    "    \n",
    "    total_goals = match_df[match_df['away_team_api_id'] == as_away_team.item()]\n",
    "    avg_away_goals_to_date = total_goals[total_goals['date'] < date]\n",
    "    if avg_away_goals_to_date.shape[0] == 0:\n",
    "        away_avg_goals = 0\n",
    "    else:\n",
    "        away_avg_goals = avg_home_goals_to_date['away_team_goal'].mean()\n",
    "    \n",
    "    return [home_avg_goals, away_avg_goals]"
   ]
  },
  {
   "cell_type": "code",
   "execution_count": 125,
   "id": "9f27209b",
   "metadata": {},
   "outputs": [],
   "source": [
    "fifa_data_df[['home_avg_goals', 'away_avg_goals']] = fifa_data_df.apply(lambda x: avg_home_goals(x, match_df), axis=1, result_type=\"expand\")"
   ]
  },
  {
   "cell_type": "code",
   "execution_count": 126,
   "id": "89930e53",
   "metadata": {},
   "outputs": [],
   "source": [
    "def avg_conceled_goals(row, matches):\n",
    "    match_id = row['match_api_id']\n",
    "    date = row['date']\n",
    "    season = row['season']\n",
    "    as_home_team = match_df['home_team_api_id'][match_df['match_api_id'] == match_id]\n",
    "    as_away_team = match_df['away_team_api_id'][match_df['match_api_id'] == match_id]\n",
    "    \n",
    "    total_goals = match_df[match_df['home_team_api_id'] == as_home_team.item()]\n",
    "    avg_home_goals_to_date = total_goals[(total_goals['season'] == season) & (total_goals['date'] < date)]\n",
    "    avg_home_conceled_goals = avg_home_goals_to_date['away_team_goal'].mean()\n",
    "    \n",
    "    total_goals = match_df[match_df['away_team_api_id'] == as_away_team.item()]\n",
    "    avg_away_goals_to_date = total_goals[(total_goals['season'] == season) & (total_goals['date'] < date)]\n",
    "    avg_away_conceled_goals = avg_home_goals_to_date['home_team_goal'].mean()\n",
    "    \n",
    "    return [avg_home_conceled_goals, avg_away_conceled_goals]"
   ]
  },
  {
   "cell_type": "code",
   "execution_count": 127,
   "id": "57853c35",
   "metadata": {},
   "outputs": [],
   "source": [
    "fifa_data_df[['avg_home_conceled_goals', 'avg_away_conceled_goals']] = fifa_data_df.apply(lambda x: avg_conceled_goals(x, match_df), axis=1, result_type=\"expand\")"
   ]
  },
  {
   "cell_type": "code",
   "execution_count": 128,
   "id": "4d908a55",
   "metadata": {},
   "outputs": [],
   "source": [
    "def avg_league_goals(row, matches):\n",
    "    league_id = row['league_id']\n",
    "    date = row['date']\n",
    "    season = row['season']\n",
    "    total_goals = match_df[match_df['league_id'] == league_id]\n",
    "    total_goals_to_date = total_goals[total_goals['date'] < date]\n",
    "    if total_goals_to_date.shape[0] == 0:\n",
    "        return [0, 0]\n",
    "    league_home_goals = total_goals_to_date['home_team_goal'].mean()\n",
    "    league_away_goals = total_goals_to_date['away_team_goal'].mean()\n",
    "    \n",
    "    return [league_home_goals, league_away_goals]"
   ]
  },
  {
   "cell_type": "code",
   "execution_count": 129,
   "id": "42871d9e",
   "metadata": {},
   "outputs": [],
   "source": [
    "fifa_data_df[['league_home_goals', 'league_away_goals']] = fifa_data_df.apply(lambda x: avg_league_goals(x, match_df), axis=1, result_type=\"expand\")"
   ]
  },
  {
   "cell_type": "code",
   "execution_count": 130,
   "id": "6bbb2db3",
   "metadata": {},
   "outputs": [],
   "source": [
    "def attack_strength(row, matches):\n",
    "    if not row['league_home_goals']:\n",
    "        return 0\n",
    "    else:\n",
    "        attack_strength = row['home_avg_goals'] / row['league_home_goals']\n",
    "    return attack_strength"
   ]
  },
  {
   "cell_type": "code",
   "execution_count": 131,
   "id": "a186eaa0",
   "metadata": {},
   "outputs": [],
   "source": [
    "fifa_data_df['attack_strength'] = fifa_data_df.apply(lambda x: attack_strength(x, match_df), axis=1, result_type=\"expand\")"
   ]
  },
  {
   "cell_type": "code",
   "execution_count": 132,
   "id": "0c3ae572",
   "metadata": {},
   "outputs": [],
   "source": [
    "def defense_strength(row, matches):\n",
    "    if not row['league_away_goals']:\n",
    "        return 0\n",
    "    else:\n",
    "        defense_strength = row['away_avg_goals'] / row['league_away_goals']\n",
    "    return defense_strength"
   ]
  },
  {
   "cell_type": "code",
   "execution_count": 133,
   "id": "149b57ab",
   "metadata": {},
   "outputs": [],
   "source": [
    "fifa_data_df['defense_strength'] = fifa_data_df.apply(lambda x: defense_strength(x, match_df), axis=1, result_type=\"expand\")"
   ]
  },
  {
   "cell_type": "code",
   "execution_count": 134,
   "id": "b51e1692",
   "metadata": {},
   "outputs": [
    {
     "data": {
      "text/html": [
       "<div>\n",
       "<style scoped>\n",
       "    .dataframe tbody tr th:only-of-type {\n",
       "        vertical-align: middle;\n",
       "    }\n",
       "\n",
       "    .dataframe tbody tr th {\n",
       "        vertical-align: top;\n",
       "    }\n",
       "\n",
       "    .dataframe thead th {\n",
       "        text-align: right;\n",
       "    }\n",
       "</style>\n",
       "<table border=\"1\" class=\"dataframe\">\n",
       "  <thead>\n",
       "    <tr style=\"text-align: right;\">\n",
       "      <th></th>\n",
       "      <th>home_player_1</th>\n",
       "      <th>home_player_2</th>\n",
       "      <th>home_player_3</th>\n",
       "      <th>home_player_4</th>\n",
       "      <th>home_player_5</th>\n",
       "      <th>home_player_6</th>\n",
       "      <th>home_player_7</th>\n",
       "      <th>home_player_8</th>\n",
       "      <th>home_player_9</th>\n",
       "      <th>home_player_10</th>\n",
       "      <th>home_player_11</th>\n",
       "      <th>away_player_1</th>\n",
       "      <th>away_player_2</th>\n",
       "      <th>away_player_3</th>\n",
       "      <th>away_player_4</th>\n",
       "      <th>away_player_5</th>\n",
       "      <th>away_player_6</th>\n",
       "      <th>away_player_7</th>\n",
       "      <th>away_player_8</th>\n",
       "      <th>away_player_9</th>\n",
       "      <th>away_player_10</th>\n",
       "      <th>away_player_11</th>\n",
       "      <th>match_api_id</th>\n",
       "      <th>home_team_goal</th>\n",
       "      <th>away_team_goal</th>\n",
       "      <th>home_team_res</th>\n",
       "      <th>league_id</th>\n",
       "      <th>season</th>\n",
       "      <th>date</th>\n",
       "      <th>home_formation</th>\n",
       "      <th>away_formation</th>\n",
       "      <th>bookie_home</th>\n",
       "      <th>bookie_draw</th>\n",
       "      <th>bookie_away</th>\n",
       "      <th>home_team_won_to_date</th>\n",
       "      <th>away_team_won_to_date</th>\n",
       "      <th>home_team_between_won_to_date</th>\n",
       "      <th>away_team_between_won_to_date</th>\n",
       "      <th>home_total_goals</th>\n",
       "      <th>away_total_goals</th>\n",
       "      <th>home_avg_goals</th>\n",
       "      <th>away_avg_goals</th>\n",
       "      <th>avg_home_conceled_goals</th>\n",
       "      <th>avg_away_conceled_goals</th>\n",
       "      <th>league_home_goals</th>\n",
       "      <th>league_away_goals</th>\n",
       "      <th>attack_strength</th>\n",
       "      <th>defense_strength</th>\n",
       "    </tr>\n",
       "  </thead>\n",
       "  <tbody>\n",
       "    <tr>\n",
       "      <th>3194</th>\n",
       "      <td>83.0</td>\n",
       "      <td>82.0</td>\n",
       "      <td>86.0</td>\n",
       "      <td>80.0</td>\n",
       "      <td>78.0</td>\n",
       "      <td>84.0</td>\n",
       "      <td>86.0</td>\n",
       "      <td>79.0</td>\n",
       "      <td>87.0</td>\n",
       "      <td>83.0</td>\n",
       "      <td>83.0</td>\n",
       "      <td>73.0</td>\n",
       "      <td>74.0</td>\n",
       "      <td>75.0</td>\n",
       "      <td>71.0</td>\n",
       "      <td>70.0</td>\n",
       "      <td>78.0</td>\n",
       "      <td>72.0</td>\n",
       "      <td>70.0</td>\n",
       "      <td>72.0</td>\n",
       "      <td>73.0</td>\n",
       "      <td>74.0</td>\n",
       "      <td>1474928.0</td>\n",
       "      <td>4</td>\n",
       "      <td>2</td>\n",
       "      <td>Win</td>\n",
       "      <td>1729</td>\n",
       "      <td>2013/2014</td>\n",
       "      <td>2014-01-18 00:00:00</td>\n",
       "      <td>442</td>\n",
       "      <td>4141</td>\n",
       "      <td>0.885035</td>\n",
       "      <td>0.120381</td>\n",
       "      <td>0.050666</td>\n",
       "      <td>80</td>\n",
       "      <td>13</td>\n",
       "      <td>0</td>\n",
       "      <td>0</td>\n",
       "      <td>249</td>\n",
       "      <td>83</td>\n",
       "      <td>2.371429</td>\n",
       "      <td>0.790476</td>\n",
       "      <td>0.6</td>\n",
       "      <td>3.8</td>\n",
       "      <td>1.567773</td>\n",
       "      <td>1.156872</td>\n",
       "      <td>1.51261</td>\n",
       "      <td>0.683287</td>\n",
       "    </tr>\n",
       "  </tbody>\n",
       "</table>\n",
       "</div>"
      ],
      "text/plain": [
       "      home_player_1  home_player_2  home_player_3  home_player_4  \\\n",
       "3194           83.0           82.0           86.0           80.0   \n",
       "\n",
       "      home_player_5  home_player_6  home_player_7  home_player_8  \\\n",
       "3194           78.0           84.0           86.0           79.0   \n",
       "\n",
       "      home_player_9  home_player_10  home_player_11  away_player_1  \\\n",
       "3194           87.0            83.0            83.0           73.0   \n",
       "\n",
       "      away_player_2  away_player_3  away_player_4  away_player_5  \\\n",
       "3194           74.0           75.0           71.0           70.0   \n",
       "\n",
       "      away_player_6  away_player_7  away_player_8  away_player_9  \\\n",
       "3194           78.0           72.0           70.0           72.0   \n",
       "\n",
       "      away_player_10  away_player_11  match_api_id  home_team_goal  \\\n",
       "3194            73.0            74.0     1474928.0               4   \n",
       "\n",
       "      away_team_goal home_team_res  league_id     season                 date  \\\n",
       "3194               2           Win       1729  2013/2014  2014-01-18 00:00:00   \n",
       "\n",
       "     home_formation away_formation  bookie_home  bookie_draw  bookie_away  \\\n",
       "3194            442           4141     0.885035     0.120381     0.050666   \n",
       "\n",
       "      home_team_won_to_date  away_team_won_to_date  \\\n",
       "3194                     80                     13   \n",
       "\n",
       "      home_team_between_won_to_date  away_team_between_won_to_date  \\\n",
       "3194                              0                              0   \n",
       "\n",
       "      home_total_goals  away_total_goals  home_avg_goals  away_avg_goals  \\\n",
       "3194               249                83        2.371429        0.790476   \n",
       "\n",
       "      avg_home_conceled_goals  avg_away_conceled_goals  league_home_goals  \\\n",
       "3194                      0.6                      3.8           1.567773   \n",
       "\n",
       "      league_away_goals  attack_strength  defense_strength  \n",
       "3194           1.156872          1.51261          0.683287  "
      ]
     },
     "execution_count": 134,
     "metadata": {},
     "output_type": "execute_result"
    }
   ],
   "source": [
    "fifa_data_df.sample()"
   ]
  },
  {
   "cell_type": "code",
   "execution_count": null,
   "id": "3b26e272",
   "metadata": {},
   "outputs": [],
   "source": [
    "fifa_data_df"
   ]
  },
  {
   "cell_type": "code",
   "execution_count": 135,
   "id": "0c0fd37c",
   "metadata": {},
   "outputs": [],
   "source": [
    "fifa_data_df.dropna(inplace=True)"
   ]
  },
  {
   "cell_type": "markdown",
   "id": "209ebfcb",
   "metadata": {},
   "source": [
    "### Logistic regression"
   ]
  },
  {
   "cell_type": "code",
   "execution_count": 136,
   "id": "36a21344",
   "metadata": {},
   "outputs": [],
   "source": [
    "x = fifa_data_df\n",
    "x = x.drop(columns=[\n",
    "    'match_api_id', \n",
    "    'home_team_goal',\n",
    "    'away_team_goal',\n",
    "    'home_team_res', \n",
    "    'date', \n",
    "    'season',\n",
    "    'league_id', \n",
    "])\n",
    "\n",
    "y = fifa_data_df['home_team_res']\n",
    "\n",
    "X_train, X_test, y_train, y_test = train_test_split(x, y, test_size=0.3, random_state=11, stratify=y)\n",
    "\n",
    "scaler = StandardScaler()\n",
    "X_train = scaler.fit_transform(X_train)\n",
    "X_test = scaler.transform(X_test)"
   ]
  },
  {
   "cell_type": "code",
   "execution_count": 137,
   "id": "0ca3cab0",
   "metadata": {},
   "outputs": [
    {
     "data": {
      "text/plain": [
       "{'C': 0.001, 'solver': 'liblinear'}"
      ]
     },
     "execution_count": 137,
     "metadata": {},
     "output_type": "execute_result"
    }
   ],
   "source": [
    "parameters = [{'solver': ['newton-cg', 'lbfgs', 'liblinear', 'sag', 'saga'],\n",
    "              'C':[0.001, 0.01, 0.1, 1, 5, 10, 100]}]\n",
    "\n",
    "gridsearch = GridSearchCV(LogisticRegression(max_iter=1000), parameters)\n",
    "gridsearch.fit(X_train, y_train)\n",
    "gridsearch.best_params_"
   ]
  },
  {
   "cell_type": "code",
   "execution_count": 138,
   "id": "dc17289e",
   "metadata": {},
   "outputs": [
    {
     "name": "stdout",
     "output_type": "stream",
     "text": [
      "53.408480944712835 %\n"
     ]
    }
   ],
   "source": [
    "log_reg_model = LogisticRegression(solver = \"newton-cg\", penalty='none', C=0.1, random_state=11)\n",
    "log_reg_model.fit(X_train, y_train)\n",
    "y_pred_log = log_reg_model.predict(X_test)\n",
    "\n",
    "accuracy = accuracy_score(y_test, y_pred_log)\n",
    "r2_score = log_reg_model.score(X_test, y_test)\n",
    "print(r2_score*100,'%')"
   ]
  },
  {
   "cell_type": "code",
   "execution_count": 139,
   "id": "181227a9",
   "metadata": {},
   "outputs": [
    {
     "name": "stdout",
     "output_type": "stream",
     "text": [
      "CV:  0.5322892193098513\n"
     ]
    }
   ],
   "source": [
    "# Predicting Cross Validation Score\n",
    "cv_lr = cross_val_score(estimator = log_reg_model, X = X_train, y = y_train, cv = 10)\n",
    "print(\"CV: \", cv_lr.mean())"
   ]
  },
  {
   "cell_type": "code",
   "execution_count": 140,
   "id": "0bf80e5b",
   "metadata": {},
   "outputs": [
    {
     "data": {
      "image/png": "[encoded data removed]",
      "text/plain": [
       "<Figure size 432x288 with 2 Axes>"
      ]
     },
     "metadata": {
      "needs_background": "light"
     },
     "output_type": "display_data"
    }
   ],
   "source": [
    "ConfusionMatrixDisplay.from_predictions(y_test, y_pred_log, cmap='Blues')\n",
    "plt.show()"
   ]
  },
  {
   "cell_type": "code",
   "execution_count": 141,
   "id": "dbab5566",
   "metadata": {},
   "outputs": [
    {
     "name": "stdout",
     "output_type": "stream",
     "text": [
      "              precision    recall  f1-score   support\n",
      "\n",
      "        Draw       0.47      0.03      0.05      1404\n",
      "        Lose       0.50      0.51      0.51      1611\n",
      "         Win       0.55      0.82      0.66      2574\n",
      "\n",
      "    accuracy                           0.53      5589\n",
      "   macro avg       0.51      0.45      0.41      5589\n",
      "weighted avg       0.52      0.53      0.46      5589\n",
      "\n"
     ]
    }
   ],
   "source": [
    "print(classification_report(y_test, y_pred_log))"
   ]
  },
  {
   "cell_type": "markdown",
   "id": "86369bb0",
   "metadata": {},
   "source": [
    "### K-Nearest Neighbors (K-NN)"
   ]
  },
  {
   "cell_type": "code",
   "execution_count": 142,
   "id": "c4cd3299",
   "metadata": {},
   "outputs": [
    {
     "data": {
      "text/plain": [
       "{'n_neighbors': 91}"
      ]
     },
     "execution_count": 142,
     "metadata": {},
     "output_type": "execute_result"
    }
   ],
   "source": [
    "parameters = {\"n_neighbors\": range(1, 100)}\n",
    "gridsearch = GridSearchCV(KNeighborsClassifier(), parameters)\n",
    "gridsearch.fit(X_train, y_train)\n",
    "gridsearch.best_params_"
   ]
  },
  {
   "cell_type": "code",
   "execution_count": 143,
   "id": "269c2e99",
   "metadata": {},
   "outputs": [
    {
     "name": "stdout",
     "output_type": "stream",
     "text": [
      "50.796206834854175 %\n"
     ]
    }
   ],
   "source": [
    "knn_model = KNeighborsClassifier(n_neighbors=55).fit(X_train, y_train)\n",
    "y_pred_knn = gridsearch.predict(X_test)\n",
    "r2_score = knn_model.score(X_test, y_test)\n",
    "print(r2_score*100,'%')"
   ]
  },
  {
   "cell_type": "code",
   "execution_count": 144,
   "id": "6579f2a6",
   "metadata": {},
   "outputs": [
    {
     "name": "stdout",
     "output_type": "stream",
     "text": [
      "CV:  0.5181761414197534\n"
     ]
    }
   ],
   "source": [
    "# Predicting Cross Validation Score\n",
    "cv_knn = cross_val_score(estimator = knn_model, X = X_train, y = y_train, cv = 10)\n",
    "print(\"CV: \", cv_knn.mean())"
   ]
  },
  {
   "cell_type": "code",
   "execution_count": 145,
   "id": "01c26d08",
   "metadata": {
    "scrolled": true
   },
   "outputs": [
    {
     "name": "stdout",
     "output_type": "stream",
     "text": [
      "              precision    recall  f1-score   support\n",
      "\n",
      "        Draw       0.23      0.04      0.06      1404\n",
      "        Lose       0.50      0.44      0.47      1611\n",
      "         Win       0.53      0.82      0.65      2574\n",
      "\n",
      "    accuracy                           0.51      5589\n",
      "   macro avg       0.42      0.43      0.39      5589\n",
      "weighted avg       0.45      0.51      0.45      5589\n",
      "\n"
     ]
    }
   ],
   "source": [
    "print(classification_report(y_test, y_pred_knn))"
   ]
  },
  {
   "cell_type": "code",
   "execution_count": 146,
   "id": "1c959b36",
   "metadata": {
    "scrolled": true
   },
   "outputs": [
    {
     "data": {
      "image/png": "[encoded data removed]",
      "text/plain": [
       "<Figure size 432x288 with 2 Axes>"
      ]
     },
     "metadata": {
      "needs_background": "light"
     },
     "output_type": "display_data"
    }
   ],
   "source": [
    "ConfusionMatrixDisplay.from_predictions(y_test, y_pred_knn, cmap='Blues')\n",
    "plt.show()"
   ]
  },
  {
   "cell_type": "markdown",
   "id": "ddfe0fb4",
   "metadata": {},
   "source": [
    "### RandomForestClassifier"
   ]
  },
  {
   "cell_type": "code",
   "execution_count": 147,
   "id": "5e0505b3",
   "metadata": {
    "scrolled": false
   },
   "outputs": [
    {
     "name": "stdout",
     "output_type": "stream",
     "text": [
      "{'bootstrap': False, 'max_depth': 10, 'n_estimators': 500}\n"
     ]
    }
   ],
   "source": [
    "rfc = RandomForestClassifier(n_jobs=-1, n_estimators=50) \n",
    "\n",
    "param_grid = {\n",
    "    \"n_estimators\": [50, 100, 500, 1000],\n",
    "    \"max_depth\": [1, 5, 10, 25],\n",
    "    'bootstrap': [False, True]\n",
    "}\n",
    "\n",
    "CV_rfc = GridSearchCV(estimator=rfc, param_grid=param_grid, cv= 5)\n",
    "CV_rfc.fit(X_train, y_train)\n",
    "print(CV_rfc.best_params_)"
   ]
  },
  {
   "cell_type": "code",
   "execution_count": 148,
   "id": "4a843fe5",
   "metadata": {},
   "outputs": [
    {
     "name": "stdout",
     "output_type": "stream",
     "text": [
      "52.925389157273216 %\n"
     ]
    }
   ],
   "source": [
    "rf = RandomForestClassifier(max_depth=10, random_state=44, n_estimators=100, bootstrap = False).fit(X_train, y_train)\n",
    "y_pred_rf = rf.predict(X_test)\n",
    "r2_score = rf.score(X_test, y_test)\n",
    "print(r2_score*100,'%')"
   ]
  },
  {
   "cell_type": "code",
   "execution_count": 149,
   "id": "d3f7481c",
   "metadata": {},
   "outputs": [
    {
     "name": "stdout",
     "output_type": "stream",
     "text": [
      "CV:  0.5311386182900245\n"
     ]
    }
   ],
   "source": [
    "# Predicting Cross Validation Score\n",
    "cv_rf = cross_val_score(estimator = rf, X = X_train, y = y_train, cv = 10)\n",
    "print(\"CV: \", cv_rf.mean())"
   ]
  },
  {
   "cell_type": "code",
   "execution_count": 150,
   "id": "13705e63",
   "metadata": {
    "scrolled": true
   },
   "outputs": [
    {
     "name": "stdout",
     "output_type": "stream",
     "text": [
      "              precision    recall  f1-score   support\n",
      "\n",
      "        Draw       0.26      0.01      0.01      1404\n",
      "        Lose       0.50      0.49      0.49      1611\n",
      "         Win       0.54      0.84      0.66      2574\n",
      "\n",
      "    accuracy                           0.53      5589\n",
      "   macro avg       0.44      0.44      0.39      5589\n",
      "weighted avg       0.46      0.53      0.45      5589\n",
      "\n"
     ]
    }
   ],
   "source": [
    "print(classification_report(y_test, y_pred_rf))"
   ]
  },
  {
   "cell_type": "code",
   "execution_count": 151,
   "id": "c7d37d78",
   "metadata": {
    "scrolled": false
   },
   "outputs": [
    {
     "data": {
      "image/png": "[encoded data removed]",
      "text/plain": [
       "<Figure size 432x288 with 2 Axes>"
      ]
     },
     "metadata": {
      "needs_background": "light"
     },
     "output_type": "display_data"
    }
   ],
   "source": [
    "ConfusionMatrixDisplay.from_predictions(y_test, y_pred_rf, cmap='Blues')\n",
    "plt.show()"
   ]
  },
  {
   "cell_type": "markdown",
   "id": "d7a14113",
   "metadata": {},
   "source": [
    "### ExtraTreesClassifier"
   ]
  },
  {
   "cell_type": "code",
   "execution_count": 152,
   "id": "1096ec9d",
   "metadata": {},
   "outputs": [
    {
     "name": "stdout",
     "output_type": "stream",
     "text": [
      "51.47611379495437 %\n"
     ]
    }
   ],
   "source": [
    "extree = ExtraTreesClassifier().fit(X_train, y_train)\n",
    "y_pred_extree = extree.predict(X_test)\n",
    "r2_score = extree.score(X_test, y_test)\n",
    "print(r2_score*100,'%')"
   ]
  },
  {
   "cell_type": "code",
   "execution_count": 153,
   "id": "68bdd2f0",
   "metadata": {},
   "outputs": [
    {
     "name": "stdout",
     "output_type": "stream",
     "text": [
      "CV:  0.5190198174105062\n"
     ]
    }
   ],
   "source": [
    "# Predicting Cross Validation Score\n",
    "cv_extree = cross_val_score(estimator = extree, X = X_train, y = y_train, cv = 10)\n",
    "print(\"CV: \", cv_extree.mean())"
   ]
  },
  {
   "cell_type": "code",
   "execution_count": 154,
   "id": "435f73ef",
   "metadata": {
    "scrolled": true
   },
   "outputs": [
    {
     "name": "stdout",
     "output_type": "stream",
     "text": [
      "              precision    recall  f1-score   support\n",
      "\n",
      "        Draw       0.29      0.08      0.12      1404\n",
      "        Lose       0.49      0.47      0.48      1611\n",
      "         Win       0.55      0.78      0.64      2574\n",
      "\n",
      "    accuracy                           0.51      5589\n",
      "   macro avg       0.44      0.44      0.42      5589\n",
      "weighted avg       0.47      0.51      0.47      5589\n",
      "\n"
     ]
    }
   ],
   "source": [
    "print(classification_report(y_test, y_pred_extree))"
   ]
  },
  {
   "cell_type": "code",
   "execution_count": 155,
   "id": "bc43c5e4",
   "metadata": {
    "scrolled": false
   },
   "outputs": [
    {
     "data": {
      "image/png": "[encoded data removed]",
      "text/plain": [
       "<Figure size 432x288 with 2 Axes>"
      ]
     },
     "metadata": {
      "needs_background": "light"
     },
     "output_type": "display_data"
    }
   ],
   "source": [
    "ConfusionMatrixDisplay.from_predictions(y_test, y_pred_extree, cmap='Blues')\n",
    "plt.show()"
   ]
  },
  {
   "cell_type": "markdown",
   "id": "0380c49e",
   "metadata": {},
   "source": [
    "### SVM"
   ]
  },
  {
   "cell_type": "code",
   "execution_count": 156,
   "id": "e3faca88",
   "metadata": {},
   "outputs": [
    {
     "name": "stdout",
     "output_type": "stream",
     "text": [
      "52.71068169618894 %\n"
     ]
    }
   ],
   "source": [
    "svc = SVC().fit(X_train, y_train)\n",
    "y_pred_svc = svc.predict(X_test)\n",
    "r2_score = svc.score(X_test, y_test)\n",
    "print(r2_score*100,'%')"
   ]
  },
  {
   "cell_type": "code",
   "execution_count": 157,
   "id": "1fa3797a",
   "metadata": {},
   "outputs": [
    {
     "name": "stdout",
     "output_type": "stream",
     "text": [
      "CV:  0.5289144564925679\n"
     ]
    }
   ],
   "source": [
    "# Predicting Cross Validation Score\n",
    "cv_svc = cross_val_score(estimator = svc, X = X_train, y = y_train, cv = 10)\n",
    "print(\"CV: \", cv_svc.mean())"
   ]
  },
  {
   "cell_type": "code",
   "execution_count": 158,
   "id": "7ec77c16",
   "metadata": {},
   "outputs": [
    {
     "name": "stdout",
     "output_type": "stream",
     "text": [
      "              precision    recall  f1-score   support\n",
      "\n",
      "        Draw       0.44      0.01      0.03      1404\n",
      "        Lose       0.50      0.44      0.47      1611\n",
      "         Win       0.54      0.86      0.66      2574\n",
      "\n",
      "    accuracy                           0.53      5589\n",
      "   macro avg       0.49      0.44      0.39      5589\n",
      "weighted avg       0.50      0.53      0.45      5589\n",
      "\n"
     ]
    }
   ],
   "source": [
    "print(classification_report(y_test, y_pred_svc))"
   ]
  },
  {
   "cell_type": "code",
   "execution_count": 159,
   "id": "191c490f",
   "metadata": {
    "scrolled": true
   },
   "outputs": [
    {
     "data": {
      "image/png": "[encoded data removed]",
      "text/plain": [
       "<Figure size 432x288 with 2 Axes>"
      ]
     },
     "metadata": {
      "needs_background": "light"
     },
     "output_type": "display_data"
    }
   ],
   "source": [
    "ConfusionMatrixDisplay.from_predictions(y_test, y_pred_svc, cmap='Blues')\n",
    "plt.show()"
   ]
  },
  {
   "cell_type": "markdown",
   "id": "6398a7b4",
   "metadata": {},
   "source": [
    "### Naive Bayes"
   ]
  },
  {
   "cell_type": "code",
   "execution_count": 160,
   "id": "8f3e3885",
   "metadata": {},
   "outputs": [
    {
     "name": "stdout",
     "output_type": "stream",
     "text": [
      "46.78833422794775 %\n"
     ]
    }
   ],
   "source": [
    "naive_model = GaussianNB().fit(X_train, y_train)\n",
    "y_pred_naive = naive_model.predict(X_test)\n",
    "r2_score = naive_model.score(X_test, y_test)\n",
    "print(r2_score*100,'%')"
   ]
  },
  {
   "cell_type": "code",
   "execution_count": 161,
   "id": "c21fe2fb",
   "metadata": {},
   "outputs": [
    {
     "name": "stdout",
     "output_type": "stream",
     "text": [
      "CV:  0.47698839158336825\n"
     ]
    }
   ],
   "source": [
    "# Predicting Cross Validation Score\n",
    "cv_naive = cross_val_score(estimator = naive_model, X = X_train, y = y_train, cv = 10)\n",
    "print(\"CV: \", cv_naive.mean())"
   ]
  },
  {
   "cell_type": "code",
   "execution_count": 162,
   "id": "015c46eb",
   "metadata": {},
   "outputs": [
    {
     "name": "stdout",
     "output_type": "stream",
     "text": [
      "              precision    recall  f1-score   support\n",
      "\n",
      "        Draw       0.29      0.30      0.29      1404\n",
      "        Lose       0.44      0.58      0.50      1611\n",
      "         Win       0.62      0.49      0.55      2574\n",
      "\n",
      "    accuracy                           0.47      5589\n",
      "   macro avg       0.45      0.46      0.45      5589\n",
      "weighted avg       0.49      0.47      0.47      5589\n",
      "\n"
     ]
    }
   ],
   "source": [
    "print(classification_report(y_test, y_pred_naive))"
   ]
  },
  {
   "cell_type": "code",
   "execution_count": 163,
   "id": "e33aff52",
   "metadata": {
    "scrolled": true
   },
   "outputs": [
    {
     "data": {
      "image/png": "[encoded data removed]",
      "text/plain": [
       "<Figure size 432x288 with 2 Axes>"
      ]
     },
     "metadata": {
      "needs_background": "light"
     },
     "output_type": "display_data"
    }
   ],
   "source": [
    "ConfusionMatrixDisplay.from_predictions(y_test, y_pred_naive, cmap='Blues')\n",
    "plt.show()"
   ]
  },
  {
   "cell_type": "code",
   "execution_count": 164,
   "id": "4077c1a8",
   "metadata": {},
   "outputs": [
    {
     "data": {
      "image/png": "[encoded data removed]",
      "text/plain": [
       "<Figure size 432x288 with 1 Axes>"
      ]
     },
     "metadata": {
      "needs_background": "light"
     },
     "output_type": "display_data"
    }
   ],
   "source": [
    "models = [log_reg_model, knn_model, naive_model, svc, rf, extree]\n",
    "result = []\n",
    "results = pd.DataFrame(columns= [\"models\", \"accuracy\"])\n",
    "for x in models:\n",
    "    names = x.__class__.__name__\n",
    "    y_preds = x.predict(X_test)\n",
    "    accuracy = accuracy_score(y_test, y_preds)    \n",
    "    result = pd.DataFrame([[names, accuracy * 100]], columns= [\"models\", \"accuracy\"])\n",
    "    results = pd.concat([results, result])\n",
    "    \n",
    "ax = sns.barplot(x = \"accuracy\", y = \"models\", data = results, color = \"lightblue\")\n",
    "ax.bar_label(ax.containers[0], padding=-45)\n",
    "plt.xlabel(\"accuracy %\");"
   ]
  },
  {
   "cell_type": "code",
   "execution_count": 165,
   "id": "83806392",
   "metadata": {},
   "outputs": [
    {
     "data": {
      "image/png": "[encoded data removed]",
      "text/plain": [
       "<Figure size 432x288 with 1 Axes>"
      ]
     },
     "metadata": {
      "needs_background": "light"
     },
     "output_type": "display_data"
    }
   ],
   "source": [
    "models = [log_reg_model, knn_model, naive_model, svc, rf, extree]\n",
    "cv = [cv_lr, cv_knn, cv_naive, cv_svc, cv_rf, cv_extree]\n",
    "result = []\n",
    "results = pd.DataFrame(columns= [\"models\", \"cv\"])\n",
    "\n",
    "for model, cv in zip(models, cv):\n",
    "    name = model.__class__.__name__\n",
    "    result = pd.DataFrame([[name, cv.mean() * 100]], columns= [\"models\", \"cv\"])\n",
    "    results = pd.concat([results, result])\n",
    "\n",
    "ax = sns.barplot(x = \"cv\", y = \"models\", data = results, color = \"lightblue\")\n",
    "ax.bar_label(ax.containers[0], padding=-45)\n",
    "plt.xlabel(\"cross validation result %\");"
   ]
  },
  {
   "cell_type": "markdown",
   "id": "85825732",
   "metadata": {},
   "source": [
    "### Can we predict how many goals team will score in each match?"
   ]
  },
  {
   "cell_type": "markdown",
   "id": "f95cd136",
   "metadata": {},
   "source": [
    "We'll take the same dataset we made for match result prediction, but with some modifications."
   ]
  },
  {
   "cell_type": "code",
   "execution_count": 166,
   "id": "408550c2",
   "metadata": {},
   "outputs": [
    {
     "data": {
      "image/png": "[encoded data removed]",
      "text/plain": [
       "<Figure size 864x288 with 2 Axes>"
      ]
     },
     "metadata": {
      "needs_background": "light"
     },
     "output_type": "display_data"
    }
   ],
   "source": [
    "fig, ax = plt.subplots(1,2, figsize=(12,4))\n",
    "\n",
    "sns.boxplot(x=fifa_data_df.home_team_goal, ax=ax[0])\n",
    "sns.countplot(x=fifa_data_df.home_team_goal, ax=ax[1], color='#1F77B4')\n",
    "plt.show()"
   ]
  },
  {
   "cell_type": "code",
   "execution_count": 167,
   "id": "ef75beb8",
   "metadata": {},
   "outputs": [
    {
     "data": {
      "text/plain": [
       "count    18627.000000\n",
       "mean         1.557739\n",
       "std          1.303603\n",
       "min          0.000000\n",
       "25%          1.000000\n",
       "50%          1.000000\n",
       "75%          2.000000\n",
       "max         10.000000\n",
       "Name: home_team_goal, dtype: float64"
      ]
     },
     "execution_count": 167,
     "metadata": {},
     "output_type": "execute_result"
    }
   ],
   "source": [
    "fifa_data_df.home_team_goal.describe()"
   ]
  },
  {
   "cell_type": "markdown",
   "id": "2ccdd59d",
   "metadata": {},
   "source": [
    "From the plots and describe above we see that feature of home_team_goal has outliers. 75% of all matches not exceeded 2 goals."
   ]
  },
  {
   "cell_type": "markdown",
   "id": "71511be1",
   "metadata": {},
   "source": [
    "An outlier is a data point that lies outside the overall pattern in a distribution.\n",
    "\n",
    "A commonly used rule says that a data point is an outlier if it is more than $1.5·IQR$ above the third quartile or below the first quartile. Said differently, low outliers are below $ Q1 - 1,5·IQR$ and high outliers are above $Q3 + 1.5·IQR$"
   ]
  },
  {
   "cell_type": "code",
   "execution_count": 168,
   "id": "303fbbb2",
   "metadata": {},
   "outputs": [],
   "source": [
    "def num_of_outliers(dataset, features, limit):\n",
    "    outliers = []\n",
    "    for col in features:\n",
    "        Q1 = dataset[col].quantile(0.25)\n",
    "        Q3 = dataset[col].quantile(0.75)\n",
    "        IQR = Q3 - Q1\n",
    "        outliers.extend(dataset[(dataset[col] < (Q1 - 1.5 * IQR)) | (dataset[col] > (Q3 + 1.5 * IQR))].index)\n",
    "    outliers = Counter(outliers)\n",
    "    filter_outliers = [index for index, count in outliers.items() if count >= limit]\n",
    "    return filter_outliers"
   ]
  },
  {
   "cell_type": "code",
   "execution_count": 169,
   "id": "07ec48ef",
   "metadata": {
    "scrolled": false
   },
   "outputs": [
    {
     "name": "stdout",
     "output_type": "stream",
     "text": [
      "Number of outliers: 1509\n"
     ]
    }
   ],
   "source": [
    "print(f\"Number of outliers: {len(num_of_outliers(fifa_data_df, fifa_data_df[['home_team_goal']].columns, 1))}\")"
   ]
  },
  {
   "cell_type": "code",
   "execution_count": 170,
   "id": "b01c6314",
   "metadata": {},
   "outputs": [],
   "source": [
    "fifa_data_no_outliers = fifa_data_df.drop(num_of_outliers(fifa_data_df, fifa_data_df[['home_team_goal']].columns, 1), axis = 0)"
   ]
  },
  {
   "cell_type": "code",
   "execution_count": 171,
   "id": "98387db5",
   "metadata": {},
   "outputs": [
    {
     "data": {
      "text/html": [
       "<div>\n",
       "<style scoped>\n",
       "    .dataframe tbody tr th:only-of-type {\n",
       "        vertical-align: middle;\n",
       "    }\n",
       "\n",
       "    .dataframe tbody tr th {\n",
       "        vertical-align: top;\n",
       "    }\n",
       "\n",
       "    .dataframe thead th {\n",
       "        text-align: right;\n",
       "    }\n",
       "</style>\n",
       "<table border=\"1\" class=\"dataframe\">\n",
       "  <thead>\n",
       "    <tr style=\"text-align: right;\">\n",
       "      <th></th>\n",
       "      <th>home_player_1</th>\n",
       "      <th>home_player_2</th>\n",
       "      <th>home_player_3</th>\n",
       "      <th>home_player_4</th>\n",
       "      <th>home_player_5</th>\n",
       "      <th>home_player_6</th>\n",
       "      <th>home_player_7</th>\n",
       "      <th>home_player_8</th>\n",
       "      <th>home_player_9</th>\n",
       "      <th>home_player_10</th>\n",
       "      <th>home_player_11</th>\n",
       "      <th>away_player_1</th>\n",
       "      <th>away_player_2</th>\n",
       "      <th>away_player_3</th>\n",
       "      <th>away_player_4</th>\n",
       "      <th>away_player_5</th>\n",
       "      <th>away_player_6</th>\n",
       "      <th>away_player_7</th>\n",
       "      <th>away_player_8</th>\n",
       "      <th>away_player_9</th>\n",
       "      <th>away_player_10</th>\n",
       "      <th>away_player_11</th>\n",
       "      <th>match_api_id</th>\n",
       "      <th>home_team_goal</th>\n",
       "      <th>away_team_goal</th>\n",
       "      <th>home_team_res</th>\n",
       "      <th>league_id</th>\n",
       "      <th>season</th>\n",
       "      <th>date</th>\n",
       "      <th>home_formation</th>\n",
       "      <th>away_formation</th>\n",
       "      <th>bookie_home</th>\n",
       "      <th>bookie_draw</th>\n",
       "      <th>bookie_away</th>\n",
       "      <th>home_team_won_to_date</th>\n",
       "      <th>away_team_won_to_date</th>\n",
       "      <th>home_team_between_won_to_date</th>\n",
       "      <th>away_team_between_won_to_date</th>\n",
       "      <th>home_total_goals</th>\n",
       "      <th>away_total_goals</th>\n",
       "      <th>home_avg_goals</th>\n",
       "      <th>away_avg_goals</th>\n",
       "      <th>avg_home_conceled_goals</th>\n",
       "      <th>avg_away_conceled_goals</th>\n",
       "      <th>league_home_goals</th>\n",
       "      <th>league_away_goals</th>\n",
       "      <th>attack_strength</th>\n",
       "      <th>defense_strength</th>\n",
       "    </tr>\n",
       "  </thead>\n",
       "  <tbody>\n",
       "    <tr>\n",
       "      <th>1267</th>\n",
       "      <td>83.0</td>\n",
       "      <td>77.0</td>\n",
       "      <td>74.0</td>\n",
       "      <td>78.0</td>\n",
       "      <td>72.0</td>\n",
       "      <td>75.0</td>\n",
       "      <td>73.0</td>\n",
       "      <td>67.0</td>\n",
       "      <td>73.0</td>\n",
       "      <td>76.0</td>\n",
       "      <td>78.0</td>\n",
       "      <td>73.0</td>\n",
       "      <td>70.0</td>\n",
       "      <td>69.0</td>\n",
       "      <td>69.0</td>\n",
       "      <td>69.0</td>\n",
       "      <td>65.0</td>\n",
       "      <td>67.0</td>\n",
       "      <td>74.0</td>\n",
       "      <td>75.0</td>\n",
       "      <td>74.0</td>\n",
       "      <td>76.0</td>\n",
       "      <td>489178.0</td>\n",
       "      <td>2</td>\n",
       "      <td>2</td>\n",
       "      <td>Draw</td>\n",
       "      <td>1729</td>\n",
       "      <td>2008/2009</td>\n",
       "      <td>2008-11-22 00:00:00</td>\n",
       "      <td>442</td>\n",
       "      <td>4312</td>\n",
       "      <td>0.554377</td>\n",
       "      <td>0.294534</td>\n",
       "      <td>0.230966</td>\n",
       "      <td>3</td>\n",
       "      <td>2</td>\n",
       "      <td>0</td>\n",
       "      <td>0</td>\n",
       "      <td>8</td>\n",
       "      <td>6</td>\n",
       "      <td>1.333333</td>\n",
       "      <td>1.0</td>\n",
       "      <td>1.0</td>\n",
       "      <td>1.333333</td>\n",
       "      <td>1.44186</td>\n",
       "      <td>1.286822</td>\n",
       "      <td>0.924731</td>\n",
       "      <td>0.777108</td>\n",
       "    </tr>\n",
       "  </tbody>\n",
       "</table>\n",
       "</div>"
      ],
      "text/plain": [
       "      home_player_1  home_player_2  home_player_3  home_player_4  \\\n",
       "1267           83.0           77.0           74.0           78.0   \n",
       "\n",
       "      home_player_5  home_player_6  home_player_7  home_player_8  \\\n",
       "1267           72.0           75.0           73.0           67.0   \n",
       "\n",
       "      home_player_9  home_player_10  home_player_11  away_player_1  \\\n",
       "1267           73.0            76.0            78.0           73.0   \n",
       "\n",
       "      away_player_2  away_player_3  away_player_4  away_player_5  \\\n",
       "1267           70.0           69.0           69.0           69.0   \n",
       "\n",
       "      away_player_6  away_player_7  away_player_8  away_player_9  \\\n",
       "1267           65.0           67.0           74.0           75.0   \n",
       "\n",
       "      away_player_10  away_player_11  match_api_id  home_team_goal  \\\n",
       "1267            74.0            76.0      489178.0               2   \n",
       "\n",
       "      away_team_goal home_team_res  league_id     season                 date  \\\n",
       "1267               2          Draw       1729  2008/2009  2008-11-22 00:00:00   \n",
       "\n",
       "     home_formation away_formation  bookie_home  bookie_draw  bookie_away  \\\n",
       "1267            442           4312     0.554377     0.294534     0.230966   \n",
       "\n",
       "      home_team_won_to_date  away_team_won_to_date  \\\n",
       "1267                      3                      2   \n",
       "\n",
       "      home_team_between_won_to_date  away_team_between_won_to_date  \\\n",
       "1267                              0                              0   \n",
       "\n",
       "      home_total_goals  away_total_goals  home_avg_goals  away_avg_goals  \\\n",
       "1267                 8                 6        1.333333             1.0   \n",
       "\n",
       "      avg_home_conceled_goals  avg_away_conceled_goals  league_home_goals  \\\n",
       "1267                      1.0                 1.333333            1.44186   \n",
       "\n",
       "      league_away_goals  attack_strength  defense_strength  \n",
       "1267           1.286822         0.924731          0.777108  "
      ]
     },
     "execution_count": 171,
     "metadata": {},
     "output_type": "execute_result"
    }
   ],
   "source": [
    "fifa_data_no_outliers.sample()"
   ]
  },
  {
   "cell_type": "markdown",
   "id": "4f48f964",
   "metadata": {},
   "source": [
    "### Logistic regression"
   ]
  },
  {
   "cell_type": "code",
   "execution_count": 172,
   "id": "49ee7c7a",
   "metadata": {},
   "outputs": [],
   "source": [
    "x = fifa_data_no_outliers.drop(columns=[\n",
    "    'match_api_id', \n",
    "    'home_team_goal', \n",
    "    'away_team_goal', \n",
    "    'home_team_res',\n",
    "    'date', \n",
    "    'season', \n",
    "    'home_formation', \n",
    "    'away_formation'\n",
    "])\n",
    "y = fifa_data_no_outliers['home_team_goal']\n",
    "\n",
    "X_train2, X_test2, y_train2, y_test2 = train_test_split(x, y, test_size=0.2, random_state=11, stratify=y)\n",
    "\n",
    "scaler = StandardScaler()\n",
    "X_train2 = scaler.fit_transform(X_train2)\n",
    "X_test2 = scaler.transform(X_test2)"
   ]
  },
  {
   "cell_type": "code",
   "execution_count": 173,
   "id": "78818798",
   "metadata": {},
   "outputs": [
    {
     "data": {
      "text/plain": [
       "{'C': 0.001, 'solver': 'liblinear'}"
      ]
     },
     "execution_count": 173,
     "metadata": {},
     "output_type": "execute_result"
    }
   ],
   "source": [
    "parameters = [{'solver': ['newton-cg', 'lbfgs', 'liblinear', 'sag', 'saga'],\n",
    "              'C':[0.001, 0.01, 0.1, 1, 5, 10, 100]}]\n",
    "\n",
    "gridsearch = GridSearchCV(LogisticRegression(max_iter=1000), parameters)\n",
    "gridsearch.fit(X_train2, y_train2)\n",
    "gridsearch.best_params_"
   ]
  },
  {
   "cell_type": "code",
   "execution_count": 174,
   "id": "8479ac11",
   "metadata": {},
   "outputs": [
    {
     "name": "stdout",
     "output_type": "stream",
     "text": [
      "36.56542056074766 %\n"
     ]
    }
   ],
   "source": [
    "log_reg_model2 = LogisticRegression(C=0.001, solver='liblinear' ,random_state=12)\n",
    "\n",
    "log_reg_model2.fit(X_train2, y_train2)\n",
    "\n",
    "y_pred_log = log_reg_model2.predict(X_test2)\n",
    "r2_score = log_reg_model2.score(X_test2, y_test2)\n",
    "print(r2_score*100,'%')"
   ]
  },
  {
   "cell_type": "code",
   "execution_count": 175,
   "id": "9a4d3cae",
   "metadata": {},
   "outputs": [
    {
     "data": {
      "image/png": "[encoded data removed]",
      "text/plain": [
       "<Figure size 432x288 with 2 Axes>"
      ]
     },
     "metadata": {
      "needs_background": "light"
     },
     "output_type": "display_data"
    }
   ],
   "source": [
    "ConfusionMatrixDisplay.from_predictions(y_test2, y_pred_log, cmap='Blues')\n",
    "plt.show()"
   ]
  },
  {
   "cell_type": "code",
   "execution_count": 176,
   "id": "4921c88c",
   "metadata": {},
   "outputs": [
    {
     "name": "stdout",
     "output_type": "stream",
     "text": [
      "              precision    recall  f1-score   support\n",
      "\n",
      "           0       0.40      0.21      0.28       834\n",
      "           1       0.37      0.68      0.48      1201\n",
      "           2       0.34      0.27      0.30       914\n",
      "           3       0.47      0.01      0.03       475\n",
      "\n",
      "    accuracy                           0.37      3424\n",
      "   macro avg       0.39      0.30      0.27      3424\n",
      "weighted avg       0.38      0.37      0.32      3424\n",
      "\n"
     ]
    }
   ],
   "source": [
    "print(classification_report(y_test2, y_pred_log))"
   ]
  },
  {
   "cell_type": "markdown",
   "id": "e2620590",
   "metadata": {},
   "source": [
    "### K-NN"
   ]
  },
  {
   "cell_type": "code",
   "execution_count": 177,
   "id": "b12ab344",
   "metadata": {},
   "outputs": [
    {
     "data": {
      "text/plain": [
       "{'n_neighbors': 98}"
      ]
     },
     "execution_count": 177,
     "metadata": {},
     "output_type": "execute_result"
    }
   ],
   "source": [
    "parameters = {\"n_neighbors\": range(1, 100)}\n",
    "gridsearch = GridSearchCV(KNeighborsClassifier(), parameters)\n",
    "gridsearch.fit(X_train2, y_train2)\n",
    "gridsearch.best_params_"
   ]
  },
  {
   "cell_type": "code",
   "execution_count": 178,
   "id": "dafd6f45",
   "metadata": {},
   "outputs": [
    {
     "name": "stdout",
     "output_type": "stream",
     "text": [
      "35.251168224299064 %\n"
     ]
    }
   ],
   "source": [
    "knn_model2 = KNeighborsClassifier(n_neighbors=98).fit(X_train2, y_train2)\n",
    "y_pred_knn2 = knn_model2.predict(X_test2)\n",
    "r2_score = knn_model2.score(X_test2, y_test2)\n",
    "print(r2_score*100,'%')"
   ]
  },
  {
   "cell_type": "code",
   "execution_count": 179,
   "id": "85bbed80",
   "metadata": {
    "scrolled": true
   },
   "outputs": [
    {
     "name": "stdout",
     "output_type": "stream",
     "text": [
      "              precision    recall  f1-score   support\n",
      "\n",
      "           0       0.37      0.17      0.23       834\n",
      "           1       0.36      0.74      0.48      1201\n",
      "           2       0.31      0.19      0.24       914\n",
      "           3       0.19      0.01      0.02       475\n",
      "\n",
      "    accuracy                           0.35      3424\n",
      "   macro avg       0.31      0.28      0.24      3424\n",
      "weighted avg       0.33      0.35      0.29      3424\n",
      "\n"
     ]
    }
   ],
   "source": [
    "print(classification_report(y_test2, y_pred_knn2))"
   ]
  },
  {
   "cell_type": "code",
   "execution_count": 180,
   "id": "580761b8",
   "metadata": {
    "scrolled": true
   },
   "outputs": [
    {
     "data": {
      "image/png": "[encoded data removed]",
      "text/plain": [
       "<Figure size 432x288 with 2 Axes>"
      ]
     },
     "metadata": {
      "needs_background": "light"
     },
     "output_type": "display_data"
    }
   ],
   "source": [
    "ConfusionMatrixDisplay.from_predictions(y_test2, y_pred_knn2, cmap='Blues')\n",
    "plt.show()"
   ]
  },
  {
   "cell_type": "markdown",
   "id": "3588044d",
   "metadata": {},
   "source": [
    "### RandomForestClassifier"
   ]
  },
  {
   "cell_type": "code",
   "execution_count": 181,
   "id": "ec632719",
   "metadata": {
    "scrolled": false
   },
   "outputs": [
    {
     "name": "stdout",
     "output_type": "stream",
     "text": [
      "{'bootstrap': True, 'max_depth': 10, 'n_estimators': 500}\n"
     ]
    }
   ],
   "source": [
    "rfc = RandomForestClassifier(n_jobs=-1, n_estimators=50) \n",
    "\n",
    "param_grid = {\n",
    "    \"n_estimators\": [50, 100, 500, 1000],\n",
    "    \"max_depth\": [1, 5, 10, 25],\n",
    "    'bootstrap': [False, True]\n",
    "}\n",
    "\n",
    "CV_rfc = GridSearchCV(estimator=rfc, param_grid=param_grid, cv= 5)\n",
    "CV_rfc.fit(X_train2, y_train2)\n",
    "print(CV_rfc.best_params_)"
   ]
  },
  {
   "cell_type": "code",
   "execution_count": 182,
   "id": "ec43f556",
   "metadata": {},
   "outputs": [
    {
     "name": "stdout",
     "output_type": "stream",
     "text": [
      "36.74065420560748 %\n"
     ]
    }
   ],
   "source": [
    "rf2 = RandomForestClassifier(max_depth=10, random_state=44, n_estimators=500, bootstrap = False).fit(X_train2, y_train2)\n",
    "y_pred_rf2 = rf2.predict(X_test2)\n",
    "r2_score = rf2.score(X_test2, y_test2)\n",
    "print(r2_score*100,'%')"
   ]
  },
  {
   "cell_type": "code",
   "execution_count": 183,
   "id": "b7e1ecf6",
   "metadata": {
    "scrolled": true
   },
   "outputs": [
    {
     "name": "stdout",
     "output_type": "stream",
     "text": [
      "              precision    recall  f1-score   support\n",
      "\n",
      "           0       0.42      0.18      0.25       834\n",
      "           1       0.37      0.72      0.49      1201\n",
      "           2       0.33      0.25      0.29       914\n",
      "           3       0.37      0.03      0.06       475\n",
      "\n",
      "    accuracy                           0.37      3424\n",
      "   macro avg       0.37      0.30      0.27      3424\n",
      "weighted avg       0.37      0.37      0.32      3424\n",
      "\n"
     ]
    }
   ],
   "source": [
    "print(classification_report(y_test2, y_pred_rf2))"
   ]
  },
  {
   "cell_type": "code",
   "execution_count": 184,
   "id": "1dcf6cdf",
   "metadata": {
    "scrolled": true
   },
   "outputs": [
    {
     "data": {
      "image/png": "[encoded data removed]",
      "text/plain": [
       "<Figure size 432x288 with 2 Axes>"
      ]
     },
     "metadata": {
      "needs_background": "light"
     },
     "output_type": "display_data"
    }
   ],
   "source": [
    "ConfusionMatrixDisplay.from_predictions(y_test2, y_pred_rf2, cmap='Blues')\n",
    "plt.show()"
   ]
  },
  {
   "cell_type": "markdown",
   "id": "784d6b92",
   "metadata": {},
   "source": [
    "### SVM"
   ]
  },
  {
   "cell_type": "code",
   "execution_count": 185,
   "id": "ae5da876",
   "metadata": {},
   "outputs": [
    {
     "name": "stdout",
     "output_type": "stream",
     "text": [
      "36.56542056074766 %\n"
     ]
    }
   ],
   "source": [
    "svc2 = SVC().fit(X_train2, y_train2)\n",
    "y_pred_svc2 = svc2.predict(X_test2)\n",
    "r2_score = svc2.score(X_test2, y_test2)\n",
    "print(r2_score*100,'%')"
   ]
  },
  {
   "cell_type": "code",
   "execution_count": 186,
   "id": "2be8f887",
   "metadata": {},
   "outputs": [
    {
     "name": "stdout",
     "output_type": "stream",
     "text": [
      "              precision    recall  f1-score   support\n",
      "\n",
      "           0       0.41      0.15      0.22       834\n",
      "           1       0.37      0.77      0.50      1201\n",
      "           2       0.33      0.22      0.26       914\n",
      "           3       0.32      0.01      0.02       475\n",
      "\n",
      "    accuracy                           0.37      3424\n",
      "   macro avg       0.36      0.29      0.25      3424\n",
      "weighted avg       0.36      0.37      0.30      3424\n",
      "\n"
     ]
    }
   ],
   "source": [
    "print(classification_report(y_test2, y_pred_svc2))"
   ]
  },
  {
   "cell_type": "code",
   "execution_count": 187,
   "id": "2cdf8768",
   "metadata": {
    "scrolled": true
   },
   "outputs": [
    {
     "data": {
      "image/png": "[encoded data removed]",
      "text/plain": [
       "<Figure size 432x288 with 2 Axes>"
      ]
     },
     "metadata": {
      "needs_background": "light"
     },
     "output_type": "display_data"
    }
   ],
   "source": [
    "ConfusionMatrixDisplay.from_predictions(y_test2, y_pred_svc2, cmap='Blues')\n",
    "plt.show()"
   ]
  },
  {
   "cell_type": "markdown",
   "id": "e2a0b136",
   "metadata": {},
   "source": [
    "### Naive Bayes"
   ]
  },
  {
   "cell_type": "code",
   "execution_count": 188,
   "id": "7c50a1b9",
   "metadata": {},
   "outputs": [
    {
     "name": "stdout",
     "output_type": "stream",
     "text": [
      "32.447429906542055 %\n"
     ]
    }
   ],
   "source": [
    "naive_model2 = GaussianNB().fit(X_train2, y_train2)\n",
    "y_pred_naive2 = naive_model2.predict(X_test2)\n",
    "r2_score = naive_model2.score(X_test2, y_test2)\n",
    "print(r2_score*100,'%')"
   ]
  },
  {
   "cell_type": "code",
   "execution_count": 189,
   "id": "e9d2d450",
   "metadata": {},
   "outputs": [
    {
     "name": "stdout",
     "output_type": "stream",
     "text": [
      "              precision    recall  f1-score   support\n",
      "\n",
      "           0       0.34      0.48      0.40       834\n",
      "           1       0.36      0.34      0.35      1201\n",
      "           2       0.31      0.11      0.16       914\n",
      "           3       0.25      0.43      0.32       475\n",
      "\n",
      "    accuracy                           0.32      3424\n",
      "   macro avg       0.32      0.34      0.31      3424\n",
      "weighted avg       0.33      0.32      0.31      3424\n",
      "\n"
     ]
    }
   ],
   "source": [
    "print(classification_report(y_test2, y_pred_naive2))"
   ]
  },
  {
   "cell_type": "code",
   "execution_count": 190,
   "id": "5051b36b",
   "metadata": {
    "scrolled": false
   },
   "outputs": [
    {
     "data": {
      "image/png": "[encoded data removed]",
      "text/plain": [
       "<Figure size 432x288 with 2 Axes>"
      ]
     },
     "metadata": {
      "needs_background": "light"
     },
     "output_type": "display_data"
    }
   ],
   "source": [
    "ConfusionMatrixDisplay.from_predictions(y_test2, y_pred_naive2, cmap='Blues')\n",
    "plt.show()"
   ]
  },
  {
   "cell_type": "code",
   "execution_count": 191,
   "id": "97f60cc1",
   "metadata": {},
   "outputs": [
    {
     "data": {
      "image/png": "[encoded data removed]",
      "text/plain": [
       "<Figure size 432x288 with 1 Axes>"
      ]
     },
     "metadata": {
      "needs_background": "light"
     },
     "output_type": "display_data"
    }
   ],
   "source": [
    "models = [log_reg_model2, knn_model2, naive_model2, svc2, rf2]\n",
    "result = []\n",
    "results = pd.DataFrame(columns= [\"models\", \"accuracy\"])\n",
    "for x in models:\n",
    "    names = x.__class__.__name__\n",
    "    y_preds = x.predict(X_test2)\n",
    "    accuracy = accuracy_score(y_test2, y_preds)    \n",
    "    result = pd.DataFrame([[names, accuracy * 100]], columns= [\"models\", \"accuracy\"])\n",
    "    results = pd.concat([results, result])\n",
    "    \n",
    "ax = sns.barplot(x = \"accuracy\", y = \"models\", data = results, color = \"lightblue\")\n",
    "ax.bar_label(ax.containers[0], padding=-45)\n",
    "plt.xlabel(\"accuracy %\");"
   ]
  },
  {
   "cell_type": "markdown",
   "id": "c73555d9",
   "metadata": {},
   "source": [
    "## Conclusions"
   ]
  },
  {
   "cell_type": "markdown",
   "id": "02ca02f3",
   "metadata": {},
   "source": [
    "Predicting the football game is difficult. To predict a Draw game is even more difficult. The seemingly stronger team will not necessarily win and may end up in a Draw for a variety of reasons. Result of the match could be influenced by hundreds of things, some of them aren't even measurable. As we saw earlier even bookmakers are far from perfect, but nevertheless I'm happy with the result. Another thing is predicting the number of goals. Desirable performance could be much more better.\n",
    "\n",
    "I think predictions could be improved with additional data sources (like team avg. possesion of the ball, chance of receiving penalty during the game etc.). There is much more data that could be aggregated and included."
   ]
  }
 ],
 "metadata": {
  "hide_input": false,
  "kernelspec": {
   "display_name": "Python 3 (ipykernel)",
   "language": "python",
   "name": "python3"
  },
  "language_info": {
   "codemirror_mode": {
    "name": "ipython",
    "version": 3
   },
   "file_extension": ".py",
   "mimetype": "text/x-python",
   "name": "python",
   "nbconvert_exporter": "python",
   "pygments_lexer": "ipython3",
   "version": "3.9.7"
  }
 },
 "nbformat": 4,
 "nbformat_minor": 5
}
